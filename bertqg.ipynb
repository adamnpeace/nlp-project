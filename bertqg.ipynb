{
  "nbformat": 4,
  "nbformat_minor": 5,
  "metadata": {
    "accelerator": "GPU",
    "colab": {
      "name": "bertqg.ipynb",
      "provenance": []
    },
    "kernelspec": {
      "name": "python3",
      "display_name": "Python 3"
    },
    "language_info": {
      "name": "python"
    },
    "widgets": {
      "application/vnd.jupyter.widget-state+json": {
        "4621b4edca7f490794d21015ebf119bb": {
          "model_module": "@jupyter-widgets/controls",
          "model_name": "HBoxModel",
          "state": {
            "_view_name": "HBoxView",
            "_dom_classes": [],
            "_model_name": "HBoxModel",
            "_view_module": "@jupyter-widgets/controls",
            "_model_module_version": "1.5.0",
            "_view_count": null,
            "_view_module_version": "1.5.0",
            "box_style": "",
            "layout": "IPY_MODEL_94eb761f553d44d7abcc05e614fd7df6",
            "_model_module": "@jupyter-widgets/controls",
            "children": [
              "IPY_MODEL_8533b237f8904ef386473ba537f0ea6e",
              "IPY_MODEL_50c00276695449fe8b5662b7250f18d8"
            ]
          }
        },
        "94eb761f553d44d7abcc05e614fd7df6": {
          "model_module": "@jupyter-widgets/base",
          "model_name": "LayoutModel",
          "state": {
            "_view_name": "LayoutView",
            "grid_template_rows": null,
            "right": null,
            "justify_content": null,
            "_view_module": "@jupyter-widgets/base",
            "overflow": null,
            "_model_module_version": "1.2.0",
            "_view_count": null,
            "flex_flow": null,
            "width": null,
            "min_width": null,
            "border": null,
            "align_items": null,
            "bottom": null,
            "_model_module": "@jupyter-widgets/base",
            "top": null,
            "grid_column": null,
            "overflow_y": null,
            "overflow_x": null,
            "grid_auto_flow": null,
            "grid_area": null,
            "grid_template_columns": null,
            "flex": null,
            "_model_name": "LayoutModel",
            "justify_items": null,
            "grid_row": null,
            "max_height": null,
            "align_content": null,
            "visibility": null,
            "align_self": null,
            "height": null,
            "min_height": null,
            "padding": null,
            "grid_auto_rows": null,
            "grid_gap": null,
            "max_width": null,
            "order": null,
            "_view_module_version": "1.2.0",
            "grid_template_areas": null,
            "object_position": null,
            "object_fit": null,
            "grid_auto_columns": null,
            "margin": null,
            "display": null,
            "left": null
          }
        },
        "8533b237f8904ef386473ba537f0ea6e": {
          "model_module": "@jupyter-widgets/controls",
          "model_name": "FloatProgressModel",
          "state": {
            "_view_name": "ProgressView",
            "style": "IPY_MODEL_60e0bec5801940a691887b9612fbfd01",
            "_dom_classes": [],
            "description": "Downloading: 100%",
            "_model_name": "FloatProgressModel",
            "bar_style": "success",
            "max": 571,
            "_view_module": "@jupyter-widgets/controls",
            "_model_module_version": "1.5.0",
            "value": 571,
            "_view_count": null,
            "_view_module_version": "1.5.0",
            "orientation": "horizontal",
            "min": 0,
            "description_tooltip": null,
            "_model_module": "@jupyter-widgets/controls",
            "layout": "IPY_MODEL_37c114a43f474a48b463677407c12d46"
          }
        },
        "50c00276695449fe8b5662b7250f18d8": {
          "model_module": "@jupyter-widgets/controls",
          "model_name": "HTMLModel",
          "state": {
            "_view_name": "HTMLView",
            "style": "IPY_MODEL_e075b8b5bc1b49a88008e8a2cd14e93e",
            "_dom_classes": [],
            "description": "",
            "_model_name": "HTMLModel",
            "placeholder": "​",
            "_view_module": "@jupyter-widgets/controls",
            "_model_module_version": "1.5.0",
            "value": " 571/571 [00:29&lt;00:00, 19.2B/s]",
            "_view_count": null,
            "_view_module_version": "1.5.0",
            "description_tooltip": null,
            "_model_module": "@jupyter-widgets/controls",
            "layout": "IPY_MODEL_577a8f558190479292d94765c77dcb2e"
          }
        },
        "60e0bec5801940a691887b9612fbfd01": {
          "model_module": "@jupyter-widgets/controls",
          "model_name": "ProgressStyleModel",
          "state": {
            "_view_name": "StyleView",
            "_model_name": "ProgressStyleModel",
            "description_width": "initial",
            "_view_module": "@jupyter-widgets/base",
            "_model_module_version": "1.5.0",
            "_view_count": null,
            "_view_module_version": "1.2.0",
            "bar_color": null,
            "_model_module": "@jupyter-widgets/controls"
          }
        },
        "37c114a43f474a48b463677407c12d46": {
          "model_module": "@jupyter-widgets/base",
          "model_name": "LayoutModel",
          "state": {
            "_view_name": "LayoutView",
            "grid_template_rows": null,
            "right": null,
            "justify_content": null,
            "_view_module": "@jupyter-widgets/base",
            "overflow": null,
            "_model_module_version": "1.2.0",
            "_view_count": null,
            "flex_flow": null,
            "width": null,
            "min_width": null,
            "border": null,
            "align_items": null,
            "bottom": null,
            "_model_module": "@jupyter-widgets/base",
            "top": null,
            "grid_column": null,
            "overflow_y": null,
            "overflow_x": null,
            "grid_auto_flow": null,
            "grid_area": null,
            "grid_template_columns": null,
            "flex": null,
            "_model_name": "LayoutModel",
            "justify_items": null,
            "grid_row": null,
            "max_height": null,
            "align_content": null,
            "visibility": null,
            "align_self": null,
            "height": null,
            "min_height": null,
            "padding": null,
            "grid_auto_rows": null,
            "grid_gap": null,
            "max_width": null,
            "order": null,
            "_view_module_version": "1.2.0",
            "grid_template_areas": null,
            "object_position": null,
            "object_fit": null,
            "grid_auto_columns": null,
            "margin": null,
            "display": null,
            "left": null
          }
        },
        "e075b8b5bc1b49a88008e8a2cd14e93e": {
          "model_module": "@jupyter-widgets/controls",
          "model_name": "DescriptionStyleModel",
          "state": {
            "_view_name": "StyleView",
            "_model_name": "DescriptionStyleModel",
            "description_width": "",
            "_view_module": "@jupyter-widgets/base",
            "_model_module_version": "1.5.0",
            "_view_count": null,
            "_view_module_version": "1.2.0",
            "_model_module": "@jupyter-widgets/controls"
          }
        },
        "577a8f558190479292d94765c77dcb2e": {
          "model_module": "@jupyter-widgets/base",
          "model_name": "LayoutModel",
          "state": {
            "_view_name": "LayoutView",
            "grid_template_rows": null,
            "right": null,
            "justify_content": null,
            "_view_module": "@jupyter-widgets/base",
            "overflow": null,
            "_model_module_version": "1.2.0",
            "_view_count": null,
            "flex_flow": null,
            "width": null,
            "min_width": null,
            "border": null,
            "align_items": null,
            "bottom": null,
            "_model_module": "@jupyter-widgets/base",
            "top": null,
            "grid_column": null,
            "overflow_y": null,
            "overflow_x": null,
            "grid_auto_flow": null,
            "grid_area": null,
            "grid_template_columns": null,
            "flex": null,
            "_model_name": "LayoutModel",
            "justify_items": null,
            "grid_row": null,
            "max_height": null,
            "align_content": null,
            "visibility": null,
            "align_self": null,
            "height": null,
            "min_height": null,
            "padding": null,
            "grid_auto_rows": null,
            "grid_gap": null,
            "max_width": null,
            "order": null,
            "_view_module_version": "1.2.0",
            "grid_template_areas": null,
            "object_position": null,
            "object_fit": null,
            "grid_auto_columns": null,
            "margin": null,
            "display": null,
            "left": null
          }
        },
        "b23ec5ce59df405cb369eb2eaf77677f": {
          "model_module": "@jupyter-widgets/controls",
          "model_name": "HBoxModel",
          "state": {
            "_view_name": "HBoxView",
            "_dom_classes": [],
            "_model_name": "HBoxModel",
            "_view_module": "@jupyter-widgets/controls",
            "_model_module_version": "1.5.0",
            "_view_count": null,
            "_view_module_version": "1.5.0",
            "box_style": "",
            "layout": "IPY_MODEL_5d612323501a4eaf9e8a48fd18558413",
            "_model_module": "@jupyter-widgets/controls",
            "children": [
              "IPY_MODEL_2104de9285c94e068a39647c3ec41298",
              "IPY_MODEL_6817474fdf894115bed5ea7cb131d8cd"
            ]
          }
        },
        "5d612323501a4eaf9e8a48fd18558413": {
          "model_module": "@jupyter-widgets/base",
          "model_name": "LayoutModel",
          "state": {
            "_view_name": "LayoutView",
            "grid_template_rows": null,
            "right": null,
            "justify_content": null,
            "_view_module": "@jupyter-widgets/base",
            "overflow": null,
            "_model_module_version": "1.2.0",
            "_view_count": null,
            "flex_flow": null,
            "width": null,
            "min_width": null,
            "border": null,
            "align_items": null,
            "bottom": null,
            "_model_module": "@jupyter-widgets/base",
            "top": null,
            "grid_column": null,
            "overflow_y": null,
            "overflow_x": null,
            "grid_auto_flow": null,
            "grid_area": null,
            "grid_template_columns": null,
            "flex": null,
            "_model_name": "LayoutModel",
            "justify_items": null,
            "grid_row": null,
            "max_height": null,
            "align_content": null,
            "visibility": null,
            "align_self": null,
            "height": null,
            "min_height": null,
            "padding": null,
            "grid_auto_rows": null,
            "grid_gap": null,
            "max_width": null,
            "order": null,
            "_view_module_version": "1.2.0",
            "grid_template_areas": null,
            "object_position": null,
            "object_fit": null,
            "grid_auto_columns": null,
            "margin": null,
            "display": null,
            "left": null
          }
        },
        "2104de9285c94e068a39647c3ec41298": {
          "model_module": "@jupyter-widgets/controls",
          "model_name": "FloatProgressModel",
          "state": {
            "_view_name": "ProgressView",
            "style": "IPY_MODEL_16cc0976898b4879bf5946f514fcdce9",
            "_dom_classes": [],
            "description": "Downloading: 100%",
            "_model_name": "FloatProgressModel",
            "bar_style": "success",
            "max": 1344997306,
            "_view_module": "@jupyter-widgets/controls",
            "_model_module_version": "1.5.0",
            "value": 1344997306,
            "_view_count": null,
            "_view_module_version": "1.5.0",
            "orientation": "horizontal",
            "min": 0,
            "description_tooltip": null,
            "_model_module": "@jupyter-widgets/controls",
            "layout": "IPY_MODEL_3a2b21f862a94f889ddbc294f7bb7fee"
          }
        },
        "6817474fdf894115bed5ea7cb131d8cd": {
          "model_module": "@jupyter-widgets/controls",
          "model_name": "HTMLModel",
          "state": {
            "_view_name": "HTMLView",
            "style": "IPY_MODEL_326b59a89efe43d49c54c00ddb578e73",
            "_dom_classes": [],
            "description": "",
            "_model_name": "HTMLModel",
            "placeholder": "​",
            "_view_module": "@jupyter-widgets/controls",
            "_model_module_version": "1.5.0",
            "value": " 1.34G/1.34G [00:29&lt;00:00, 45.9MB/s]",
            "_view_count": null,
            "_view_module_version": "1.5.0",
            "description_tooltip": null,
            "_model_module": "@jupyter-widgets/controls",
            "layout": "IPY_MODEL_7b2200dc942f433499c9ac659038f346"
          }
        },
        "16cc0976898b4879bf5946f514fcdce9": {
          "model_module": "@jupyter-widgets/controls",
          "model_name": "ProgressStyleModel",
          "state": {
            "_view_name": "StyleView",
            "_model_name": "ProgressStyleModel",
            "description_width": "initial",
            "_view_module": "@jupyter-widgets/base",
            "_model_module_version": "1.5.0",
            "_view_count": null,
            "_view_module_version": "1.2.0",
            "bar_color": null,
            "_model_module": "@jupyter-widgets/controls"
          }
        },
        "3a2b21f862a94f889ddbc294f7bb7fee": {
          "model_module": "@jupyter-widgets/base",
          "model_name": "LayoutModel",
          "state": {
            "_view_name": "LayoutView",
            "grid_template_rows": null,
            "right": null,
            "justify_content": null,
            "_view_module": "@jupyter-widgets/base",
            "overflow": null,
            "_model_module_version": "1.2.0",
            "_view_count": null,
            "flex_flow": null,
            "width": null,
            "min_width": null,
            "border": null,
            "align_items": null,
            "bottom": null,
            "_model_module": "@jupyter-widgets/base",
            "top": null,
            "grid_column": null,
            "overflow_y": null,
            "overflow_x": null,
            "grid_auto_flow": null,
            "grid_area": null,
            "grid_template_columns": null,
            "flex": null,
            "_model_name": "LayoutModel",
            "justify_items": null,
            "grid_row": null,
            "max_height": null,
            "align_content": null,
            "visibility": null,
            "align_self": null,
            "height": null,
            "min_height": null,
            "padding": null,
            "grid_auto_rows": null,
            "grid_gap": null,
            "max_width": null,
            "order": null,
            "_view_module_version": "1.2.0",
            "grid_template_areas": null,
            "object_position": null,
            "object_fit": null,
            "grid_auto_columns": null,
            "margin": null,
            "display": null,
            "left": null
          }
        },
        "326b59a89efe43d49c54c00ddb578e73": {
          "model_module": "@jupyter-widgets/controls",
          "model_name": "DescriptionStyleModel",
          "state": {
            "_view_name": "StyleView",
            "_model_name": "DescriptionStyleModel",
            "description_width": "",
            "_view_module": "@jupyter-widgets/base",
            "_model_module_version": "1.5.0",
            "_view_count": null,
            "_view_module_version": "1.2.0",
            "_model_module": "@jupyter-widgets/controls"
          }
        },
        "7b2200dc942f433499c9ac659038f346": {
          "model_module": "@jupyter-widgets/base",
          "model_name": "LayoutModel",
          "state": {
            "_view_name": "LayoutView",
            "grid_template_rows": null,
            "right": null,
            "justify_content": null,
            "_view_module": "@jupyter-widgets/base",
            "overflow": null,
            "_model_module_version": "1.2.0",
            "_view_count": null,
            "flex_flow": null,
            "width": null,
            "min_width": null,
            "border": null,
            "align_items": null,
            "bottom": null,
            "_model_module": "@jupyter-widgets/base",
            "top": null,
            "grid_column": null,
            "overflow_y": null,
            "overflow_x": null,
            "grid_auto_flow": null,
            "grid_area": null,
            "grid_template_columns": null,
            "flex": null,
            "_model_name": "LayoutModel",
            "justify_items": null,
            "grid_row": null,
            "max_height": null,
            "align_content": null,
            "visibility": null,
            "align_self": null,
            "height": null,
            "min_height": null,
            "padding": null,
            "grid_auto_rows": null,
            "grid_gap": null,
            "max_width": null,
            "order": null,
            "_view_module_version": "1.2.0",
            "grid_template_areas": null,
            "object_position": null,
            "object_fit": null,
            "grid_auto_columns": null,
            "margin": null,
            "display": null,
            "left": null
          }
        },
        "8e5ad8edc0f74115985c8f37de08a471": {
          "model_module": "@jupyter-widgets/controls",
          "model_name": "HBoxModel",
          "state": {
            "_view_name": "HBoxView",
            "_dom_classes": [],
            "_model_name": "HBoxModel",
            "_view_module": "@jupyter-widgets/controls",
            "_model_module_version": "1.5.0",
            "_view_count": null,
            "_view_module_version": "1.5.0",
            "box_style": "",
            "layout": "IPY_MODEL_07372b34febc41c4a8821dc7b3eee611",
            "_model_module": "@jupyter-widgets/controls",
            "children": [
              "IPY_MODEL_42b3d26eff834c89b04d5f384e72f4d4",
              "IPY_MODEL_6dfa1ad561d64d528e28b6eee5b67438"
            ]
          }
        },
        "07372b34febc41c4a8821dc7b3eee611": {
          "model_module": "@jupyter-widgets/base",
          "model_name": "LayoutModel",
          "state": {
            "_view_name": "LayoutView",
            "grid_template_rows": null,
            "right": null,
            "justify_content": null,
            "_view_module": "@jupyter-widgets/base",
            "overflow": null,
            "_model_module_version": "1.2.0",
            "_view_count": null,
            "flex_flow": null,
            "width": null,
            "min_width": null,
            "border": null,
            "align_items": null,
            "bottom": null,
            "_model_module": "@jupyter-widgets/base",
            "top": null,
            "grid_column": null,
            "overflow_y": null,
            "overflow_x": null,
            "grid_auto_flow": null,
            "grid_area": null,
            "grid_template_columns": null,
            "flex": null,
            "_model_name": "LayoutModel",
            "justify_items": null,
            "grid_row": null,
            "max_height": null,
            "align_content": null,
            "visibility": null,
            "align_self": null,
            "height": null,
            "min_height": null,
            "padding": null,
            "grid_auto_rows": null,
            "grid_gap": null,
            "max_width": null,
            "order": null,
            "_view_module_version": "1.2.0",
            "grid_template_areas": null,
            "object_position": null,
            "object_fit": null,
            "grid_auto_columns": null,
            "margin": null,
            "display": null,
            "left": null
          }
        },
        "42b3d26eff834c89b04d5f384e72f4d4": {
          "model_module": "@jupyter-widgets/controls",
          "model_name": "FloatProgressModel",
          "state": {
            "_view_name": "ProgressView",
            "style": "IPY_MODEL_3b5f203474e045d0a4ffabba84cd1f5d",
            "_dom_classes": [],
            "description": "Downloading: 100%",
            "_model_name": "FloatProgressModel",
            "bar_style": "success",
            "max": 231508,
            "_view_module": "@jupyter-widgets/controls",
            "_model_module_version": "1.5.0",
            "value": 231508,
            "_view_count": null,
            "_view_module_version": "1.5.0",
            "orientation": "horizontal",
            "min": 0,
            "description_tooltip": null,
            "_model_module": "@jupyter-widgets/controls",
            "layout": "IPY_MODEL_b047f00ed189467c8335ee891052e179"
          }
        },
        "6dfa1ad561d64d528e28b6eee5b67438": {
          "model_module": "@jupyter-widgets/controls",
          "model_name": "HTMLModel",
          "state": {
            "_view_name": "HTMLView",
            "style": "IPY_MODEL_bbc936f085e74e14ab1de23ab30227bd",
            "_dom_classes": [],
            "description": "",
            "_model_name": "HTMLModel",
            "placeholder": "​",
            "_view_module": "@jupyter-widgets/controls",
            "_model_module_version": "1.5.0",
            "value": " 232k/232k [00:00&lt;00:00, 414kB/s]",
            "_view_count": null,
            "_view_module_version": "1.5.0",
            "description_tooltip": null,
            "_model_module": "@jupyter-widgets/controls",
            "layout": "IPY_MODEL_3425e5aa9f254befb5b4f67543ec701e"
          }
        },
        "3b5f203474e045d0a4ffabba84cd1f5d": {
          "model_module": "@jupyter-widgets/controls",
          "model_name": "ProgressStyleModel",
          "state": {
            "_view_name": "StyleView",
            "_model_name": "ProgressStyleModel",
            "description_width": "initial",
            "_view_module": "@jupyter-widgets/base",
            "_model_module_version": "1.5.0",
            "_view_count": null,
            "_view_module_version": "1.2.0",
            "bar_color": null,
            "_model_module": "@jupyter-widgets/controls"
          }
        },
        "b047f00ed189467c8335ee891052e179": {
          "model_module": "@jupyter-widgets/base",
          "model_name": "LayoutModel",
          "state": {
            "_view_name": "LayoutView",
            "grid_template_rows": null,
            "right": null,
            "justify_content": null,
            "_view_module": "@jupyter-widgets/base",
            "overflow": null,
            "_model_module_version": "1.2.0",
            "_view_count": null,
            "flex_flow": null,
            "width": null,
            "min_width": null,
            "border": null,
            "align_items": null,
            "bottom": null,
            "_model_module": "@jupyter-widgets/base",
            "top": null,
            "grid_column": null,
            "overflow_y": null,
            "overflow_x": null,
            "grid_auto_flow": null,
            "grid_area": null,
            "grid_template_columns": null,
            "flex": null,
            "_model_name": "LayoutModel",
            "justify_items": null,
            "grid_row": null,
            "max_height": null,
            "align_content": null,
            "visibility": null,
            "align_self": null,
            "height": null,
            "min_height": null,
            "padding": null,
            "grid_auto_rows": null,
            "grid_gap": null,
            "max_width": null,
            "order": null,
            "_view_module_version": "1.2.0",
            "grid_template_areas": null,
            "object_position": null,
            "object_fit": null,
            "grid_auto_columns": null,
            "margin": null,
            "display": null,
            "left": null
          }
        },
        "bbc936f085e74e14ab1de23ab30227bd": {
          "model_module": "@jupyter-widgets/controls",
          "model_name": "DescriptionStyleModel",
          "state": {
            "_view_name": "StyleView",
            "_model_name": "DescriptionStyleModel",
            "description_width": "",
            "_view_module": "@jupyter-widgets/base",
            "_model_module_version": "1.5.0",
            "_view_count": null,
            "_view_module_version": "1.2.0",
            "_model_module": "@jupyter-widgets/controls"
          }
        },
        "3425e5aa9f254befb5b4f67543ec701e": {
          "model_module": "@jupyter-widgets/base",
          "model_name": "LayoutModel",
          "state": {
            "_view_name": "LayoutView",
            "grid_template_rows": null,
            "right": null,
            "justify_content": null,
            "_view_module": "@jupyter-widgets/base",
            "overflow": null,
            "_model_module_version": "1.2.0",
            "_view_count": null,
            "flex_flow": null,
            "width": null,
            "min_width": null,
            "border": null,
            "align_items": null,
            "bottom": null,
            "_model_module": "@jupyter-widgets/base",
            "top": null,
            "grid_column": null,
            "overflow_y": null,
            "overflow_x": null,
            "grid_auto_flow": null,
            "grid_area": null,
            "grid_template_columns": null,
            "flex": null,
            "_model_name": "LayoutModel",
            "justify_items": null,
            "grid_row": null,
            "max_height": null,
            "align_content": null,
            "visibility": null,
            "align_self": null,
            "height": null,
            "min_height": null,
            "padding": null,
            "grid_auto_rows": null,
            "grid_gap": null,
            "max_width": null,
            "order": null,
            "_view_module_version": "1.2.0",
            "grid_template_areas": null,
            "object_position": null,
            "object_fit": null,
            "grid_auto_columns": null,
            "margin": null,
            "display": null,
            "left": null
          }
        },
        "0c17b6e060b04e35bca10dccd723e4e7": {
          "model_module": "@jupyter-widgets/controls",
          "model_name": "HBoxModel",
          "state": {
            "_view_name": "HBoxView",
            "_dom_classes": [],
            "_model_name": "HBoxModel",
            "_view_module": "@jupyter-widgets/controls",
            "_model_module_version": "1.5.0",
            "_view_count": null,
            "_view_module_version": "1.5.0",
            "box_style": "",
            "layout": "IPY_MODEL_18a6edffa2c545779dffdc98041f70b0",
            "_model_module": "@jupyter-widgets/controls",
            "children": [
              "IPY_MODEL_acfda85a52e0422da6b76aeed3805094",
              "IPY_MODEL_3c0b5ad218ae4d9dac090cb7b7fe5c1a"
            ]
          }
        },
        "18a6edffa2c545779dffdc98041f70b0": {
          "model_module": "@jupyter-widgets/base",
          "model_name": "LayoutModel",
          "state": {
            "_view_name": "LayoutView",
            "grid_template_rows": null,
            "right": null,
            "justify_content": null,
            "_view_module": "@jupyter-widgets/base",
            "overflow": null,
            "_model_module_version": "1.2.0",
            "_view_count": null,
            "flex_flow": null,
            "width": null,
            "min_width": null,
            "border": null,
            "align_items": null,
            "bottom": null,
            "_model_module": "@jupyter-widgets/base",
            "top": null,
            "grid_column": null,
            "overflow_y": null,
            "overflow_x": null,
            "grid_auto_flow": null,
            "grid_area": null,
            "grid_template_columns": null,
            "flex": null,
            "_model_name": "LayoutModel",
            "justify_items": null,
            "grid_row": null,
            "max_height": null,
            "align_content": null,
            "visibility": null,
            "align_self": null,
            "height": null,
            "min_height": null,
            "padding": null,
            "grid_auto_rows": null,
            "grid_gap": null,
            "max_width": null,
            "order": null,
            "_view_module_version": "1.2.0",
            "grid_template_areas": null,
            "object_position": null,
            "object_fit": null,
            "grid_auto_columns": null,
            "margin": null,
            "display": null,
            "left": null
          }
        },
        "acfda85a52e0422da6b76aeed3805094": {
          "model_module": "@jupyter-widgets/controls",
          "model_name": "FloatProgressModel",
          "state": {
            "_view_name": "ProgressView",
            "style": "IPY_MODEL_380b27f68a3c42f78a3feb77d7e95b6f",
            "_dom_classes": [],
            "description": "Downloading: 100%",
            "_model_name": "FloatProgressModel",
            "bar_style": "success",
            "max": 28,
            "_view_module": "@jupyter-widgets/controls",
            "_model_module_version": "1.5.0",
            "value": 28,
            "_view_count": null,
            "_view_module_version": "1.5.0",
            "orientation": "horizontal",
            "min": 0,
            "description_tooltip": null,
            "_model_module": "@jupyter-widgets/controls",
            "layout": "IPY_MODEL_b1456557c06742eb85b695be09c110ab"
          }
        },
        "3c0b5ad218ae4d9dac090cb7b7fe5c1a": {
          "model_module": "@jupyter-widgets/controls",
          "model_name": "HTMLModel",
          "state": {
            "_view_name": "HTMLView",
            "style": "IPY_MODEL_78aa5c8513c14e4480726e505f07f006",
            "_dom_classes": [],
            "description": "",
            "_model_name": "HTMLModel",
            "placeholder": "​",
            "_view_module": "@jupyter-widgets/controls",
            "_model_module_version": "1.5.0",
            "value": " 28.0/28.0 [00:00&lt;00:00, 35.2B/s]",
            "_view_count": null,
            "_view_module_version": "1.5.0",
            "description_tooltip": null,
            "_model_module": "@jupyter-widgets/controls",
            "layout": "IPY_MODEL_1e6f29561f0f4acd8926e3ab0397c5ac"
          }
        },
        "380b27f68a3c42f78a3feb77d7e95b6f": {
          "model_module": "@jupyter-widgets/controls",
          "model_name": "ProgressStyleModel",
          "state": {
            "_view_name": "StyleView",
            "_model_name": "ProgressStyleModel",
            "description_width": "initial",
            "_view_module": "@jupyter-widgets/base",
            "_model_module_version": "1.5.0",
            "_view_count": null,
            "_view_module_version": "1.2.0",
            "bar_color": null,
            "_model_module": "@jupyter-widgets/controls"
          }
        },
        "b1456557c06742eb85b695be09c110ab": {
          "model_module": "@jupyter-widgets/base",
          "model_name": "LayoutModel",
          "state": {
            "_view_name": "LayoutView",
            "grid_template_rows": null,
            "right": null,
            "justify_content": null,
            "_view_module": "@jupyter-widgets/base",
            "overflow": null,
            "_model_module_version": "1.2.0",
            "_view_count": null,
            "flex_flow": null,
            "width": null,
            "min_width": null,
            "border": null,
            "align_items": null,
            "bottom": null,
            "_model_module": "@jupyter-widgets/base",
            "top": null,
            "grid_column": null,
            "overflow_y": null,
            "overflow_x": null,
            "grid_auto_flow": null,
            "grid_area": null,
            "grid_template_columns": null,
            "flex": null,
            "_model_name": "LayoutModel",
            "justify_items": null,
            "grid_row": null,
            "max_height": null,
            "align_content": null,
            "visibility": null,
            "align_self": null,
            "height": null,
            "min_height": null,
            "padding": null,
            "grid_auto_rows": null,
            "grid_gap": null,
            "max_width": null,
            "order": null,
            "_view_module_version": "1.2.0",
            "grid_template_areas": null,
            "object_position": null,
            "object_fit": null,
            "grid_auto_columns": null,
            "margin": null,
            "display": null,
            "left": null
          }
        },
        "78aa5c8513c14e4480726e505f07f006": {
          "model_module": "@jupyter-widgets/controls",
          "model_name": "DescriptionStyleModel",
          "state": {
            "_view_name": "StyleView",
            "_model_name": "DescriptionStyleModel",
            "description_width": "",
            "_view_module": "@jupyter-widgets/base",
            "_model_module_version": "1.5.0",
            "_view_count": null,
            "_view_module_version": "1.2.0",
            "_model_module": "@jupyter-widgets/controls"
          }
        },
        "1e6f29561f0f4acd8926e3ab0397c5ac": {
          "model_module": "@jupyter-widgets/base",
          "model_name": "LayoutModel",
          "state": {
            "_view_name": "LayoutView",
            "grid_template_rows": null,
            "right": null,
            "justify_content": null,
            "_view_module": "@jupyter-widgets/base",
            "overflow": null,
            "_model_module_version": "1.2.0",
            "_view_count": null,
            "flex_flow": null,
            "width": null,
            "min_width": null,
            "border": null,
            "align_items": null,
            "bottom": null,
            "_model_module": "@jupyter-widgets/base",
            "top": null,
            "grid_column": null,
            "overflow_y": null,
            "overflow_x": null,
            "grid_auto_flow": null,
            "grid_area": null,
            "grid_template_columns": null,
            "flex": null,
            "_model_name": "LayoutModel",
            "justify_items": null,
            "grid_row": null,
            "max_height": null,
            "align_content": null,
            "visibility": null,
            "align_self": null,
            "height": null,
            "min_height": null,
            "padding": null,
            "grid_auto_rows": null,
            "grid_gap": null,
            "max_width": null,
            "order": null,
            "_view_module_version": "1.2.0",
            "grid_template_areas": null,
            "object_position": null,
            "object_fit": null,
            "grid_auto_columns": null,
            "margin": null,
            "display": null,
            "left": null
          }
        },
        "17856846895b4cd4a0d97d81b895d52e": {
          "model_module": "@jupyter-widgets/controls",
          "model_name": "HBoxModel",
          "state": {
            "_view_name": "HBoxView",
            "_dom_classes": [],
            "_model_name": "HBoxModel",
            "_view_module": "@jupyter-widgets/controls",
            "_model_module_version": "1.5.0",
            "_view_count": null,
            "_view_module_version": "1.5.0",
            "box_style": "",
            "layout": "IPY_MODEL_ac21ed8164ff45cf9c4d2c80a3f80761",
            "_model_module": "@jupyter-widgets/controls",
            "children": [
              "IPY_MODEL_c055349cad414740b1a0de8f220ef171",
              "IPY_MODEL_256d40052ee949628a11d69329efc38a"
            ]
          }
        },
        "ac21ed8164ff45cf9c4d2c80a3f80761": {
          "model_module": "@jupyter-widgets/base",
          "model_name": "LayoutModel",
          "state": {
            "_view_name": "LayoutView",
            "grid_template_rows": null,
            "right": null,
            "justify_content": null,
            "_view_module": "@jupyter-widgets/base",
            "overflow": null,
            "_model_module_version": "1.2.0",
            "_view_count": null,
            "flex_flow": null,
            "width": null,
            "min_width": null,
            "border": null,
            "align_items": null,
            "bottom": null,
            "_model_module": "@jupyter-widgets/base",
            "top": null,
            "grid_column": null,
            "overflow_y": null,
            "overflow_x": null,
            "grid_auto_flow": null,
            "grid_area": null,
            "grid_template_columns": null,
            "flex": null,
            "_model_name": "LayoutModel",
            "justify_items": null,
            "grid_row": null,
            "max_height": null,
            "align_content": null,
            "visibility": null,
            "align_self": null,
            "height": null,
            "min_height": null,
            "padding": null,
            "grid_auto_rows": null,
            "grid_gap": null,
            "max_width": null,
            "order": null,
            "_view_module_version": "1.2.0",
            "grid_template_areas": null,
            "object_position": null,
            "object_fit": null,
            "grid_auto_columns": null,
            "margin": null,
            "display": null,
            "left": null
          }
        },
        "c055349cad414740b1a0de8f220ef171": {
          "model_module": "@jupyter-widgets/controls",
          "model_name": "FloatProgressModel",
          "state": {
            "_view_name": "ProgressView",
            "style": "IPY_MODEL_2e42f68fc9ed4c21b824882f9f6bcd65",
            "_dom_classes": [],
            "description": "Downloading: 100%",
            "_model_name": "FloatProgressModel",
            "bar_style": "success",
            "max": 466062,
            "_view_module": "@jupyter-widgets/controls",
            "_model_module_version": "1.5.0",
            "value": 466062,
            "_view_count": null,
            "_view_module_version": "1.5.0",
            "orientation": "horizontal",
            "min": 0,
            "description_tooltip": null,
            "_model_module": "@jupyter-widgets/controls",
            "layout": "IPY_MODEL_ed01efea6bbe4ec1addf061a960cd3b8"
          }
        },
        "256d40052ee949628a11d69329efc38a": {
          "model_module": "@jupyter-widgets/controls",
          "model_name": "HTMLModel",
          "state": {
            "_view_name": "HTMLView",
            "style": "IPY_MODEL_b2f40178a49649228ca61911a03772cb",
            "_dom_classes": [],
            "description": "",
            "_model_name": "HTMLModel",
            "placeholder": "​",
            "_view_module": "@jupyter-widgets/controls",
            "_model_module_version": "1.5.0",
            "value": " 466k/466k [00:00&lt;00:00, 1.36MB/s]",
            "_view_count": null,
            "_view_module_version": "1.5.0",
            "description_tooltip": null,
            "_model_module": "@jupyter-widgets/controls",
            "layout": "IPY_MODEL_11a26dbb4d1a43c5a5f3d49164143a2e"
          }
        },
        "2e42f68fc9ed4c21b824882f9f6bcd65": {
          "model_module": "@jupyter-widgets/controls",
          "model_name": "ProgressStyleModel",
          "state": {
            "_view_name": "StyleView",
            "_model_name": "ProgressStyleModel",
            "description_width": "initial",
            "_view_module": "@jupyter-widgets/base",
            "_model_module_version": "1.5.0",
            "_view_count": null,
            "_view_module_version": "1.2.0",
            "bar_color": null,
            "_model_module": "@jupyter-widgets/controls"
          }
        },
        "ed01efea6bbe4ec1addf061a960cd3b8": {
          "model_module": "@jupyter-widgets/base",
          "model_name": "LayoutModel",
          "state": {
            "_view_name": "LayoutView",
            "grid_template_rows": null,
            "right": null,
            "justify_content": null,
            "_view_module": "@jupyter-widgets/base",
            "overflow": null,
            "_model_module_version": "1.2.0",
            "_view_count": null,
            "flex_flow": null,
            "width": null,
            "min_width": null,
            "border": null,
            "align_items": null,
            "bottom": null,
            "_model_module": "@jupyter-widgets/base",
            "top": null,
            "grid_column": null,
            "overflow_y": null,
            "overflow_x": null,
            "grid_auto_flow": null,
            "grid_area": null,
            "grid_template_columns": null,
            "flex": null,
            "_model_name": "LayoutModel",
            "justify_items": null,
            "grid_row": null,
            "max_height": null,
            "align_content": null,
            "visibility": null,
            "align_self": null,
            "height": null,
            "min_height": null,
            "padding": null,
            "grid_auto_rows": null,
            "grid_gap": null,
            "max_width": null,
            "order": null,
            "_view_module_version": "1.2.0",
            "grid_template_areas": null,
            "object_position": null,
            "object_fit": null,
            "grid_auto_columns": null,
            "margin": null,
            "display": null,
            "left": null
          }
        },
        "b2f40178a49649228ca61911a03772cb": {
          "model_module": "@jupyter-widgets/controls",
          "model_name": "DescriptionStyleModel",
          "state": {
            "_view_name": "StyleView",
            "_model_name": "DescriptionStyleModel",
            "description_width": "",
            "_view_module": "@jupyter-widgets/base",
            "_model_module_version": "1.5.0",
            "_view_count": null,
            "_view_module_version": "1.2.0",
            "_model_module": "@jupyter-widgets/controls"
          }
        },
        "11a26dbb4d1a43c5a5f3d49164143a2e": {
          "model_module": "@jupyter-widgets/base",
          "model_name": "LayoutModel",
          "state": {
            "_view_name": "LayoutView",
            "grid_template_rows": null,
            "right": null,
            "justify_content": null,
            "_view_module": "@jupyter-widgets/base",
            "overflow": null,
            "_model_module_version": "1.2.0",
            "_view_count": null,
            "flex_flow": null,
            "width": null,
            "min_width": null,
            "border": null,
            "align_items": null,
            "bottom": null,
            "_model_module": "@jupyter-widgets/base",
            "top": null,
            "grid_column": null,
            "overflow_y": null,
            "overflow_x": null,
            "grid_auto_flow": null,
            "grid_area": null,
            "grid_template_columns": null,
            "flex": null,
            "_model_name": "LayoutModel",
            "justify_items": null,
            "grid_row": null,
            "max_height": null,
            "align_content": null,
            "visibility": null,
            "align_self": null,
            "height": null,
            "min_height": null,
            "padding": null,
            "grid_auto_rows": null,
            "grid_gap": null,
            "max_width": null,
            "order": null,
            "_view_module_version": "1.2.0",
            "grid_template_areas": null,
            "object_position": null,
            "object_fit": null,
            "grid_auto_columns": null,
            "margin": null,
            "display": null,
            "left": null
          }
        }
      }
    }
  },
  "cells": [
    {
      "cell_type": "code",
      "metadata": {
        "colab": {
          "base_uri": "https://localhost:8080/"
        },
        "id": "Ws84SMCIGvqN",
        "outputId": "13a905c9-4dc2-4d7c-c850-169a477cf819"
      },
      "source": [
        "!nvidia-smi"
      ],
      "id": "Ws84SMCIGvqN",
      "execution_count": 1,
      "outputs": [
        {
          "output_type": "stream",
          "text": [
            "Mon May 10 00:32:16 2021       \n",
            "+-----------------------------------------------------------------------------+\n",
            "| NVIDIA-SMI 465.19.01    Driver Version: 460.32.03    CUDA Version: 11.2     |\n",
            "|-------------------------------+----------------------+----------------------+\n",
            "| GPU  Name        Persistence-M| Bus-Id        Disp.A | Volatile Uncorr. ECC |\n",
            "| Fan  Temp  Perf  Pwr:Usage/Cap|         Memory-Usage | GPU-Util  Compute M. |\n",
            "|                               |                      |               MIG M. |\n",
            "|===============================+======================+======================|\n",
            "|   0  Tesla P100-PCIE...  Off  | 00000000:00:04.0 Off |                    0 |\n",
            "| N/A   33C    P0    26W / 250W |      0MiB / 16280MiB |      0%      Default |\n",
            "|                               |                      |                  N/A |\n",
            "+-------------------------------+----------------------+----------------------+\n",
            "                                                                               \n",
            "+-----------------------------------------------------------------------------+\n",
            "| Processes:                                                                  |\n",
            "|  GPU   GI   CI        PID   Type   Process name                  GPU Memory |\n",
            "|        ID   ID                                                   Usage      |\n",
            "|=============================================================================|\n",
            "|  No running processes found                                                 |\n",
            "+-----------------------------------------------------------------------------+\n"
          ],
          "name": "stdout"
        }
      ]
    },
    {
      "cell_type": "code",
      "metadata": {
        "id": "Qj67EbEmr6Rz",
        "outputId": "c971a431-84f3-475f-8b9c-6bf529864832",
        "colab": {
          "base_uri": "https://localhost:8080/"
        }
      },
      "source": [
        "from google.colab import drive\n",
        "drive.mount('/content/drive')"
      ],
      "id": "Qj67EbEmr6Rz",
      "execution_count": 2,
      "outputs": [
        {
          "output_type": "stream",
          "text": [
            "Mounted at /content/drive\n"
          ],
          "name": "stdout"
        }
      ]
    },
    {
      "cell_type": "code",
      "metadata": {
        "colab": {
          "base_uri": "https://localhost:8080/"
        },
        "id": "niSDQPa-GPyt",
        "outputId": "61f2178b-fd21-4192-c98e-661883bb624b"
      },
      "source": [
        "!pip install transformers"
      ],
      "id": "niSDQPa-GPyt",
      "execution_count": 3,
      "outputs": [
        {
          "output_type": "stream",
          "text": [
            "Collecting transformers\n",
            "\u001b[?25l  Downloading https://files.pythonhosted.org/packages/d8/b2/57495b5309f09fa501866e225c84532d1fd89536ea62406b2181933fb418/transformers-4.5.1-py3-none-any.whl (2.1MB)\n",
            "\u001b[K     |████████████████████████████████| 2.1MB 9.6MB/s \n",
            "\u001b[?25hRequirement already satisfied: filelock in /usr/local/lib/python3.7/dist-packages (from transformers) (3.0.12)\n",
            "Requirement already satisfied: importlib-metadata; python_version < \"3.8\" in /usr/local/lib/python3.7/dist-packages (from transformers) (3.10.1)\n",
            "Collecting sacremoses\n",
            "\u001b[?25l  Downloading https://files.pythonhosted.org/packages/75/ee/67241dc87f266093c533a2d4d3d69438e57d7a90abb216fa076e7d475d4a/sacremoses-0.0.45-py3-none-any.whl (895kB)\n",
            "\u001b[K     |████████████████████████████████| 901kB 53.3MB/s \n",
            "\u001b[?25hRequirement already satisfied: packaging in /usr/local/lib/python3.7/dist-packages (from transformers) (20.9)\n",
            "Requirement already satisfied: tqdm>=4.27 in /usr/local/lib/python3.7/dist-packages (from transformers) (4.41.1)\n",
            "Requirement already satisfied: numpy>=1.17 in /usr/local/lib/python3.7/dist-packages (from transformers) (1.19.5)\n",
            "Requirement already satisfied: regex!=2019.12.17 in /usr/local/lib/python3.7/dist-packages (from transformers) (2019.12.20)\n",
            "Collecting tokenizers<0.11,>=0.10.1\n",
            "\u001b[?25l  Downloading https://files.pythonhosted.org/packages/ae/04/5b870f26a858552025a62f1649c20d29d2672c02ff3c3fb4c688ca46467a/tokenizers-0.10.2-cp37-cp37m-manylinux2010_x86_64.whl (3.3MB)\n",
            "\u001b[K     |████████████████████████████████| 3.3MB 48.9MB/s \n",
            "\u001b[?25hRequirement already satisfied: requests in /usr/local/lib/python3.7/dist-packages (from transformers) (2.23.0)\n",
            "Requirement already satisfied: typing-extensions>=3.6.4; python_version < \"3.8\" in /usr/local/lib/python3.7/dist-packages (from importlib-metadata; python_version < \"3.8\"->transformers) (3.7.4.3)\n",
            "Requirement already satisfied: zipp>=0.5 in /usr/local/lib/python3.7/dist-packages (from importlib-metadata; python_version < \"3.8\"->transformers) (3.4.1)\n",
            "Requirement already satisfied: joblib in /usr/local/lib/python3.7/dist-packages (from sacremoses->transformers) (1.0.1)\n",
            "Requirement already satisfied: click in /usr/local/lib/python3.7/dist-packages (from sacremoses->transformers) (7.1.2)\n",
            "Requirement already satisfied: six in /usr/local/lib/python3.7/dist-packages (from sacremoses->transformers) (1.15.0)\n",
            "Requirement already satisfied: pyparsing>=2.0.2 in /usr/local/lib/python3.7/dist-packages (from packaging->transformers) (2.4.7)\n",
            "Requirement already satisfied: urllib3!=1.25.0,!=1.25.1,<1.26,>=1.21.1 in /usr/local/lib/python3.7/dist-packages (from requests->transformers) (1.24.3)\n",
            "Requirement already satisfied: idna<3,>=2.5 in /usr/local/lib/python3.7/dist-packages (from requests->transformers) (2.10)\n",
            "Requirement already satisfied: certifi>=2017.4.17 in /usr/local/lib/python3.7/dist-packages (from requests->transformers) (2020.12.5)\n",
            "Requirement already satisfied: chardet<4,>=3.0.2 in /usr/local/lib/python3.7/dist-packages (from requests->transformers) (3.0.4)\n",
            "Installing collected packages: sacremoses, tokenizers, transformers\n",
            "Successfully installed sacremoses-0.0.45 tokenizers-0.10.2 transformers-4.5.1\n"
          ],
          "name": "stdout"
        }
      ]
    },
    {
      "cell_type": "code",
      "metadata": {
        "colab": {
          "base_uri": "https://localhost:8080/"
        },
        "id": "8840c32c-6845-4206-a8ba-6a688e9f1abd",
        "outputId": "a0156850-8991-423a-ec80-e92c6c62a122"
      },
      "source": [
        "!wget https://raw.githubusercontent.com/adamnpeace/nlp-project/model-testing-bertqg/data/preprocessed/data_dev.json\n",
        "!wget https://raw.githubusercontent.com/adamnpeace/nlp-project/model-testing-bertqg/data/preprocessed/data_train.json"
      ],
      "id": "8840c32c-6845-4206-a8ba-6a688e9f1abd",
      "execution_count": 4,
      "outputs": [
        {
          "output_type": "stream",
          "text": [
            "--2021-05-10 00:33:04--  https://raw.githubusercontent.com/adamnpeace/nlp-project/model-testing-bertqg/data/preprocessed/data_dev.json\n",
            "Resolving raw.githubusercontent.com (raw.githubusercontent.com)... 185.199.111.133, 185.199.110.133, 185.199.108.133, ...\n",
            "Connecting to raw.githubusercontent.com (raw.githubusercontent.com)|185.199.111.133|:443... connected.\n",
            "HTTP request sent, awaiting response... 200 OK\n",
            "Length: 1825775 (1.7M) [text/plain]\n",
            "Saving to: ‘data_dev.json’\n",
            "\n",
            "data_dev.json       100%[===================>]   1.74M  --.-KB/s    in 0.06s   \n",
            "\n",
            "2021-05-10 00:33:05 (27.6 MB/s) - ‘data_dev.json’ saved [1825775/1825775]\n",
            "\n",
            "--2021-05-10 00:33:05--  https://raw.githubusercontent.com/adamnpeace/nlp-project/model-testing-bertqg/data/preprocessed/data_train.json\n",
            "Resolving raw.githubusercontent.com (raw.githubusercontent.com)... 185.199.109.133, 185.199.111.133, 185.199.110.133, ...\n",
            "Connecting to raw.githubusercontent.com (raw.githubusercontent.com)|185.199.109.133|:443... connected.\n",
            "HTTP request sent, awaiting response... 200 OK\n",
            "Length: 7332522 (7.0M) [text/plain]\n",
            "Saving to: ‘data_train.json’\n",
            "\n",
            "data_train.json     100%[===================>]   6.99M  45.8MB/s    in 0.2s    \n",
            "\n",
            "2021-05-10 00:33:06 (45.8 MB/s) - ‘data_train.json’ saved [7332522/7332522]\n",
            "\n"
          ],
          "name": "stdout"
        }
      ]
    },
    {
      "cell_type": "code",
      "metadata": {
        "id": "25529b09-0de3-43a5-a398-c2424a2b8334"
      },
      "source": [
        "import os, pickle, time, random, logging, json, gc, warnings\n",
        "from datetime import datetime\n",
        "from pathlib import Path\n",
        "from tqdm import tqdm\n",
        "\n",
        "import numpy as np\n",
        "import pandas as pd\n",
        "\n",
        "import torch\n",
        "import torch.nn as nn\n",
        "import torch.optim as optim\n",
        "import torch.nn.functional as F\n",
        "from torch.utils.data import Dataset, DataLoader\n",
        "\n",
        "from transformers import AdamW, BertConfig, BertTokenizer\n",
        "from transformers import get_linear_schedule_with_warmup\n",
        "from transformers import EncoderDecoderModel\n",
        "from transformers import BertModel\n",
        "\n",
        "from nltk.translate.bleu_score import sentence_bleu, SmoothingFunction\n",
        "from nltk.translate import bleu\n",
        "import spacy\n",
        "\n",
        "warnings.simplefilter(\"ignore\")"
      ],
      "id": "25529b09-0de3-43a5-a398-c2424a2b8334",
      "execution_count": 5,
      "outputs": []
    },
    {
      "cell_type": "code",
      "metadata": {
        "id": "3dd9406b-bd64-4435-98c1-d1af433684ba"
      },
      "source": [
        "device = torch.device('cuda' if torch.cuda.is_available() else 'cpu')"
      ],
      "id": "3dd9406b-bd64-4435-98c1-d1af433684ba",
      "execution_count": 6,
      "outputs": []
    },
    {
      "cell_type": "code",
      "metadata": {
        "id": "0ea63d53-b75d-436a-ba36-8b65d51c779d"
      },
      "source": [
        "bert_model = 'bert-large-uncased'\n",
        "model_path = Path('./models')\n",
        "data_path = Path('.')\n",
        "bert_path = model_path / bert_model"
      ],
      "id": "0ea63d53-b75d-436a-ba36-8b65d51c779d",
      "execution_count": 7,
      "outputs": []
    },
    {
      "cell_type": "code",
      "metadata": {
        "id": "358d7f24-da73-4866-be57-02a461aa922c",
        "outputId": "a6d40482-238e-436b-c2fd-356d584d4a5a",
        "colab": {
          "base_uri": "https://localhost:8080/",
          "height": 115,
          "referenced_widgets": [
            "4621b4edca7f490794d21015ebf119bb",
            "94eb761f553d44d7abcc05e614fd7df6",
            "8533b237f8904ef386473ba537f0ea6e",
            "50c00276695449fe8b5662b7250f18d8",
            "60e0bec5801940a691887b9612fbfd01",
            "37c114a43f474a48b463677407c12d46",
            "e075b8b5bc1b49a88008e8a2cd14e93e",
            "577a8f558190479292d94765c77dcb2e",
            "b23ec5ce59df405cb369eb2eaf77677f",
            "5d612323501a4eaf9e8a48fd18558413",
            "2104de9285c94e068a39647c3ec41298",
            "6817474fdf894115bed5ea7cb131d8cd",
            "16cc0976898b4879bf5946f514fcdce9",
            "3a2b21f862a94f889ddbc294f7bb7fee",
            "326b59a89efe43d49c54c00ddb578e73",
            "7b2200dc942f433499c9ac659038f346"
          ]
        }
      },
      "source": [
        "if not (model_path / bert_model / 'config.json').is_file():\n",
        "    BertModel.from_pretrained(bert_model).save_pretrained(model_path / bert_model)"
      ],
      "id": "358d7f24-da73-4866-be57-02a461aa922c",
      "execution_count": 8,
      "outputs": [
        {
          "output_type": "display_data",
          "data": {
            "application/vnd.jupyter.widget-view+json": {
              "model_id": "4621b4edca7f490794d21015ebf119bb",
              "version_minor": 0,
              "version_major": 2
            },
            "text/plain": [
              "HBox(children=(FloatProgress(value=0.0, description='Downloading', max=571.0, style=ProgressStyle(description_…"
            ]
          },
          "metadata": {
            "tags": []
          }
        },
        {
          "output_type": "stream",
          "text": [
            "\n"
          ],
          "name": "stdout"
        },
        {
          "output_type": "display_data",
          "data": {
            "application/vnd.jupyter.widget-view+json": {
              "model_id": "b23ec5ce59df405cb369eb2eaf77677f",
              "version_minor": 0,
              "version_major": 2
            },
            "text/plain": [
              "HBox(children=(FloatProgress(value=0.0, description='Downloading', max=1344997306.0, style=ProgressStyle(descr…"
            ]
          },
          "metadata": {
            "tags": []
          }
        },
        {
          "output_type": "stream",
          "text": [
            "\n"
          ],
          "name": "stdout"
        }
      ]
    },
    {
      "cell_type": "code",
      "metadata": {
        "id": "a7a88c22-675d-4246-8c4c-0341ca7a0fd0"
      },
      "source": [
        "class HP:\n",
        "    def __init__(self):\n",
        "        self.num_workers = 0\n",
        "        self.pin_memory = False\n",
        "        self.batch_size = 4\n",
        "        self.weight_decay = 0.001\n",
        "        self.lr = 0.05\n",
        "        self.momentum = 0.9\n",
        "        self.decoder_hidden_size = 512\n",
        "        self.decoder_input_size = 512\n",
        "        self.attention_hidden_size = 512\n",
        "        self.max_input_length = 512\n",
        "        self.n_layers = 1\n",
        "        self.clip = 1\n",
        "        self.dropout = 1\n",
        "        self.n_epochs = 4\n",
        "        self.max_epochs = 32\n",
        "        self.patience = 3\n",
        "        self.mb = 32\n",
        "        self.checkpoint = None\n",
        "        self.encoder_trained = False\n",
        "        \n",
        "        conf_file = json.load(open((bert_path / 'config.json'), 'r'))\n",
        "        self.bert_hidden_size = conf_file['hidden_size']\n",
        "        self.bert_vocab_size = conf_file['vocab_size']\n",
        "        \n",
        "        \n",
        "hp = HP()"
      ],
      "id": "a7a88c22-675d-4246-8c4c-0341ca7a0fd0",
      "execution_count": 9,
      "outputs": []
    },
    {
      "cell_type": "code",
      "metadata": {
        "id": "610d0ea5-84b9-4b23-96cf-ecf9694387f2"
      },
      "source": [
        "class Attention(nn.Module):\n",
        "    def __init__(self, n_h_enc, n_h_dec, n_h_attention):\n",
        "        super().__init__()\n",
        "        self.attn = nn.Linear(n_h_enc + n_h_dec, n_h_attention)\n",
        "        self.v = nn.Parameter(torch.rand(n_h_attention), requires_grad=True)\n",
        "        \n",
        "    def forward(self, key, queries):\n",
        "        batch_size, src_len = queries.shape[:2]\n",
        "        \n",
        "        key = key.unsqueeze(1).repeat(1, src_len, 1)\n",
        "        if key.size(0) != queries.size(0) or key.size(1) != queries.size(1):\n",
        "            print(key.shape, queries.shape)\n",
        "        kitten = torch.cat((key, queries), dim=2)\n",
        "        energy = torch.tanh(self.attn(kitten))\n",
        "        \n",
        "        v = self.v.repeat(batch_size, 1).unsqueeze(2)\n",
        "        \n",
        "        attn = torch.bmm(energy, v).squeeze(2)\n",
        "        \n",
        "        return F.softmax(attn, dim=1)\n",
        "\n",
        "class Decoder(nn.Module):\n",
        "    def __init__(self, out_dims, emb_dims, n_h_enc, n_h_dec, n_layers, dropout, attn):\n",
        "        super().__init__()\n",
        "        self.out_dims = out_dims\n",
        "        self.emb_dims = emb_dims\n",
        "        self.n_h_enc = n_h_enc\n",
        "        self.n_h_dec = n_h_dec\n",
        "        self.n_layers = n_layers\n",
        "        self.attn = attn\n",
        "        \n",
        "        self.dropout = nn.Dropout(dropout)\n",
        "        self.embedding = nn.Embedding(out_dims, emb_dims)\n",
        "        \n",
        "        self.rnn = nn.GRU(emb_dims, n_h_dec, batch_first=True, num_layers=n_layers, dropout=dropout)\n",
        "\n",
        "        self.out_dense = nn.Linear(n_h_enc + n_h_dec, out_dims)\n",
        "        \n",
        "    def forward(self, src, queries, hidden):\n",
        "        src = src.unsqueeze(1)\n",
        "        embedded = self.embedding(src)\n",
        "        embedded = self.dropout(embedded)\n",
        "        \n",
        "        out, hidden = self.rnn(embedded, hidden)\n",
        "        out = out.squeeze()\n",
        "        \n",
        "        a = self.attn(out, queries)\n",
        "        a = a.unsqueeze(1)\n",
        "        weighted = torch.bmm(a, queries)\n",
        "        \n",
        "        weighted = weighted.squeeze(1)\n",
        "        \n",
        "        out = self.out_dense(torch.cat([out, weighted], dim=1))\n",
        "        \n",
        "        return out, hidden\n",
        "\n",
        "class Seq2Seq(nn.Module):\n",
        "    def __init__(self, encoder, decoder, encoder_trained):\n",
        "        super().__init__()\n",
        "        self.encoder = encoder\n",
        "        self.decoder = decoder\n",
        "        self.encoder_trained = encoder_trained\n",
        "        \n",
        "    def forward(self, src, trg, teacher_forcing_ratio=0.5):\n",
        "        input_ids, token_ids, attn_mask = src\n",
        "        \n",
        "        if self.encoder_trained:\n",
        "            bert_hs = self.encoder(input_ids, token_type_ids=token_ids, attention_mask=attn_mask)\n",
        "        else:\n",
        "            with torch.no_grad():\n",
        "                bert_hs = self.encoder(input_ids, token_type_ids=token_ids, attention_mask=attn_mask)\n",
        "        \n",
        "        bert_encodings = bert_hs[0]\n",
        "        \n",
        "        batch_size, max_len = trg.shape[:2]\n",
        "        \n",
        "        trg_vocab_size = self.decoder.out_dims\n",
        "        \n",
        "        outputs = torch.zeros(batch_size, max_len, trg_vocab_size).to(device)\n",
        "        \n",
        "        out = trg[:, 0]\n",
        "        \n",
        "        hidden = torch.zeros(self.decoder.n_layers, out.shape[0], self.decoder.n_h_dec).to(device)\n",
        "        \n",
        "        for t in range(1, max_len):\n",
        "            out, hidden = self.decoder(out, bert_encodings, hidden)\n",
        "            outputs[:, t] = out\n",
        "            teacher_force = random.random() < teacher_forcing_ratio\n",
        "            out = (trg[:, t] if teacher_force else out.max(1)[1])\n",
        "        \n",
        "        return outputs"
      ],
      "id": "610d0ea5-84b9-4b23-96cf-ecf9694387f2",
      "execution_count": 10,
      "outputs": []
    },
    {
      "cell_type": "code",
      "metadata": {
        "id": "30253a22-4652-4a6c-b771-c7ff85dee587"
      },
      "source": [
        "# redo below\n",
        "def enable_reproducibility(seed=69):\n",
        "    np.random.seed(seed)\n",
        "    torch.manual_seed(seed)\n",
        "    torch.backends.cudnn.deterministic = True\n",
        "    torch.backends.cudnn.benchmark = False\n",
        "\n",
        "def init_weights(m):\n",
        "    for name, param in m.named_parameters():\n",
        "        if 'weight' in name:\n",
        "            nn.init.normal_(param.data, mean=0, std=0.01)\n",
        "        else:\n",
        "            nn.init.constant_(param.data, 0)\n",
        "\n",
        "def no_grad(model):\n",
        "    for p in model.parameters():\n",
        "        p.requires_grad = False\n",
        "    return model\n",
        "\n",
        "def no_trainable_parameters(model):\n",
        "    return sum(p.numel() for p in model.parameters() if p.requires_grad)\n",
        "\n",
        "def no_parameters(model):\n",
        "    return sum(p.numel() for p in model.parameters())\n",
        "\n",
        "def model_size(model):\n",
        "    return sum(p.element_size() * p.nelement() for p in model.parameters())\n",
        "\n",
        "def save_checkpoint(name, epoch, model, optimizer, valid_loss, train_loss):\n",
        "    torch.save({\n",
        "            'epoch': epoch,\n",
        "            'model_state_dict': model.state_dict(),\n",
        "            'optimizer_state_dict': optimizer.state_dict(),\n",
        "            'valid_loss': valid_loss,\n",
        "            'train_loss': train_loss,\n",
        "            }, name)\n",
        "\n",
        "def load_checkpoint(filename):\n",
        "    checkpoint = torch.load(filename)\n",
        "    return checkpoint['epoch'], checkpoint['model_state_dict'],\\\n",
        "           checkpoint['optimizer_state_dict'], checkpoint['valid_loss'], checkpoint['train_loss']\n",
        "\n",
        "def epoch_time(start_time, end_time):\n",
        "    elapsed_secs = end_time - start_time\n",
        "    elapsed_mins = elapsed_secs / 60\n",
        "    return elapsed_mins, elapsed_secs"
      ],
      "id": "30253a22-4652-4a6c-b771-c7ff85dee587",
      "execution_count": 11,
      "outputs": []
    },
    {
      "cell_type": "code",
      "metadata": {
        "id": "b55798b4-d551-443a-89c8-8c241c3ecaef"
      },
      "source": [
        "pw_criterion = nn.CrossEntropyLoss(ignore_index=0)\n",
        "\n",
        "def train(model, dataloader, optimizer, criterion, clip):\n",
        "    log = logging.getLogger(__name__)\n",
        "    model.train()\n",
        "\n",
        "    epoch_loss = 0\n",
        "\n",
        "    start = time.time()\n",
        "    for i, (input_, output_) in tqdm(enumerate(dataloader), total=len(dataloader)):\n",
        "\n",
        "        input_data, input_length = input_\n",
        "        output_data, output_length = output_\n",
        "\n",
        "        optimizer.zero_grad()\n",
        "        \n",
        "        prediction = model([x.to(device) for x in input_data],  output_data.to(device))\n",
        "\n",
        "        trg_sent_len = prediction.size(1)\n",
        "\n",
        "        prediction = prediction[:, 1:].contiguous().view(-1, prediction.shape[-1])\n",
        "        output_data = output_data[:, 1:].contiguous().view(-1)  # Find a way to avoid calling contiguous\n",
        "\n",
        "        with torch.no_grad():\n",
        "            pw_loss = pw_criterion(prediction,  output_data.to(device))\n",
        "\n",
        "        loss = criterion(prediction,  output_data.to(device))\n",
        "\n",
        "        # reshape to [trg sent len - 1, batch size]\n",
        "        loss = loss.view(-1, trg_sent_len - 1)\n",
        "        loss = loss.sum(1)\n",
        "        loss = loss.mean(0)\n",
        "\n",
        "        loss.backward()\n",
        "        torch.nn.utils.clip_grad_norm_(model.decoder.parameters(), clip)\n",
        "        optimizer.step()\n",
        "\n",
        "        if i % int(len(dataloader) * 0.1) == int(len(dataloader) * 0.1) - 1:\n",
        "            print('Batch {}: Sentence Loss: {:.3f}, Word Loss: {:.3f}'\n",
        "                  .format(i, loss.item(), pw_loss.item()))\n",
        "            start = time.time()\n",
        "\n",
        "        epoch_loss += pw_loss.item()\n",
        "\n",
        "    return epoch_loss / len(dataloader)"
      ],
      "id": "b55798b4-d551-443a-89c8-8c241c3ecaef",
      "execution_count": 12,
      "outputs": []
    },
    {
      "cell_type": "code",
      "metadata": {
        "id": "c51e0d74-7cb0-4334-85fc-676ab4d4212c",
        "outputId": "5482fc8f-38e7-4424-e173-c6d29548f523",
        "colab": {
          "base_uri": "https://localhost:8080/",
          "height": 164,
          "referenced_widgets": [
            "8e5ad8edc0f74115985c8f37de08a471",
            "07372b34febc41c4a8821dc7b3eee611",
            "42b3d26eff834c89b04d5f384e72f4d4",
            "6dfa1ad561d64d528e28b6eee5b67438",
            "3b5f203474e045d0a4ffabba84cd1f5d",
            "b047f00ed189467c8335ee891052e179",
            "bbc936f085e74e14ab1de23ab30227bd",
            "3425e5aa9f254befb5b4f67543ec701e",
            "0c17b6e060b04e35bca10dccd723e4e7",
            "18a6edffa2c545779dffdc98041f70b0",
            "acfda85a52e0422da6b76aeed3805094",
            "3c0b5ad218ae4d9dac090cb7b7fe5c1a",
            "380b27f68a3c42f78a3feb77d7e95b6f",
            "b1456557c06742eb85b695be09c110ab",
            "78aa5c8513c14e4480726e505f07f006",
            "1e6f29561f0f4acd8926e3ab0397c5ac",
            "17856846895b4cd4a0d97d81b895d52e",
            "ac21ed8164ff45cf9c4d2c80a3f80761",
            "c055349cad414740b1a0de8f220ef171",
            "256d40052ee949628a11d69329efc38a",
            "2e42f68fc9ed4c21b824882f9f6bcd65",
            "ed01efea6bbe4ec1addf061a960cd3b8",
            "b2f40178a49649228ca61911a03772cb",
            "11a26dbb4d1a43c5a5f3d49164143a2e"
          ]
        }
      },
      "source": [
        "tokenizer = BertTokenizer.from_pretrained(bert_model)\n",
        "\n",
        "def bleu_score(prediction, ground_truth):\n",
        "    prediction = prediction.max(2)[1]\n",
        "    acc_bleu = 0\n",
        "\n",
        "    for x, y in zip(ground_truth, prediction):\n",
        "        x = tokenizer.convert_ids_to_tokens(x.tolist())\n",
        "        y = tokenizer.convert_ids_to_tokens(y.tolist())\n",
        "        idx1 = x.index('[PAD]') if '[PAD]' in x else len(x)\n",
        "        idx2 = y.index('[SEP]') if '[SEP]' in y else len(y)\n",
        "\n",
        "        acc_bleu += bleu([x[1:idx1 - 1]], y[1:idx2 - 1], smoothing_function=SmoothingFunction().method4)\n",
        "    return acc_bleu / prediction.size(0)\n",
        "\n",
        "def eval(model, dataloader, criterion):\n",
        "    log = logging.getLogger(__name__)\n",
        "    model.eval()\n",
        "\n",
        "    epoch_loss = 0\n",
        "    epoch_bleu = 0\n",
        "\n",
        "    with torch.no_grad():\n",
        "\n",
        "        for i, (input_, output_) in tqdm(enumerate(dataloader), total=len(dataloader)):\n",
        "\n",
        "            input_data, input_length = input_\n",
        "            output_data, output_length = output_\n",
        "\n",
        "            prediction = model([x.to(device) for x in input_data], output_data.to(device), 0)  # turn off teacher forcing\n",
        "\n",
        "            sample_t = tokenizer.convert_ids_to_tokens(output_data[0].tolist())\n",
        "            sample_p = tokenizer.convert_ids_to_tokens(prediction[0].max(1)[1].tolist())\n",
        "            idx1 = sample_t.index('[PAD]') if '[PAD]' in sample_t else len(sample_t)\n",
        "            idx2 = sample_p.index('[SEP]') if '[SEP]' in sample_p else len(sample_p)\n",
        "\n",
        "            bleu_i = bleu_score(prediction, output_data.to(device))\n",
        "\n",
        "            trg_sent_len = prediction.size(1)\n",
        "            # trg = [trg sent len, batch size]\n",
        "            # output = [trg sent len, batch size, output dim]\n",
        "\n",
        "            prediction = prediction[:, 1:].contiguous().view(-1, prediction.shape[-1])\n",
        "            output_data = output_data[:, 1:].contiguous().view(-1)  # Find a way to avoid calling contiguous\n",
        "\n",
        "            # trg = [(trg sent len - 1) * batch size]\n",
        "            # output = [(trg sent len - 1) * batch size, output dim]\n",
        "\n",
        "            pw_loss = pw_criterion(prediction, output_data.to(device))\n",
        "\n",
        "            loss = criterion(prediction, output_data.to(device))\n",
        "            loss = loss.view(-1, trg_sent_len - 1)\n",
        "            loss = loss.sum(1)\n",
        "            loss = loss.mean(0)\n",
        "\n",
        "            if i % int(len(dataloader) * 0.1) == int(len(dataloader) * 0.1) - 1:\n",
        "                print('Batch {}: Sentence Loss: {:.3f}, Word Loss: {:.3f}, BLEU score {:.4f}'.format(i, loss.item(), pw_loss.item(), bleu_i))\n",
        "\n",
        "            epoch_loss += pw_loss.item()\n",
        "            epoch_bleu += bleu_i\n",
        "\n",
        "        return epoch_loss / len(dataloader), epoch_bleu / len(dataloader)"
      ],
      "id": "c51e0d74-7cb0-4334-85fc-676ab4d4212c",
      "execution_count": 13,
      "outputs": [
        {
          "output_type": "display_data",
          "data": {
            "application/vnd.jupyter.widget-view+json": {
              "model_id": "8e5ad8edc0f74115985c8f37de08a471",
              "version_minor": 0,
              "version_major": 2
            },
            "text/plain": [
              "HBox(children=(FloatProgress(value=0.0, description='Downloading', max=231508.0, style=ProgressStyle(descripti…"
            ]
          },
          "metadata": {
            "tags": []
          }
        },
        {
          "output_type": "stream",
          "text": [
            "\n"
          ],
          "name": "stdout"
        },
        {
          "output_type": "display_data",
          "data": {
            "application/vnd.jupyter.widget-view+json": {
              "model_id": "0c17b6e060b04e35bca10dccd723e4e7",
              "version_minor": 0,
              "version_major": 2
            },
            "text/plain": [
              "HBox(children=(FloatProgress(value=0.0, description='Downloading', max=28.0, style=ProgressStyle(description_w…"
            ]
          },
          "metadata": {
            "tags": []
          }
        },
        {
          "output_type": "stream",
          "text": [
            "\n"
          ],
          "name": "stdout"
        },
        {
          "output_type": "display_data",
          "data": {
            "application/vnd.jupyter.widget-view+json": {
              "model_id": "17856846895b4cd4a0d97d81b895d52e",
              "version_minor": 0,
              "version_major": 2
            },
            "text/plain": [
              "HBox(children=(FloatProgress(value=0.0, description='Downloading', max=466062.0, style=ProgressStyle(descripti…"
            ]
          },
          "metadata": {
            "tags": []
          }
        },
        {
          "output_type": "stream",
          "text": [
            "\n"
          ],
          "name": "stdout"
        }
      ]
    },
    {
      "cell_type": "code",
      "metadata": {
        "id": "5f214c24-992a-45e9-9d03-fbbb9bf22722",
        "tags": []
      },
      "source": [
        "class BertDataset(Dataset):\n",
        "    def __init__(self, json_path, bert_model):\n",
        "        all_data = json.load(open(json_path, 'r'))\n",
        "        input, output = self._extract_data(all_data)\n",
        "        self.data = self._tokenize_data(input, output, bert_model)\n",
        "\n",
        "    def _extract_data(self, all_data):\n",
        "        input, output = [], []\n",
        "        for data in all_data:\n",
        "            input.append((data['passages'], data['responses']))\n",
        "            output.append(data['clues'])\n",
        "        input, output = input[:-1], output[:-1]\n",
        "        return input, output\n",
        "\n",
        "    def _tokenize_data(self, input, output, bert_model):\n",
        "        tokenizer = BertTokenizer.from_pretrained(bert_model)\n",
        "        \n",
        "        data = tokenizer.batch_encode_plus(input, pad_to_max_length=True, return_tensors='pt')\n",
        "        out_dict = tokenizer.batch_encode_plus(output, pad_to_max_length=True, return_tensors='pt')\n",
        "        \n",
        "        data['output_ids'] = out_dict['input_ids']\n",
        "        data['output_len'] = out_dict['attention_mask'].sum(dim=1)\n",
        "        data['input_len'] = data['attention_mask'].sum(dim=1)\n",
        "        \n",
        "        idx = (data['input_len'] <= hp.max_input_length)\n",
        "        in_m = max(data['input_len'][idx])\n",
        "        out_m = max(data['output_len'][idx])\n",
        "        \n",
        "        data['input_ids'] = data['input_ids'][idx, :in_m]\n",
        "        data['attention_mask'] = data['attention_mask'][idx, :in_m]\n",
        "        data['token_type_ids'] = data['token_type_ids'][idx, :in_m]\n",
        "        data['input_len'] = data['input_len'][idx]\n",
        "        \n",
        "        data['output_ids'] = data['output_ids'][idx, :out_m]\n",
        "        data['output_len'] = data['output_len'][idx]\n",
        "        \n",
        "        return data\n",
        "    \n",
        "    def __len__(self):\n",
        "        return self.data['input_ids'].shape[0]\n",
        "    \n",
        "    def __getitem__(self, idx):\n",
        "        return (((self.data['input_ids'][idx],\n",
        "                self.data['attention_mask'][idx],\n",
        "                self.data['token_type_ids'][idx]),\n",
        "                self.data['input_len'][idx]),\n",
        "                (self.data['output_ids'][idx],\n",
        "                self.data['output_len'][idx])\n",
        "                )"
      ],
      "id": "5f214c24-992a-45e9-9d03-fbbb9bf22722",
      "execution_count": 14,
      "outputs": []
    },
    {
      "cell_type": "code",
      "metadata": {
        "id": "d6c1c264-e140-4367-8e46-7566f045309e"
      },
      "source": [
        "train_set = BertDataset('data_train.json', bert_model)\n",
        "dev_set = BertDataset('data_dev.json', bert_model)"
      ],
      "id": "d6c1c264-e140-4367-8e46-7566f045309e",
      "execution_count": null,
      "outputs": []
    },
    {
      "cell_type": "code",
      "metadata": {
        "id": "efa510eb-1da8-4aa9-830c-1e6193dd5e10"
      },
      "source": [
        "train_loader = DataLoader(train_set, batch_size=hp.batch_size, shuffle=True,\n",
        "                          num_workers=hp.num_workers, pin_memory=hp.pin_memory\n",
        "                         )\n",
        "dev_loader = DataLoader(dev_set, batch_size=hp.batch_size, shuffle=True,\n",
        "                        num_workers=hp.num_workers, pin_memory=hp.pin_memory\n",
        "                       )"
      ],
      "id": "efa510eb-1da8-4aa9-830c-1e6193dd5e10",
      "execution_count": null,
      "outputs": []
    },
    {
      "cell_type": "code",
      "metadata": {
        "id": "bd5dee48-3a8b-4509-a59b-b8a513fed6f0"
      },
      "source": [
        "attn = Attention(hp.bert_hidden_size, hp.decoder_hidden_size, hp.attention_hidden_size)\n",
        "decoder = Decoder(hp.bert_vocab_size, hp.decoder_input_size, hp.bert_hidden_size,\n",
        "                  hp.decoder_hidden_size, hp.n_layers, hp.dropout, attn)\n",
        "encoder = BertModel.from_pretrained(bert_path)"
      ],
      "id": "bd5dee48-3a8b-4509-a59b-b8a513fed6f0",
      "execution_count": null,
      "outputs": []
    },
    {
      "cell_type": "code",
      "metadata": {
        "id": "f6a1144c-86cd-47b7-8478-cbb0f73b9056"
      },
      "source": [
        "model = Seq2Seq(encoder, decoder, hp.encoder_trained)"
      ],
      "id": "f6a1144c-86cd-47b7-8478-cbb0f73b9056",
      "execution_count": null,
      "outputs": []
    },
    {
      "cell_type": "code",
      "metadata": {
        "id": "abd9f8ac-f0b8-4be7-8be9-11609e236cff"
      },
      "source": [
        "optimizer = optim.SGD(decoder.parameters(), weight_decay=hp.weight_decay, lr=hp.lr, momentum=hp.momentum)\n",
        "criterion = nn.CrossEntropyLoss(ignore_index=0, reduction='none')"
      ],
      "id": "abd9f8ac-f0b8-4be7-8be9-11609e236cff",
      "execution_count": null,
      "outputs": []
    },
    {
      "cell_type": "code",
      "metadata": {
        "id": "a6632ab1-3b24-4b25-ac15-61f45ec4c927",
        "tags": []
      },
      "source": [
        "model.to(device);"
      ],
      "id": "a6632ab1-3b24-4b25-ac15-61f45ec4c927",
      "execution_count": null,
      "outputs": []
    },
    {
      "cell_type": "code",
      "metadata": {
        "id": "16ff6b7a-e7b1-4739-82ac-038af79a850b"
      },
      "source": [
        "train_losses, dev_losses = [], []"
      ],
      "id": "16ff6b7a-e7b1-4739-82ac-038af79a850b",
      "execution_count": null,
      "outputs": []
    },
    {
      "cell_type": "code",
      "metadata": {
        "id": "6mS-i5_EoDvl"
      },
      "source": [
        "last_dev_loss = None\n",
        "patience = hp.patience"
      ],
      "id": "6mS-i5_EoDvl",
      "execution_count": null,
      "outputs": []
    },
    {
      "cell_type": "code",
      "metadata": {
        "id": "K2Zfx9VIrGJY"
      },
      "source": [
        "model_save_dir = Path('/content/drive/MyDrive/NLP')\n",
        "model_save_dir.is_dir()"
      ],
      "id": "K2Zfx9VIrGJY",
      "execution_count": null,
      "outputs": []
    },
    {
      "cell_type": "code",
      "metadata": {
        "id": "73b679d3-4e0b-424c-818d-d337f89b82dc"
      },
      "source": [
        "for epoch in range(hp.max_epochs):\n",
        "    train_loss = train(model, train_loader, optimizer, criterion, hp.clip)\n",
        "    dev_loss, bleu_score_i = eval(model, dev_loader, criterion)\n",
        "    print('End of epoch {}. Train loss is {:.3f}, Dev loss is {:.3f}, Bleu is {}'\n",
        "          .format(epoch+1, train_loss, dev_loss, bleu_score_i))\n",
        "    train_losses.append(train_loss)\n",
        "    dev_losses.append(dev_loss)\n",
        "    if (dev_loss - last_dev_loss) > -0.00001:\n",
        "        patience -= 1\n",
        "        if patience <= 0: break\n",
        "    else:\n",
        "        patience = hp.patience\n",
        "    last_dev_loss = dev_loss\n",
        "if model_save_dir.is_dir():\n",
        "    torch.save(model, '/content/drive/MyDrive/NLP/best_model_big_BERT.pt')"
      ],
      "id": "73b679d3-4e0b-424c-818d-d337f89b82dc",
      "execution_count": null,
      "outputs": []
    },
    {
      "cell_type": "code",
      "metadata": {
        "id": "YoV1CwttrBbk"
      },
      "source": [
        ""
      ],
      "id": "YoV1CwttrBbk",
      "execution_count": null,
      "outputs": []
    }
  ]
}