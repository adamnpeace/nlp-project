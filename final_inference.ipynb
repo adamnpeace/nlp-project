{
  "nbformat": 4,
  "nbformat_minor": 0,
  "metadata": {
    "accelerator": "GPU",
    "colab": {
      "name": "Final Notebook.ipynb",
      "provenance": [],
      "collapsed_sections": [
        "27IrM4JbmZSU",
        "mYTlTpZFSTD3",
        "JNqrbkxFhmMs",
        "B_7EL0nMdSY-"
      ],
      "toc_visible": true
    },
    "kernelspec": {
      "display_name": "Python 3",
      "language": "python",
      "name": "python3"
    },
    "language_info": {
      "codemirror_mode": {
        "name": "ipython",
        "version": 3
      },
      "file_extension": ".py",
      "mimetype": "text/x-python",
      "name": "python",
      "nbconvert_exporter": "python",
      "pygments_lexer": "ipython3",
      "version": "3.7.10"
    },
    "widgets": {
      "application/vnd.jupyter.widget-state+json": {
        "1b313aab3eb04bb899dd8727aefa361a": {
          "model_module": "@jupyter-widgets/controls",
          "model_name": "HBoxModel",
          "state": {
            "_view_name": "HBoxView",
            "_dom_classes": [],
            "_model_name": "HBoxModel",
            "_view_module": "@jupyter-widgets/controls",
            "_model_module_version": "1.5.0",
            "_view_count": null,
            "_view_module_version": "1.5.0",
            "box_style": "",
            "layout": "IPY_MODEL_79a2007aa480415596771a764f631051",
            "_model_module": "@jupyter-widgets/controls",
            "children": [
              "IPY_MODEL_01c565d9109c44228e02736438d17569",
              "IPY_MODEL_fb30b9e7162e436a9c3014c343bc3d41"
            ]
          }
        },
        "79a2007aa480415596771a764f631051": {
          "model_module": "@jupyter-widgets/base",
          "model_name": "LayoutModel",
          "state": {
            "_view_name": "LayoutView",
            "grid_template_rows": null,
            "right": null,
            "justify_content": null,
            "_view_module": "@jupyter-widgets/base",
            "overflow": null,
            "_model_module_version": "1.2.0",
            "_view_count": null,
            "flex_flow": null,
            "width": null,
            "min_width": null,
            "border": null,
            "align_items": null,
            "bottom": null,
            "_model_module": "@jupyter-widgets/base",
            "top": null,
            "grid_column": null,
            "overflow_y": null,
            "overflow_x": null,
            "grid_auto_flow": null,
            "grid_area": null,
            "grid_template_columns": null,
            "flex": null,
            "_model_name": "LayoutModel",
            "justify_items": null,
            "grid_row": null,
            "max_height": null,
            "align_content": null,
            "visibility": null,
            "align_self": null,
            "height": null,
            "min_height": null,
            "padding": null,
            "grid_auto_rows": null,
            "grid_gap": null,
            "max_width": null,
            "order": null,
            "_view_module_version": "1.2.0",
            "grid_template_areas": null,
            "object_position": null,
            "object_fit": null,
            "grid_auto_columns": null,
            "margin": null,
            "display": null,
            "left": null
          }
        },
        "01c565d9109c44228e02736438d17569": {
          "model_module": "@jupyter-widgets/controls",
          "model_name": "FloatProgressModel",
          "state": {
            "_view_name": "ProgressView",
            "style": "IPY_MODEL_4c259650b9314353887e54b61bd2a79d",
            "_dom_classes": [],
            "description": "Downloading: 100%",
            "_model_name": "FloatProgressModel",
            "bar_style": "success",
            "max": 231508,
            "_view_module": "@jupyter-widgets/controls",
            "_model_module_version": "1.5.0",
            "value": 231508,
            "_view_count": null,
            "_view_module_version": "1.5.0",
            "orientation": "horizontal",
            "min": 0,
            "description_tooltip": null,
            "_model_module": "@jupyter-widgets/controls",
            "layout": "IPY_MODEL_c6b7af6e57024307a284c2d399382110"
          }
        },
        "fb30b9e7162e436a9c3014c343bc3d41": {
          "model_module": "@jupyter-widgets/controls",
          "model_name": "HTMLModel",
          "state": {
            "_view_name": "HTMLView",
            "style": "IPY_MODEL_26d6549789d34f3daddb005630e7e1b3",
            "_dom_classes": [],
            "description": "",
            "_model_name": "HTMLModel",
            "placeholder": "​",
            "_view_module": "@jupyter-widgets/controls",
            "_model_module_version": "1.5.0",
            "value": " 232k/232k [00:00&lt;00:00, 763kB/s]",
            "_view_count": null,
            "_view_module_version": "1.5.0",
            "description_tooltip": null,
            "_model_module": "@jupyter-widgets/controls",
            "layout": "IPY_MODEL_afb7228a92134fb08b38d6acc54b65c1"
          }
        },
        "4c259650b9314353887e54b61bd2a79d": {
          "model_module": "@jupyter-widgets/controls",
          "model_name": "ProgressStyleModel",
          "state": {
            "_view_name": "StyleView",
            "_model_name": "ProgressStyleModel",
            "description_width": "initial",
            "_view_module": "@jupyter-widgets/base",
            "_model_module_version": "1.5.0",
            "_view_count": null,
            "_view_module_version": "1.2.0",
            "bar_color": null,
            "_model_module": "@jupyter-widgets/controls"
          }
        },
        "c6b7af6e57024307a284c2d399382110": {
          "model_module": "@jupyter-widgets/base",
          "model_name": "LayoutModel",
          "state": {
            "_view_name": "LayoutView",
            "grid_template_rows": null,
            "right": null,
            "justify_content": null,
            "_view_module": "@jupyter-widgets/base",
            "overflow": null,
            "_model_module_version": "1.2.0",
            "_view_count": null,
            "flex_flow": null,
            "width": null,
            "min_width": null,
            "border": null,
            "align_items": null,
            "bottom": null,
            "_model_module": "@jupyter-widgets/base",
            "top": null,
            "grid_column": null,
            "overflow_y": null,
            "overflow_x": null,
            "grid_auto_flow": null,
            "grid_area": null,
            "grid_template_columns": null,
            "flex": null,
            "_model_name": "LayoutModel",
            "justify_items": null,
            "grid_row": null,
            "max_height": null,
            "align_content": null,
            "visibility": null,
            "align_self": null,
            "height": null,
            "min_height": null,
            "padding": null,
            "grid_auto_rows": null,
            "grid_gap": null,
            "max_width": null,
            "order": null,
            "_view_module_version": "1.2.0",
            "grid_template_areas": null,
            "object_position": null,
            "object_fit": null,
            "grid_auto_columns": null,
            "margin": null,
            "display": null,
            "left": null
          }
        },
        "26d6549789d34f3daddb005630e7e1b3": {
          "model_module": "@jupyter-widgets/controls",
          "model_name": "DescriptionStyleModel",
          "state": {
            "_view_name": "StyleView",
            "_model_name": "DescriptionStyleModel",
            "description_width": "",
            "_view_module": "@jupyter-widgets/base",
            "_model_module_version": "1.5.0",
            "_view_count": null,
            "_view_module_version": "1.2.0",
            "_model_module": "@jupyter-widgets/controls"
          }
        },
        "afb7228a92134fb08b38d6acc54b65c1": {
          "model_module": "@jupyter-widgets/base",
          "model_name": "LayoutModel",
          "state": {
            "_view_name": "LayoutView",
            "grid_template_rows": null,
            "right": null,
            "justify_content": null,
            "_view_module": "@jupyter-widgets/base",
            "overflow": null,
            "_model_module_version": "1.2.0",
            "_view_count": null,
            "flex_flow": null,
            "width": null,
            "min_width": null,
            "border": null,
            "align_items": null,
            "bottom": null,
            "_model_module": "@jupyter-widgets/base",
            "top": null,
            "grid_column": null,
            "overflow_y": null,
            "overflow_x": null,
            "grid_auto_flow": null,
            "grid_area": null,
            "grid_template_columns": null,
            "flex": null,
            "_model_name": "LayoutModel",
            "justify_items": null,
            "grid_row": null,
            "max_height": null,
            "align_content": null,
            "visibility": null,
            "align_self": null,
            "height": null,
            "min_height": null,
            "padding": null,
            "grid_auto_rows": null,
            "grid_gap": null,
            "max_width": null,
            "order": null,
            "_view_module_version": "1.2.0",
            "grid_template_areas": null,
            "object_position": null,
            "object_fit": null,
            "grid_auto_columns": null,
            "margin": null,
            "display": null,
            "left": null
          }
        }
      }
    }
  },
  "cells": [
    {
      "cell_type": "markdown",
      "metadata": {
        "id": "q-KwmztwfS5f"
      },
      "source": [
        "# Jeopardy Notebook\n",
        "\n",
        "**Please Run with GPU in Colab.** The notebook will take about 3m to execute fully.\n",
        "\n",
        "Instructions:\n",
        "\n",
        "- Ensure sections `Part 1` and `Part 2` are collapsed\n",
        "- Enter input below\n",
        "- Press play button beneath `Part 1`\n",
        "- Wait for an error *\"Session Crashed for unknown reason\"*\n",
        "- Press play button beneath `Part 2`\n",
        "- Execute the final cell\n",
        "\n",
        "\n",
        "> ***You must `Factory Reset Runtime` to run the notebook on a new input***\n",
        "\n"
      ]
    },
    {
      "cell_type": "code",
      "metadata": {
        "colab": {
          "base_uri": "https://localhost:8080/"
        },
        "id": "0SG82qobpMhR",
        "outputId": "e7671b3a-03ea-4649-87e7-68a83818d2a5"
      },
      "source": [
        "import torch\n",
        "assert torch.cuda.is_available(), 'Please enable GPU runtime in `Runtime>Change Runtime Type`'\n",
        "text = str(input('Please enter the context (only first 128 words will be used): '))"
      ],
      "execution_count": 2,
      "outputs": [
        {
          "output_type": "stream",
          "text": [
            "Please enter the context (only first 128 words will be used): The Balfour Declaration was a public statement issued by the British government in 1917 during the First World War announcing support for the establishment of a \"national home for the Jewish people\" in Palestine, then an Ottoman region with a small minority Jewish population. The declaration was contained in a letter dated 2 November 1917 from the United Kingdom's Foreign Secretary Arthur Balfour to Lord Rothschild, a leader of the British Jewish community, for transmission to the Zionist Federation of Great Britain and Ireland. The text of the declaration was published in the press on 9 November 1917\n"
          ],
          "name": "stdout"
        }
      ]
    },
    {
      "cell_type": "markdown",
      "metadata": {
        "id": "8IFAcWQgpZzS"
      },
      "source": [
        "> Run the above cell ^ and enter a piece of context to generate a clue from"
      ]
    },
    {
      "cell_type": "markdown",
      "metadata": {
        "id": "27IrM4JbmZSU"
      },
      "source": [
        "# Part 1 - Fine-tuned BERT Model Inference\n",
        "\n",
        "> Collapse me"
      ]
    },
    {
      "cell_type": "code",
      "metadata": {
        "colab": {
          "base_uri": "https://localhost:8080/"
        },
        "id": "Sr9DujWdh7pJ",
        "outputId": "d3df7151-c730-4882-f19d-126bcefdef00"
      },
      "source": [
        "!gdown --id 1y267OwUrFRTCHxqet3l7dEEnCMmGZJGK\n",
        "!gdown --id 1-1YIOyMdCvdhO9Z_DRHRBk20DhLB9XSp\n",
        "!unzip t5-small-e2e-qg-7k.zip\n",
        "!rm t5-small-e2e-qg-7k.zip"
      ],
      "execution_count": 3,
      "outputs": [
        {
          "output_type": "stream",
          "text": [
            "Downloading...\n",
            "From: https://drive.google.com/uc?id=1y267OwUrFRTCHxqet3l7dEEnCMmGZJGK\n",
            "To: /content/final_BERT_model.pt\n",
            "992MB [00:17, 56.6MB/s]\n",
            "Downloading...\n",
            "From: https://drive.google.com/uc?id=1-1YIOyMdCvdhO9Z_DRHRBk20DhLB9XSp\n",
            "To: /content/t5-small-e2e-qg-7k.zip\n",
            "224MB [00:02, 90.1MB/s]\n",
            "Archive:  t5-small-e2e-qg-7k.zip\n",
            "   creating: t5-small-e2e-qg-7k/\n",
            "  inflating: t5-small-e2e-qg-7k/special_tokens_map.json  \n",
            "  inflating: t5-small-e2e-qg-7k/tokenizer_config.json  \n",
            "  inflating: t5-small-e2e-qg-7k/spiece.model  \n",
            "  inflating: t5-small-e2e-qg-7k/training_args.bin  \n",
            "  inflating: t5-small-e2e-qg-7k/added_tokens.json  \n",
            "  inflating: t5-small-e2e-qg-7k/config.json  \n",
            "  inflating: t5-small-e2e-qg-7k/pytorch_model.bin  \n"
          ],
          "name": "stdout"
        }
      ]
    },
    {
      "cell_type": "code",
      "metadata": {
        "id": "zSM5s7xDbC98"
      },
      "source": [
        "import os\n",
        "assert (os.path.exists('/content/final_BERT_model.pt')\n",
        "    and os.path.exists('/content/t5-small-e2e-qg-7k')), 'download error: rerun the above cell please'"
      ],
      "execution_count": 4,
      "outputs": []
    },
    {
      "cell_type": "code",
      "metadata": {
        "id": "xxftWSOfzzcE"
      },
      "source": [
        "import os, pickle, time, random, logging, json, gc\n",
        "from datetime import datetime\n",
        "from tqdm import tqdm\n",
        "\n",
        "import numpy as np\n",
        "import pandas as pd"
      ],
      "execution_count": 5,
      "outputs": []
    },
    {
      "cell_type": "markdown",
      "metadata": {
        "id": "1MQcTD5WzdJw"
      },
      "source": [
        "## BERT Model Definition"
      ]
    },
    {
      "cell_type": "code",
      "metadata": {
        "colab": {
          "base_uri": "https://localhost:8080/",
          "height": 0
        },
        "id": "K00Vb4mLp3TB",
        "outputId": "41c32e3a-1135-4f80-b15d-4fc2a3b2f565"
      },
      "source": [
        "!pip install --user -U nltk\n",
        "!python -m nltk.downloader punkt\n",
        "!pip install --force-reinstall transformers==2.11.0"
      ],
      "execution_count": 6,
      "outputs": [
        {
          "output_type": "stream",
          "text": [
            "Collecting nltk\n",
            "\u001b[?25l  Downloading https://files.pythonhosted.org/packages/5e/37/9532ddd4b1bbb619333d5708aaad9bf1742f051a664c3c6fa6632a105fd8/nltk-3.6.2-py3-none-any.whl (1.5MB)\n",
            "\r\u001b[K     |▎                               | 10kB 24.4MB/s eta 0:00:01\r\u001b[K     |▌                               | 20kB 30.6MB/s eta 0:00:01\r\u001b[K     |▊                               | 30kB 21.4MB/s eta 0:00:01\r\u001b[K     |█                               | 40kB 17.9MB/s eta 0:00:01\r\u001b[K     |█▏                              | 51kB 9.4MB/s eta 0:00:01\r\u001b[K     |█▍                              | 61kB 9.6MB/s eta 0:00:01\r\u001b[K     |█▋                              | 71kB 10.9MB/s eta 0:00:01\r\u001b[K     |█▉                              | 81kB 11.2MB/s eta 0:00:01\r\u001b[K     |██                              | 92kB 11.3MB/s eta 0:00:01\r\u001b[K     |██▎                             | 102kB 9.1MB/s eta 0:00:01\r\u001b[K     |██▌                             | 112kB 9.1MB/s eta 0:00:01\r\u001b[K     |██▊                             | 122kB 9.1MB/s eta 0:00:01\r\u001b[K     |███                             | 133kB 9.1MB/s eta 0:00:01\r\u001b[K     |███▏                            | 143kB 9.1MB/s eta 0:00:01\r\u001b[K     |███▍                            | 153kB 9.1MB/s eta 0:00:01\r\u001b[K     |███▋                            | 163kB 9.1MB/s eta 0:00:01\r\u001b[K     |███▉                            | 174kB 9.1MB/s eta 0:00:01\r\u001b[K     |████                            | 184kB 9.1MB/s eta 0:00:01\r\u001b[K     |████▎                           | 194kB 9.1MB/s eta 0:00:01\r\u001b[K     |████▌                           | 204kB 9.1MB/s eta 0:00:01\r\u001b[K     |████▊                           | 215kB 9.1MB/s eta 0:00:01\r\u001b[K     |█████                           | 225kB 9.1MB/s eta 0:00:01\r\u001b[K     |█████▏                          | 235kB 9.1MB/s eta 0:00:01\r\u001b[K     |█████▍                          | 245kB 9.1MB/s eta 0:00:01\r\u001b[K     |█████▋                          | 256kB 9.1MB/s eta 0:00:01\r\u001b[K     |█████▉                          | 266kB 9.1MB/s eta 0:00:01\r\u001b[K     |██████                          | 276kB 9.1MB/s eta 0:00:01\r\u001b[K     |██████▎                         | 286kB 9.1MB/s eta 0:00:01\r\u001b[K     |██████▌                         | 296kB 9.1MB/s eta 0:00:01\r\u001b[K     |██████▊                         | 307kB 9.1MB/s eta 0:00:01\r\u001b[K     |███████                         | 317kB 9.1MB/s eta 0:00:01\r\u001b[K     |███████▏                        | 327kB 9.1MB/s eta 0:00:01\r\u001b[K     |███████▍                        | 337kB 9.1MB/s eta 0:00:01\r\u001b[K     |███████▊                        | 348kB 9.1MB/s eta 0:00:01\r\u001b[K     |████████                        | 358kB 9.1MB/s eta 0:00:01\r\u001b[K     |████████▏                       | 368kB 9.1MB/s eta 0:00:01\r\u001b[K     |████████▍                       | 378kB 9.1MB/s eta 0:00:01\r\u001b[K     |████████▋                       | 389kB 9.1MB/s eta 0:00:01\r\u001b[K     |████████▉                       | 399kB 9.1MB/s eta 0:00:01\r\u001b[K     |█████████                       | 409kB 9.1MB/s eta 0:00:01\r\u001b[K     |█████████▎                      | 419kB 9.1MB/s eta 0:00:01\r\u001b[K     |█████████▌                      | 430kB 9.1MB/s eta 0:00:01\r\u001b[K     |█████████▊                      | 440kB 9.1MB/s eta 0:00:01\r\u001b[K     |██████████                      | 450kB 9.1MB/s eta 0:00:01\r\u001b[K     |██████████▏                     | 460kB 9.1MB/s eta 0:00:01\r\u001b[K     |██████████▍                     | 471kB 9.1MB/s eta 0:00:01\r\u001b[K     |██████████▋                     | 481kB 9.1MB/s eta 0:00:01\r\u001b[K     |██████████▉                     | 491kB 9.1MB/s eta 0:00:01\r\u001b[K     |███████████                     | 501kB 9.1MB/s eta 0:00:01\r\u001b[K     |███████████▎                    | 512kB 9.1MB/s eta 0:00:01\r\u001b[K     |███████████▌                    | 522kB 9.1MB/s eta 0:00:01\r\u001b[K     |███████████▊                    | 532kB 9.1MB/s eta 0:00:01\r\u001b[K     |████████████                    | 542kB 9.1MB/s eta 0:00:01\r\u001b[K     |████████████▏                   | 552kB 9.1MB/s eta 0:00:01\r\u001b[K     |████████████▍                   | 563kB 9.1MB/s eta 0:00:01\r\u001b[K     |████████████▋                   | 573kB 9.1MB/s eta 0:00:01\r\u001b[K     |████████████▉                   | 583kB 9.1MB/s eta 0:00:01\r\u001b[K     |█████████████                   | 593kB 9.1MB/s eta 0:00:01\r\u001b[K     |█████████████▎                  | 604kB 9.1MB/s eta 0:00:01\r\u001b[K     |█████████████▌                  | 614kB 9.1MB/s eta 0:00:01\r\u001b[K     |█████████████▊                  | 624kB 9.1MB/s eta 0:00:01\r\u001b[K     |██████████████                  | 634kB 9.1MB/s eta 0:00:01\r\u001b[K     |██████████████▏                 | 645kB 9.1MB/s eta 0:00:01\r\u001b[K     |██████████████▍                 | 655kB 9.1MB/s eta 0:00:01\r\u001b[K     |██████████████▋                 | 665kB 9.1MB/s eta 0:00:01\r\u001b[K     |██████████████▉                 | 675kB 9.1MB/s eta 0:00:01\r\u001b[K     |███████████████▏                | 686kB 9.1MB/s eta 0:00:01\r\u001b[K     |███████████████▍                | 696kB 9.1MB/s eta 0:00:01\r\u001b[K     |███████████████▋                | 706kB 9.1MB/s eta 0:00:01\r\u001b[K     |███████████████▉                | 716kB 9.1MB/s eta 0:00:01\r\u001b[K     |████████████████                | 727kB 9.1MB/s eta 0:00:01\r\u001b[K     |████████████████▎               | 737kB 9.1MB/s eta 0:00:01\r\u001b[K     |████████████████▌               | 747kB 9.1MB/s eta 0:00:01\r\u001b[K     |████████████████▊               | 757kB 9.1MB/s eta 0:00:01\r\u001b[K     |█████████████████               | 768kB 9.1MB/s eta 0:00:01\r\u001b[K     |█████████████████▏              | 778kB 9.1MB/s eta 0:00:01\r\u001b[K     |█████████████████▍              | 788kB 9.1MB/s eta 0:00:01\r\u001b[K     |█████████████████▋              | 798kB 9.1MB/s eta 0:00:01\r\u001b[K     |█████████████████▉              | 808kB 9.1MB/s eta 0:00:01\r\u001b[K     |██████████████████              | 819kB 9.1MB/s eta 0:00:01\r\u001b[K     |██████████████████▎             | 829kB 9.1MB/s eta 0:00:01\r\u001b[K     |██████████████████▌             | 839kB 9.1MB/s eta 0:00:01\r\u001b[K     |██████████████████▊             | 849kB 9.1MB/s eta 0:00:01\r\u001b[K     |███████████████████             | 860kB 9.1MB/s eta 0:00:01\r\u001b[K     |███████████████████▏            | 870kB 9.1MB/s eta 0:00:01\r\u001b[K     |███████████████████▍            | 880kB 9.1MB/s eta 0:00:01\r\u001b[K     |███████████████████▋            | 890kB 9.1MB/s eta 0:00:01\r\u001b[K     |███████████████████▉            | 901kB 9.1MB/s eta 0:00:01\r\u001b[K     |████████████████████            | 911kB 9.1MB/s eta 0:00:01\r\u001b[K     |████████████████████▎           | 921kB 9.1MB/s eta 0:00:01\r\u001b[K     |████████████████████▌           | 931kB 9.1MB/s eta 0:00:01\r\u001b[K     |████████████████████▊           | 942kB 9.1MB/s eta 0:00:01\r\u001b[K     |█████████████████████           | 952kB 9.1MB/s eta 0:00:01\r\u001b[K     |█████████████████████▏          | 962kB 9.1MB/s eta 0:00:01\r\u001b[K     |█████████████████████▍          | 972kB 9.1MB/s eta 0:00:01\r\u001b[K     |█████████████████████▋          | 983kB 9.1MB/s eta 0:00:01\r\u001b[K     |█████████████████████▉          | 993kB 9.1MB/s eta 0:00:01\r\u001b[K     |██████████████████████          | 1.0MB 9.1MB/s eta 0:00:01\r\u001b[K     |██████████████████████▎         | 1.0MB 9.1MB/s eta 0:00:01\r\u001b[K     |██████████████████████▌         | 1.0MB 9.1MB/s eta 0:00:01\r\u001b[K     |██████████████████████▉         | 1.0MB 9.1MB/s eta 0:00:01\r\u001b[K     |███████████████████████         | 1.0MB 9.1MB/s eta 0:00:01\r\u001b[K     |███████████████████████▎        | 1.1MB 9.1MB/s eta 0:00:01\r\u001b[K     |███████████████████████▌        | 1.1MB 9.1MB/s eta 0:00:01\r\u001b[K     |███████████████████████▊        | 1.1MB 9.1MB/s eta 0:00:01\r\u001b[K     |████████████████████████        | 1.1MB 9.1MB/s eta 0:00:01\r\u001b[K     |████████████████████████▏       | 1.1MB 9.1MB/s eta 0:00:01\r\u001b[K     |████████████████████████▍       | 1.1MB 9.1MB/s eta 0:00:01\r\u001b[K     |████████████████████████▋       | 1.1MB 9.1MB/s eta 0:00:01\r\u001b[K     |████████████████████████▉       | 1.1MB 9.1MB/s eta 0:00:01\r\u001b[K     |█████████████████████████       | 1.1MB 9.1MB/s eta 0:00:01\r\u001b[K     |█████████████████████████▎      | 1.1MB 9.1MB/s eta 0:00:01\r\u001b[K     |█████████████████████████▌      | 1.2MB 9.1MB/s eta 0:00:01\r\u001b[K     |█████████████████████████▊      | 1.2MB 9.1MB/s eta 0:00:01\r\u001b[K     |██████████████████████████      | 1.2MB 9.1MB/s eta 0:00:01\r\u001b[K     |██████████████████████████▏     | 1.2MB 9.1MB/s eta 0:00:01\r\u001b[K     |██████████████████████████▍     | 1.2MB 9.1MB/s eta 0:00:01\r\u001b[K     |██████████████████████████▋     | 1.2MB 9.1MB/s eta 0:00:01\r\u001b[K     |██████████████████████████▉     | 1.2MB 9.1MB/s eta 0:00:01\r\u001b[K     |███████████████████████████     | 1.2MB 9.1MB/s eta 0:00:01\r\u001b[K     |███████████████████████████▎    | 1.2MB 9.1MB/s eta 0:00:01\r\u001b[K     |███████████████████████████▌    | 1.2MB 9.1MB/s eta 0:00:01\r\u001b[K     |███████████████████████████▊    | 1.3MB 9.1MB/s eta 0:00:01\r\u001b[K     |████████████████████████████    | 1.3MB 9.1MB/s eta 0:00:01\r\u001b[K     |████████████████████████████▏   | 1.3MB 9.1MB/s eta 0:00:01\r\u001b[K     |████████████████████████████▍   | 1.3MB 9.1MB/s eta 0:00:01\r\u001b[K     |████████████████████████████▋   | 1.3MB 9.1MB/s eta 0:00:01\r\u001b[K     |████████████████████████████▉   | 1.3MB 9.1MB/s eta 0:00:01\r\u001b[K     |█████████████████████████████   | 1.3MB 9.1MB/s eta 0:00:01\r\u001b[K     |█████████████████████████████▎  | 1.3MB 9.1MB/s eta 0:00:01\r\u001b[K     |█████████████████████████████▌  | 1.3MB 9.1MB/s eta 0:00:01\r\u001b[K     |█████████████████████████████▊  | 1.4MB 9.1MB/s eta 0:00:01\r\u001b[K     |██████████████████████████████  | 1.4MB 9.1MB/s eta 0:00:01\r\u001b[K     |██████████████████████████████▎ | 1.4MB 9.1MB/s eta 0:00:01\r\u001b[K     |██████████████████████████████▌ | 1.4MB 9.1MB/s eta 0:00:01\r\u001b[K     |██████████████████████████████▊ | 1.4MB 9.1MB/s eta 0:00:01\r\u001b[K     |███████████████████████████████ | 1.4MB 9.1MB/s eta 0:00:01\r\u001b[K     |███████████████████████████████▏| 1.4MB 9.1MB/s eta 0:00:01\r\u001b[K     |███████████████████████████████▍| 1.4MB 9.1MB/s eta 0:00:01\r\u001b[K     |███████████████████████████████▋| 1.4MB 9.1MB/s eta 0:00:01\r\u001b[K     |███████████████████████████████▉| 1.4MB 9.1MB/s eta 0:00:01\r\u001b[K     |████████████████████████████████| 1.5MB 9.1MB/s \n",
            "\u001b[?25hRequirement already satisfied, skipping upgrade: regex in /usr/local/lib/python3.7/dist-packages (from nltk) (2019.12.20)\n",
            "Requirement already satisfied, skipping upgrade: click in /usr/local/lib/python3.7/dist-packages (from nltk) (8.0.0)\n",
            "Requirement already satisfied, skipping upgrade: tqdm in /usr/local/lib/python3.7/dist-packages (from nltk) (4.41.1)\n",
            "Requirement already satisfied, skipping upgrade: joblib in /usr/local/lib/python3.7/dist-packages (from nltk) (1.0.1)\n",
            "Installing collected packages: nltk\n",
            "\u001b[33m  WARNING: The script nltk is installed in '/root/.local/bin' which is not on PATH.\n",
            "  Consider adding this directory to PATH or, if you prefer to suppress this warning, use --no-warn-script-location.\u001b[0m\n",
            "Successfully installed nltk-3.6.2\n",
            "/usr/lib/python3.7/runpy.py:125: RuntimeWarning: 'nltk.downloader' found in sys.modules after import of package 'nltk', but prior to execution of 'nltk.downloader'; this may result in unpredictable behaviour\n",
            "  warn(RuntimeWarning(msg))\n",
            "[nltk_data] Downloading package punkt to /root/nltk_data...\n",
            "[nltk_data]   Unzipping tokenizers/punkt.zip.\n",
            "Collecting transformers==2.11.0\n",
            "\u001b[?25l  Downloading https://files.pythonhosted.org/packages/48/35/ad2c5b1b8f99feaaf9d7cdadaeef261f098c6e1a6a2935d4d07662a6b780/transformers-2.11.0-py3-none-any.whl (674kB)\n",
            "\u001b[K     |████████████████████████████████| 675kB 7.4MB/s \n",
            "\u001b[?25hCollecting regex!=2019.12.17\n",
            "\u001b[?25l  Downloading https://files.pythonhosted.org/packages/c4/28/5f08d8841013ccf72cd95dfff2500fe7fb39467af12c5e7b802d8381d811/regex-2021.4.4-cp37-cp37m-manylinux2014_x86_64.whl (720kB)\n",
            "\u001b[K     |████████████████████████████████| 727kB 16.0MB/s \n",
            "\u001b[?25hCollecting sentencepiece\n",
            "\u001b[?25l  Downloading https://files.pythonhosted.org/packages/f5/99/e0808cb947ba10f575839c43e8fafc9cc44e4a7a2c8f79c60db48220a577/sentencepiece-0.1.95-cp37-cp37m-manylinux2014_x86_64.whl (1.2MB)\n",
            "\u001b[K     |████████████████████████████████| 1.2MB 25.7MB/s \n",
            "\u001b[?25hCollecting numpy\n",
            "\u001b[?25l  Downloading https://files.pythonhosted.org/packages/a5/42/560d269f604d3e186a57c21a363e77e199358d054884e61b73e405dd217c/numpy-1.20.3-cp37-cp37m-manylinux_2_12_x86_64.manylinux2010_x86_64.whl (15.3MB)\n",
            "\u001b[K     |████████████████████████████████| 15.3MB 360kB/s \n",
            "\u001b[?25hCollecting requests\n",
            "\u001b[?25l  Downloading https://files.pythonhosted.org/packages/29/c1/24814557f1d22c56d50280771a17307e6bf87b70727d975fd6b2ce6b014a/requests-2.25.1-py2.py3-none-any.whl (61kB)\n",
            "\u001b[K     |████████████████████████████████| 61kB 10.4MB/s \n",
            "\u001b[?25hCollecting sacremoses\n",
            "\u001b[?25l  Downloading https://files.pythonhosted.org/packages/75/ee/67241dc87f266093c533a2d4d3d69438e57d7a90abb216fa076e7d475d4a/sacremoses-0.0.45-py3-none-any.whl (895kB)\n",
            "\u001b[K     |████████████████████████████████| 901kB 46.2MB/s \n",
            "\u001b[?25hCollecting filelock\n",
            "  Downloading https://files.pythonhosted.org/packages/93/83/71a2ee6158bb9f39a90c0dea1637f81d5eef866e188e1971a1b1ab01a35a/filelock-3.0.12-py3-none-any.whl\n",
            "Collecting tokenizers==0.7.0\n",
            "\u001b[?25l  Downloading https://files.pythonhosted.org/packages/ea/59/bb06dd5ca53547d523422d32735585493e0103c992a52a97ba3aa3be33bf/tokenizers-0.7.0-cp37-cp37m-manylinux1_x86_64.whl (5.6MB)\n",
            "\u001b[K     |████████████████████████████████| 5.6MB 45.8MB/s \n",
            "\u001b[?25hCollecting packaging\n",
            "\u001b[?25l  Downloading https://files.pythonhosted.org/packages/3e/89/7ea760b4daa42653ece2380531c90f64788d979110a2ab51049d92f408af/packaging-20.9-py2.py3-none-any.whl (40kB)\n",
            "\u001b[K     |████████████████████████████████| 40kB 7.4MB/s \n",
            "\u001b[?25hCollecting tqdm>=4.27\n",
            "\u001b[?25l  Downloading https://files.pythonhosted.org/packages/72/8a/34efae5cf9924328a8f34eeb2fdaae14c011462d9f0e3fcded48e1266d1c/tqdm-4.60.0-py2.py3-none-any.whl (75kB)\n",
            "\u001b[K     |████████████████████████████████| 81kB 13.5MB/s \n",
            "\u001b[?25hCollecting urllib3<1.27,>=1.21.1\n",
            "\u001b[?25l  Downloading https://files.pythonhosted.org/packages/09/c6/d3e3abe5b4f4f16cf0dfc9240ab7ce10c2baa0e268989a4e3ec19e90c84e/urllib3-1.26.4-py2.py3-none-any.whl (153kB)\n",
            "\u001b[K     |████████████████████████████████| 153kB 61.6MB/s \n",
            "\u001b[?25hCollecting idna<3,>=2.5\n",
            "\u001b[?25l  Downloading https://files.pythonhosted.org/packages/a2/38/928ddce2273eaa564f6f50de919327bf3a00f091b5baba8dfa9460f3a8a8/idna-2.10-py2.py3-none-any.whl (58kB)\n",
            "\u001b[K     |████████████████████████████████| 61kB 10.5MB/s \n",
            "\u001b[?25hCollecting certifi>=2017.4.17\n",
            "\u001b[?25l  Downloading https://files.pythonhosted.org/packages/5e/a0/5f06e1e1d463903cf0c0eebeb751791119ed7a4b3737fdc9a77f1cdfb51f/certifi-2020.12.5-py2.py3-none-any.whl (147kB)\n",
            "\u001b[K     |████████████████████████████████| 153kB 61.5MB/s \n",
            "\u001b[?25hCollecting chardet<5,>=3.0.2\n",
            "\u001b[?25l  Downloading https://files.pythonhosted.org/packages/19/c7/fa589626997dd07bd87d9269342ccb74b1720384a4d739a1872bd84fbe68/chardet-4.0.0-py2.py3-none-any.whl (178kB)\n",
            "\u001b[K     |████████████████████████████████| 184kB 63.5MB/s \n",
            "\u001b[?25hCollecting click\n",
            "\u001b[?25l  Downloading https://files.pythonhosted.org/packages/80/11/597f9102867dc0972b698972f05f50925f586639e57beba4db352029e8f9/click-8.0.0-py3-none-any.whl (96kB)\n",
            "\u001b[K     |████████████████████████████████| 102kB 15.0MB/s \n",
            "\u001b[?25hCollecting joblib\n",
            "\u001b[?25l  Downloading https://files.pythonhosted.org/packages/55/85/70c6602b078bd9e6f3da4f467047e906525c355a4dacd4f71b97a35d9897/joblib-1.0.1-py3-none-any.whl (303kB)\n",
            "\u001b[K     |████████████████████████████████| 307kB 52.4MB/s \n",
            "\u001b[?25hCollecting six\n",
            "  Downloading https://files.pythonhosted.org/packages/d9/5a/e7c31adbe875f2abbb91bd84cf2dc52d792b5a01506781dbcf25c91daf11/six-1.16.0-py2.py3-none-any.whl\n",
            "Collecting pyparsing>=2.0.2\n",
            "\u001b[?25l  Downloading https://files.pythonhosted.org/packages/8a/bb/488841f56197b13700afd5658fc279a2025a39e22449b7cf29864669b15d/pyparsing-2.4.7-py2.py3-none-any.whl (67kB)\n",
            "\u001b[K     |████████████████████████████████| 71kB 11.3MB/s \n",
            "\u001b[31mERROR: tensorflow 2.4.1 has requirement numpy~=1.19.2, but you'll have numpy 1.20.3 which is incompatible.\u001b[0m\n",
            "\u001b[31mERROR: tensorflow 2.4.1 has requirement six~=1.15.0, but you'll have six 1.16.0 which is incompatible.\u001b[0m\n",
            "\u001b[31mERROR: google-colab 1.0.0 has requirement requests~=2.23.0, but you'll have requests 2.25.1 which is incompatible.\u001b[0m\n",
            "\u001b[31mERROR: google-colab 1.0.0 has requirement six~=1.15.0, but you'll have six 1.16.0 which is incompatible.\u001b[0m\n",
            "\u001b[31mERROR: datascience 0.10.6 has requirement folium==0.2.1, but you'll have folium 0.8.3 which is incompatible.\u001b[0m\n",
            "\u001b[31mERROR: albumentations 0.1.12 has requirement imgaug<0.2.7,>=0.2.5, but you'll have imgaug 0.2.9 which is incompatible.\u001b[0m\n",
            "\u001b[?25hInstalling collected packages: regex, sentencepiece, numpy, urllib3, idna, certifi, chardet, requests, tqdm, click, joblib, six, sacremoses, filelock, tokenizers, pyparsing, packaging, transformers\n",
            "  Found existing installation: regex 2019.12.20\n",
            "    Uninstalling regex-2019.12.20:\n",
            "      Successfully uninstalled regex-2019.12.20\n",
            "  Found existing installation: numpy 1.19.5\n",
            "    Uninstalling numpy-1.19.5:\n",
            "      Successfully uninstalled numpy-1.19.5\n",
            "  Found existing installation: urllib3 1.24.3\n",
            "    Uninstalling urllib3-1.24.3:\n",
            "      Successfully uninstalled urllib3-1.24.3\n",
            "  Found existing installation: idna 2.10\n",
            "    Uninstalling idna-2.10:\n",
            "      Successfully uninstalled idna-2.10\n",
            "  Found existing installation: certifi 2020.12.5\n",
            "    Uninstalling certifi-2020.12.5:\n",
            "      Successfully uninstalled certifi-2020.12.5\n",
            "  Found existing installation: chardet 3.0.4\n",
            "    Uninstalling chardet-3.0.4:\n",
            "      Successfully uninstalled chardet-3.0.4\n",
            "  Found existing installation: requests 2.23.0\n",
            "    Uninstalling requests-2.23.0:\n",
            "      Successfully uninstalled requests-2.23.0\n",
            "  Found existing installation: tqdm 4.41.1\n",
            "    Uninstalling tqdm-4.41.1:\n",
            "      Successfully uninstalled tqdm-4.41.1\n",
            "  Found existing installation: click 8.0.0\n",
            "    Uninstalling click-8.0.0:\n",
            "      Successfully uninstalled click-8.0.0\n",
            "  Found existing installation: joblib 1.0.1\n",
            "    Uninstalling joblib-1.0.1:\n",
            "      Successfully uninstalled joblib-1.0.1\n",
            "  Found existing installation: six 1.15.0\n",
            "    Uninstalling six-1.15.0:\n",
            "      Successfully uninstalled six-1.15.0\n",
            "  Found existing installation: filelock 3.0.12\n",
            "    Uninstalling filelock-3.0.12:\n",
            "      Successfully uninstalled filelock-3.0.12\n",
            "  Found existing installation: pyparsing 2.4.7\n",
            "    Uninstalling pyparsing-2.4.7:\n",
            "      Successfully uninstalled pyparsing-2.4.7\n",
            "  Found existing installation: packaging 20.9\n",
            "    Uninstalling packaging-20.9:\n",
            "      Successfully uninstalled packaging-20.9\n",
            "Successfully installed certifi-2020.12.5 chardet-4.0.0 click-8.0.0 filelock-3.0.12 idna-2.10 joblib-1.0.1 numpy-1.20.3 packaging-20.9 pyparsing-2.4.7 regex-2021.4.4 requests-2.25.1 sacremoses-0.0.45 sentencepiece-0.1.95 six-1.16.0 tokenizers-0.7.0 tqdm-4.60.0 transformers-2.11.0 urllib3-1.26.4\n"
          ],
          "name": "stdout"
        },
        {
          "output_type": "display_data",
          "data": {
            "application/vnd.colab-display-data+json": {
              "pip_warning": {
                "packages": [
                  "numpy",
                  "pyparsing",
                  "six",
                  "tqdm"
                ]
              }
            }
          },
          "metadata": {
            "tags": []
          }
        }
      ]
    },
    {
      "cell_type": "code",
      "metadata": {
        "id": "efUc8jDRzwyu"
      },
      "source": [
        "import torch\n",
        "import transformers\n",
        "assert transformers.__version__ == '2.11.0', 'Wrong Transformer Version (must be 2.11.0). Please Factory Reset Runtime'\n",
        "from transformers import BertTokenizer"
      ],
      "execution_count": 7,
      "outputs": []
    },
    {
      "cell_type": "code",
      "metadata": {
        "id": "_VfiRuYJzsfu"
      },
      "source": [
        "MAX_SEQ_LEN = 128\n",
        "BERT_MODEL_PATH = '/content/final_BERT_model.pt'"
      ],
      "execution_count": 8,
      "outputs": []
    },
    {
      "cell_type": "code",
      "metadata": {
        "id": "1tn7WOsn0U5X"
      },
      "source": [
        "def get_mask_ids(tokens):\n",
        "    return [1]*len(tokens) + [0] * (MAX_SEQ_LEN - len(tokens))\n",
        "\n",
        "def get_segment_ids(tokens):\n",
        "    segments = []\n",
        "    first_sep = True\n",
        "    current_segment_id = 0\n",
        "    for token in tokens:\n",
        "        segments.append(current_segment_id)\n",
        "        if token == \"[SEP]\":\n",
        "            if first_sep:\n",
        "                first_sep = False \n",
        "                current_segment_id = 1\n",
        "    assert current_segment_id == 1\n",
        "    return segments + [0] * (MAX_SEQ_LEN - len(tokens))\n",
        "\n",
        "def convert_to_input(tokenizer, text, ans=None):\n",
        "    text_token = tokenizer.tokenize(text)[:MAX_SEQ_LEN]\n",
        "    print(len(text_token))\n",
        "    if ans:\n",
        "        ans_token= tokenizer.tokenize(ans)\n",
        "        text_token = text_token[:MAX_SEQ_LEN - (3-len(ans_token))]\n",
        "        all_tokens = [\"[CLS]\"] + text_token + [\"[SEP]\"] + ans_token + [\"[SEP]\"]\n",
        "    else:\n",
        "        text_token = text_token[:MAX_SEQ_LEN - 2]\n",
        "        all_tokens = [\"[CLS]\"] + text_token + [\"[SEP]\"]\n",
        "\n",
        "    token_ids = tokenizer.convert_tokens_to_ids(all_tokens)\n",
        "    input_ids = token_ids + [0] * (MAX_SEQ_LEN-len(token_ids))\n",
        "    \n",
        "    attention_mask = get_mask_ids(all_tokens)\n",
        "    token_type_ids = get_segment_ids(all_tokens)\n",
        "    return (\n",
        "        torch.tensor(input_ids, dtype=torch.long), \n",
        "        torch.tensor(attention_mask, dtype=torch.long), \n",
        "        torch.tensor(token_type_ids, dtype=torch.long), \n",
        "    )"
      ],
      "execution_count": 9,
      "outputs": []
    },
    {
      "cell_type": "code",
      "metadata": {
        "id": "CG2RC2fcT55r"
      },
      "source": [
        "def bert_inference(bert_model, text, ans=None):\n",
        "    tokenizer = BertTokenizer.from_pretrained('bert-base-uncased', \n",
        "                                              do_lower_case=True)\n",
        "    vocab_size = tokenizer.vocab_size\n",
        "    input_ids, attention_mask, token_type_ids = (i.unsqueeze(0).to(device) for i in \n",
        "                            convert_to_input(tokenizer, text, ans))\n",
        "    logits = bert_model(\n",
        "        input_ids=input_ids,\n",
        "        attention_mask=attention_mask,\n",
        "        decoder_input_ids=input_ids,\n",
        "        token_type_ids=token_type_ids,\n",
        "        masked_lm_labels=None\n",
        "    )[0]\n",
        "    logits = logits.view(-1, vocab_size)\n",
        "    logits = logits.detach().cpu().numpy()\n",
        "\n",
        "    prediction_raw = logits.argmax(axis=1).flatten().squeeze()\n",
        "    predicted = list(prediction_raw)\n",
        "    try:\n",
        "        length = predicted.index(102) # find first sep token\n",
        "    except ValueError:\n",
        "        length = len(predicted)-1\n",
        "    \n",
        "    predicted = predicted[:length+1]\n",
        "    predicted = tokenizer.decode(predicted, skip_special_tokens=True)\n",
        "    return predicted"
      ],
      "execution_count": 10,
      "outputs": []
    },
    {
      "cell_type": "markdown",
      "metadata": {
        "id": "JVcBjGwHWVJ0"
      },
      "source": [
        "## BERT Model Inference"
      ]
    },
    {
      "cell_type": "code",
      "metadata": {
        "id": "R1COyqbUPe_p"
      },
      "source": [
        "assert torch.cuda.is_available(), 'CUDA device is required'\n",
        "device = torch.device('cuda' if torch.cuda.is_available() else 'cpu')\n",
        "bert_model = torch.load(BERT_MODEL_PATH)"
      ],
      "execution_count": 11,
      "outputs": []
    },
    {
      "cell_type": "code",
      "metadata": {
        "colab": {
          "base_uri": "https://localhost:8080/",
          "height": 0,
          "referenced_widgets": [
            "1b313aab3eb04bb899dd8727aefa361a",
            "79a2007aa480415596771a764f631051",
            "01c565d9109c44228e02736438d17569",
            "fb30b9e7162e436a9c3014c343bc3d41",
            "4c259650b9314353887e54b61bd2a79d",
            "c6b7af6e57024307a284c2d399382110",
            "26d6549789d34f3daddb005630e7e1b3",
            "afb7228a92134fb08b38d6acc54b65c1"
          ]
        },
        "id": "nYh3W5lPUPdQ",
        "outputId": "143c997b-b7bb-4401-a29c-1a8c332533fa"
      },
      "source": [
        "bert_output = bert_inference(bert_model, text)\n",
        "print('Output', bert_output)\n",
        "pickle.dump({'text': text, 'bert_output': bert_output}, \n",
        "            open('/content/temp.pkl', 'wb'))"
      ],
      "execution_count": 12,
      "outputs": [
        {
          "output_type": "display_data",
          "data": {
            "application/vnd.jupyter.widget-view+json": {
              "model_id": "1b313aab3eb04bb899dd8727aefa361a",
              "version_minor": 0,
              "version_major": 2
            },
            "text/plain": [
              "HBox(children=(FloatProgress(value=0.0, description='Downloading', max=231508.0, style=ProgressStyle(descripti…"
            ]
          },
          "metadata": {
            "tags": []
          }
        },
        {
          "output_type": "stream",
          "text": [
            "\n",
            "107\n",
            "Output in 1930,,,, the the the to to to to to to to to to to to\n"
          ],
          "name": "stdout"
        }
      ]
    },
    {
      "cell_type": "markdown",
      "metadata": {
        "id": "mYTlTpZFSTD3"
      },
      "source": [
        "## T5 Model"
      ]
    },
    {
      "cell_type": "code",
      "metadata": {
        "colab": {
          "base_uri": "https://localhost:8080/"
        },
        "id": "l3t5hRfWQDHu",
        "outputId": "1113da59-b61d-4596-829d-88486da0fbde"
      },
      "source": [
        "!pip install --force-reinstall git+git://github.com/adamnpeace/nlpt5\n",
        "import os\n",
        "os.kill(os.getpid(), 9) # hack to force restart of runtime"
      ],
      "execution_count": null,
      "outputs": [
        {
          "output_type": "stream",
          "text": [
            "Collecting git+git://github.com/adamnpeace/nlpt5\n",
            "  Cloning git://github.com/adamnpeace/nlpt5 to /tmp/pip-req-build-lvurbxza\n",
            "  Running command git clone -q git://github.com/adamnpeace/nlpt5 /tmp/pip-req-build-lvurbxza\n",
            "Collecting nlp==0.2.0\n",
            "\u001b[?25l  Downloading https://files.pythonhosted.org/packages/9c/69/17c95e9bdb431bb5102f331d3d34e0f3aabef14a8041690ad72c2b11d1d0/nlp-0.2.0-py3-none-any.whl (857kB)\n",
            "\u001b[K     |████████████████████████████████| 860kB 7.5MB/s \n",
            "\u001b[?25hCollecting datasets==1.6.2\n",
            "\u001b[?25l  Downloading https://files.pythonhosted.org/packages/46/1a/b9f9b3bfef624686ae81c070f0a6bb635047b17cdb3698c7ad01281e6f9a/datasets-1.6.2-py3-none-any.whl (221kB)\n",
            "\u001b[K     |████████████████████████████████| 225kB 21.4MB/s \n",
            "\u001b[?25hCollecting transformers==3.0.0\n",
            "\u001b[?25l  Downloading https://files.pythonhosted.org/packages/9c/35/1c3f6e62d81f5f0daff1384e6d5e6c5758682a8357ebc765ece2b9def62b/transformers-3.0.0-py3-none-any.whl (754kB)\n",
            "\u001b[K     |████████████████████████████████| 757kB 21.9MB/s \n",
            "\u001b[?25hCollecting torch>=1.8.0\n",
            "\u001b[?25l  Downloading https://files.pythonhosted.org/packages/56/74/6fc9dee50f7c93d6b7d9644554bdc9692f3023fa5d1de779666e6bf8ae76/torch-1.8.1-cp37-cp37m-manylinux1_x86_64.whl (804.1MB)\n",
            "\u001b[K     |████████████████████████████████| 804.1MB 22kB/s \n",
            "\u001b[?25hCollecting requests>=2.19.0\n",
            "  Using cached https://files.pythonhosted.org/packages/29/c1/24814557f1d22c56d50280771a17307e6bf87b70727d975fd6b2ce6b014a/requests-2.25.1-py2.py3-none-any.whl\n",
            "Collecting numpy\n",
            "  Using cached https://files.pythonhosted.org/packages/a5/42/560d269f604d3e186a57c21a363e77e199358d054884e61b73e405dd217c/numpy-1.20.3-cp37-cp37m-manylinux_2_12_x86_64.manylinux2010_x86_64.whl\n",
            "Collecting filelock\n",
            "  Using cached https://files.pythonhosted.org/packages/93/83/71a2ee6158bb9f39a90c0dea1637f81d5eef866e188e1971a1b1ab01a35a/filelock-3.0.12-py3-none-any.whl\n",
            "Collecting dill\n",
            "\u001b[?25l  Downloading https://files.pythonhosted.org/packages/52/d6/79f40d230895fa1ce3b6af0d22e0ac79c65175dc069c194b79cc8e05a033/dill-0.3.3-py2.py3-none-any.whl (81kB)\n",
            "\u001b[K     |████████████████████████████████| 81kB 13.2MB/s \n",
            "\u001b[?25hCollecting tqdm>=4.27\n",
            "  Using cached https://files.pythonhosted.org/packages/72/8a/34efae5cf9924328a8f34eeb2fdaae14c011462d9f0e3fcded48e1266d1c/tqdm-4.60.0-py2.py3-none-any.whl\n",
            "Collecting pyarrow>=0.16.0\n",
            "\u001b[?25l  Downloading https://files.pythonhosted.org/packages/f8/58/70e5d957f5ffcb0d67dc79faca766d2d61a8e641b43156c6745c60c8b32b/pyarrow-4.0.0-cp37-cp37m-manylinux2014_x86_64.whl (21.8MB)\n",
            "\u001b[K     |████████████████████████████████| 21.9MB 68.6MB/s \n",
            "\u001b[?25hCollecting xxhash\n",
            "\u001b[?25l  Downloading https://files.pythonhosted.org/packages/7d/4f/0a862cad26aa2ed7a7cd87178cbbfa824fc1383e472d63596a0d018374e7/xxhash-2.0.2-cp37-cp37m-manylinux2010_x86_64.whl (243kB)\n",
            "\u001b[K     |████████████████████████████████| 245kB 60.3MB/s \n",
            "\u001b[?25hCollecting multiprocess\n",
            "\u001b[?25l  Downloading https://files.pythonhosted.org/packages/db/20/458ac043a57322365ac2ed86a911bf7598fc2e49bccb3f94ea810fbb6b9b/multiprocess-0.70.11.1-py37-none-any.whl (108kB)\n",
            "\u001b[K     |████████████████████████████████| 112kB 64.9MB/s \n",
            "\u001b[?25hCollecting fsspec\n",
            "\u001b[?25l  Downloading https://files.pythonhosted.org/packages/bc/52/816d1a3a599176057bf29dfacb1f8fadb61d35fbd96cb1bab4aaa7df83c0/fsspec-2021.5.0-py3-none-any.whl (111kB)\n",
            "\u001b[K     |████████████████████████████████| 112kB 61.0MB/s \n",
            "\u001b[?25hCollecting packaging\n",
            "  Using cached https://files.pythonhosted.org/packages/3e/89/7ea760b4daa42653ece2380531c90f64788d979110a2ab51049d92f408af/packaging-20.9-py2.py3-none-any.whl\n",
            "Collecting huggingface-hub<0.1.0\n",
            "  Downloading https://files.pythonhosted.org/packages/a1/88/7b1e45720ecf59c6c6737ff332f41c955963090a18e72acbcbeac6b25e86/huggingface_hub-0.0.8-py3-none-any.whl\n",
            "Collecting importlib-metadata; python_version < \"3.8\"\n",
            "  Downloading https://files.pythonhosted.org/packages/8e/e2/49966924c93909d47612bb47d911448140a2f6c1390aec2f4c1afbe3748f/importlib_metadata-4.0.1-py3-none-any.whl\n",
            "Collecting pandas\n",
            "\u001b[?25l  Downloading https://files.pythonhosted.org/packages/51/51/48f3fc47c4e2144da2806dfb6629c4dd1fa3d5a143f9652b141e979a8ca9/pandas-1.2.4-cp37-cp37m-manylinux1_x86_64.whl (9.9MB)\n",
            "\u001b[K     |████████████████████████████████| 9.9MB 21.9MB/s \n",
            "\u001b[?25hCollecting tokenizers==0.8.0-rc4\n",
            "\u001b[?25l  Downloading https://files.pythonhosted.org/packages/f7/82/0e82a95bd9db2b32569500cc1bb47aa7c4e0f57aa5e35cceba414096917b/tokenizers-0.8.0rc4-cp37-cp37m-manylinux1_x86_64.whl (3.0MB)\n",
            "\u001b[K     |████████████████████████████████| 3.0MB 44.6MB/s \n",
            "\u001b[?25hCollecting regex!=2019.12.17\n",
            "  Using cached https://files.pythonhosted.org/packages/c4/28/5f08d8841013ccf72cd95dfff2500fe7fb39467af12c5e7b802d8381d811/regex-2021.4.4-cp37-cp37m-manylinux2014_x86_64.whl\n",
            "Collecting sacremoses\n",
            "  Using cached https://files.pythonhosted.org/packages/75/ee/67241dc87f266093c533a2d4d3d69438e57d7a90abb216fa076e7d475d4a/sacremoses-0.0.45-py3-none-any.whl\n",
            "Collecting sentencepiece\n",
            "  Using cached https://files.pythonhosted.org/packages/f5/99/e0808cb947ba10f575839c43e8fafc9cc44e4a7a2c8f79c60db48220a577/sentencepiece-0.1.95-cp37-cp37m-manylinux2014_x86_64.whl\n",
            "Collecting typing-extensions\n",
            "  Downloading https://files.pythonhosted.org/packages/2e/35/6c4fff5ab443b57116cb1aad46421fb719bed2825664e8fe77d66d99bcbc/typing_extensions-3.10.0.0-py3-none-any.whl\n",
            "Collecting certifi>=2017.4.17\n",
            "  Using cached https://files.pythonhosted.org/packages/5e/a0/5f06e1e1d463903cf0c0eebeb751791119ed7a4b3737fdc9a77f1cdfb51f/certifi-2020.12.5-py2.py3-none-any.whl\n",
            "Collecting urllib3<1.27,>=1.21.1\n",
            "  Using cached https://files.pythonhosted.org/packages/09/c6/d3e3abe5b4f4f16cf0dfc9240ab7ce10c2baa0e268989a4e3ec19e90c84e/urllib3-1.26.4-py2.py3-none-any.whl\n",
            "Collecting idna<3,>=2.5\n",
            "  Using cached https://files.pythonhosted.org/packages/a2/38/928ddce2273eaa564f6f50de919327bf3a00f091b5baba8dfa9460f3a8a8/idna-2.10-py2.py3-none-any.whl\n",
            "Collecting chardet<5,>=3.0.2\n",
            "  Using cached https://files.pythonhosted.org/packages/19/c7/fa589626997dd07bd87d9269342ccb74b1720384a4d739a1872bd84fbe68/chardet-4.0.0-py2.py3-none-any.whl\n",
            "Collecting pyparsing>=2.0.2\n",
            "  Using cached https://files.pythonhosted.org/packages/8a/bb/488841f56197b13700afd5658fc279a2025a39e22449b7cf29864669b15d/pyparsing-2.4.7-py2.py3-none-any.whl\n",
            "Collecting zipp>=0.5\n",
            "  Downloading https://files.pythonhosted.org/packages/0f/8c/715c54e9e34c0c4820f616a913a7de3337d0cd79074dd1bed4dd840f16ae/zipp-3.4.1-py3-none-any.whl\n",
            "Collecting pytz>=2017.3\n",
            "\u001b[?25l  Downloading https://files.pythonhosted.org/packages/70/94/784178ca5dd892a98f113cdd923372024dc04b8d40abe77ca76b5fb90ca6/pytz-2021.1-py2.py3-none-any.whl (510kB)\n",
            "\u001b[K     |████████████████████████████████| 512kB 56.8MB/s \n",
            "\u001b[?25hCollecting python-dateutil>=2.7.3\n",
            "\u001b[?25l  Downloading https://files.pythonhosted.org/packages/d4/70/d60450c3dd48ef87586924207ae8907090de0b306af2bce5d134d78615cb/python_dateutil-2.8.1-py2.py3-none-any.whl (227kB)\n",
            "\u001b[K     |████████████████████████████████| 235kB 61.2MB/s \n",
            "\u001b[?25hCollecting six\n",
            "  Using cached https://files.pythonhosted.org/packages/d9/5a/e7c31adbe875f2abbb91bd84cf2dc52d792b5a01506781dbcf25c91daf11/six-1.16.0-py2.py3-none-any.whl\n",
            "Collecting joblib\n",
            "  Using cached https://files.pythonhosted.org/packages/55/85/70c6602b078bd9e6f3da4f467047e906525c355a4dacd4f71b97a35d9897/joblib-1.0.1-py3-none-any.whl\n",
            "Collecting click\n",
            "  Using cached https://files.pythonhosted.org/packages/80/11/597f9102867dc0972b698972f05f50925f586639e57beba4db352029e8f9/click-8.0.0-py3-none-any.whl\n",
            "Building wheels for collected packages: nlpt5\n",
            "  Building wheel for nlpt5 (setup.py) ... \u001b[?25l\u001b[?25hdone\n",
            "  Created wheel for nlpt5: filename=nlpt5-1.0.0-cp37-none-any.whl size=18680 sha256=570139bc334e02fb6ec2ad3335171702954bcc4cf9da72aaecf1731d3680a82b\n",
            "  Stored in directory: /tmp/pip-ephem-wheel-cache-p3wr02un/wheels/f5/ed/12/b5aedc31d08705750c9bc820a935e7931b2ebf2cb2939ef44b\n",
            "Successfully built nlpt5\n",
            "\u001b[31mERROR: tensorflow 2.4.1 has requirement numpy~=1.19.2, but you'll have numpy 1.20.3 which is incompatible.\u001b[0m\n",
            "\u001b[31mERROR: tensorflow 2.4.1 has requirement six~=1.15.0, but you'll have six 1.16.0 which is incompatible.\u001b[0m\n",
            "\u001b[31mERROR: tensorflow 2.4.1 has requirement typing-extensions~=3.7.4, but you'll have typing-extensions 3.10.0.0 which is incompatible.\u001b[0m\n",
            "\u001b[31mERROR: google-colab 1.0.0 has requirement pandas~=1.1.0; python_version >= \"3.0\", but you'll have pandas 1.2.4 which is incompatible.\u001b[0m\n",
            "\u001b[31mERROR: google-colab 1.0.0 has requirement requests~=2.23.0, but you'll have requests 2.25.1 which is incompatible.\u001b[0m\n",
            "\u001b[31mERROR: google-colab 1.0.0 has requirement six~=1.15.0, but you'll have six 1.16.0 which is incompatible.\u001b[0m\n",
            "\u001b[31mERROR: datascience 0.10.6 has requirement folium==0.2.1, but you'll have folium 0.8.3 which is incompatible.\u001b[0m\n",
            "\u001b[31mERROR: albumentations 0.1.12 has requirement imgaug<0.2.7,>=0.2.5, but you'll have imgaug 0.2.9 which is incompatible.\u001b[0m\n",
            "\u001b[31mERROR: datasets 1.6.2 has requirement tqdm<4.50.0,>=4.27, but you'll have tqdm 4.60.0 which is incompatible.\u001b[0m\n",
            "Installing collected packages: certifi, urllib3, idna, chardet, requests, numpy, filelock, dill, tqdm, pyarrow, nlp, xxhash, multiprocess, fsspec, pyparsing, packaging, typing-extensions, zipp, importlib-metadata, huggingface-hub, pytz, six, python-dateutil, pandas, datasets, tokenizers, regex, joblib, click, sacremoses, sentencepiece, transformers, torch, nlpt5\n",
            "  Found existing installation: certifi 2020.12.5\n",
            "    Uninstalling certifi-2020.12.5:\n",
            "      Successfully uninstalled certifi-2020.12.5\n",
            "  Found existing installation: urllib3 1.26.4\n",
            "    Uninstalling urllib3-1.26.4:\n",
            "      Successfully uninstalled urllib3-1.26.4\n",
            "  Found existing installation: idna 2.10\n",
            "    Uninstalling idna-2.10:\n",
            "      Successfully uninstalled idna-2.10\n",
            "  Found existing installation: chardet 4.0.0\n",
            "    Uninstalling chardet-4.0.0:\n",
            "      Successfully uninstalled chardet-4.0.0\n",
            "  Found existing installation: requests 2.25.1\n",
            "    Uninstalling requests-2.25.1:\n",
            "      Successfully uninstalled requests-2.25.1\n",
            "  Found existing installation: numpy 1.20.3\n",
            "    Uninstalling numpy-1.20.3:\n",
            "      Successfully uninstalled numpy-1.20.3\n",
            "  Found existing installation: filelock 3.0.12\n",
            "    Uninstalling filelock-3.0.12:\n",
            "      Successfully uninstalled filelock-3.0.12\n",
            "  Found existing installation: dill 0.3.3\n",
            "    Uninstalling dill-0.3.3:\n",
            "      Successfully uninstalled dill-0.3.3\n",
            "  Found existing installation: tqdm 4.60.0\n",
            "    Uninstalling tqdm-4.60.0:\n",
            "      Successfully uninstalled tqdm-4.60.0\n",
            "  Found existing installation: pyarrow 3.0.0\n",
            "    Uninstalling pyarrow-3.0.0:\n",
            "      Successfully uninstalled pyarrow-3.0.0\n",
            "  Found existing installation: multiprocess 0.70.11.1\n",
            "    Uninstalling multiprocess-0.70.11.1:\n",
            "      Successfully uninstalled multiprocess-0.70.11.1\n",
            "  Found existing installation: pyparsing 2.4.7\n",
            "    Uninstalling pyparsing-2.4.7:\n",
            "      Successfully uninstalled pyparsing-2.4.7\n",
            "  Found existing installation: packaging 20.9\n",
            "    Uninstalling packaging-20.9:\n",
            "      Successfully uninstalled packaging-20.9\n",
            "  Found existing installation: typing-extensions 3.7.4.3\n",
            "    Uninstalling typing-extensions-3.7.4.3:\n",
            "      Successfully uninstalled typing-extensions-3.7.4.3\n",
            "  Found existing installation: zipp 3.4.1\n",
            "    Uninstalling zipp-3.4.1:\n",
            "      Successfully uninstalled zipp-3.4.1\n",
            "  Found existing installation: importlib-metadata 4.0.1\n",
            "    Uninstalling importlib-metadata-4.0.1:\n",
            "      Successfully uninstalled importlib-metadata-4.0.1\n",
            "  Found existing installation: pytz 2018.9\n",
            "    Uninstalling pytz-2018.9:\n",
            "      Successfully uninstalled pytz-2018.9\n",
            "  Found existing installation: six 1.16.0\n",
            "    Uninstalling six-1.16.0:\n",
            "      Successfully uninstalled six-1.16.0\n",
            "  Found existing installation: python-dateutil 2.8.1\n",
            "    Uninstalling python-dateutil-2.8.1:\n",
            "      Successfully uninstalled python-dateutil-2.8.1\n",
            "  Found existing installation: pandas 1.1.5\n",
            "    Uninstalling pandas-1.1.5:\n",
            "      Successfully uninstalled pandas-1.1.5\n",
            "  Found existing installation: tokenizers 0.7.0\n",
            "    Uninstalling tokenizers-0.7.0:\n",
            "      Successfully uninstalled tokenizers-0.7.0\n",
            "  Found existing installation: regex 2021.4.4\n",
            "    Uninstalling regex-2021.4.4:\n",
            "      Successfully uninstalled regex-2021.4.4\n",
            "  Found existing installation: joblib 1.0.1\n",
            "    Uninstalling joblib-1.0.1:\n",
            "      Successfully uninstalled joblib-1.0.1\n",
            "  Found existing installation: click 8.0.0\n",
            "    Uninstalling click-8.0.0:\n",
            "      Successfully uninstalled click-8.0.0\n",
            "  Found existing installation: sacremoses 0.0.45\n",
            "    Uninstalling sacremoses-0.0.45:\n",
            "      Successfully uninstalled sacremoses-0.0.45\n",
            "  Found existing installation: sentencepiece 0.1.95\n",
            "    Uninstalling sentencepiece-0.1.95:\n",
            "      Successfully uninstalled sentencepiece-0.1.95\n",
            "  Found existing installation: transformers 2.11.0\n",
            "    Uninstalling transformers-2.11.0:\n",
            "      Successfully uninstalled transformers-2.11.0\n",
            "  Found existing installation: torch 1.8.1+cu101\n",
            "    Uninstalling torch-1.8.1+cu101:\n",
            "      Successfully uninstalled torch-1.8.1+cu101\n",
            "Successfully installed certifi-2020.12.5 chardet-4.0.0 click-8.0.0 datasets-1.6.2 dill-0.3.3 filelock-3.0.12 fsspec-2021.5.0 huggingface-hub-0.0.8 idna-2.10 importlib-metadata-4.0.1 joblib-1.0.1 multiprocess-0.70.11.1 nlp-0.2.0 nlpt5-1.0.0 numpy-1.20.3 packaging-20.9 pandas-1.2.4 pyarrow-4.0.0 pyparsing-2.4.7 python-dateutil-2.8.1 pytz-2021.1 regex-2021.4.4 requests-2.25.1 sacremoses-0.0.45 sentencepiece-0.1.95 six-1.16.0 tokenizers-0.8.0rc4 torch-1.8.1 tqdm-4.60.0 transformers-3.0.0 typing-extensions-3.10.0.0 urllib3-1.26.4 xxhash-2.0.2 zipp-3.4.1\n"
          ],
          "name": "stdout"
        }
      ]
    },
    {
      "cell_type": "markdown",
      "metadata": {
        "id": "JNqrbkxFhmMs"
      },
      "source": [
        "# Part 2 - Fine-tuned T5-small Model Inference\n",
        "\n",
        "\n",
        "\n",
        "> Collapse me\n",
        "\n"
      ]
    },
    {
      "cell_type": "code",
      "metadata": {
        "colab": {
          "base_uri": "https://localhost:8080/"
        },
        "id": "6RALl112YtkW",
        "outputId": "1f4cfc12-3ebb-4651-d0c3-74e03db982e9"
      },
      "source": [
        "import os, pickle, time, random, logging, json, gc\n",
        "from datetime import datetime\n",
        "from tqdm import tqdm\n",
        "\n",
        "import numpy as np\n",
        "import pandas as pd\n",
        "from nlpt5 import pipeline\n",
        "import nltk\n",
        "nltk.download('punkt')"
      ],
      "execution_count": 1,
      "outputs": [
        {
          "output_type": "stream",
          "text": [
            "[nltk_data] Downloading package punkt to /root/nltk_data...\n",
            "[nltk_data]   Package punkt is already up-to-date!\n"
          ],
          "name": "stderr"
        },
        {
          "output_type": "execute_result",
          "data": {
            "text/plain": [
              "True"
            ]
          },
          "metadata": {
            "tags": []
          },
          "execution_count": 1
        }
      ]
    },
    {
      "cell_type": "code",
      "metadata": {
        "id": "xAjmhd8cbdOP"
      },
      "source": [
        "# T5_PATH = '/content/drive/MyDrive/NLP/models/t5-small-e2e-qg-7k'\n",
        "T5_PATH = '/content/t5-small-e2e-qg-7k'"
      ],
      "execution_count": 2,
      "outputs": []
    },
    {
      "cell_type": "code",
      "metadata": {
        "id": "iWstKCGqbUb2"
      },
      "source": [
        "def get_t5_model(path):\n",
        "    return pipeline('e2e-qg', model=path)"
      ],
      "execution_count": 3,
      "outputs": []
    },
    {
      "cell_type": "code",
      "metadata": {
        "id": "MtzERBd9aj8H"
      },
      "source": [
        "def t5_inference(t5_model, text):\n",
        "    prediction = t5_model(text)\n",
        "    prediction = prediction[0]\n",
        "    return prediction"
      ],
      "execution_count": 4,
      "outputs": []
    },
    {
      "cell_type": "markdown",
      "metadata": {
        "id": "rw0w-UBMa_st"
      },
      "source": [
        "## T5 Model Inference"
      ]
    },
    {
      "cell_type": "code",
      "metadata": {
        "id": "XhnOljrWbPCM"
      },
      "source": [
        "t5_model = get_t5_model(T5_PATH)"
      ],
      "execution_count": 5,
      "outputs": []
    },
    {
      "cell_type": "code",
      "metadata": {
        "id": "syCyQQ9hZYvy"
      },
      "source": [
        "temp = pickle.load(open('/content/temp.pkl', 'rb'))\n",
        "text = temp['text']"
      ],
      "execution_count": 6,
      "outputs": []
    },
    {
      "cell_type": "code",
      "metadata": {
        "id": "8mWfTo5QZo1w"
      },
      "source": [
        "t5_output = t5_inference(t5_model, text)\n",
        "temp['t5_output'] = t5_output\n",
        "pickle.dump(temp, open('/content/temp.pkl', 'wb'))"
      ],
      "execution_count": 7,
      "outputs": []
    },
    {
      "cell_type": "markdown",
      "metadata": {
        "id": "B_7EL0nMdSY-"
      },
      "source": [
        "## Scoring"
      ]
    },
    {
      "cell_type": "code",
      "metadata": {
        "id": "0lL-GTswdTWv"
      },
      "source": [
        "# !pip install -U nltk\n",
        "# !pip install easy-rouge\n",
        "# !python -m nltk.downloader punkt"
      ],
      "execution_count": 8,
      "outputs": []
    },
    {
      "cell_type": "code",
      "metadata": {
        "id": "LFcy9k47ZpY7"
      },
      "source": [
        "# import string, re\n",
        "# import nltk\n",
        "# from rouge.rouge import rouge_n_sentence_level"
      ],
      "execution_count": 9,
      "outputs": []
    },
    {
      "cell_type": "code",
      "metadata": {
        "id": "d6GH1qMddgIx"
      },
      "source": [
        "# def clean_sentence(collection):\n",
        "#     collection = collection.translate(str.maketrans('','',string.punctuation))\n",
        "#     collection = re.sub(r'\\d+', '', collection)\n",
        "#     collection = collection.strip()\n",
        "#     return collection.split()"
      ],
      "execution_count": 10,
      "outputs": []
    },
    {
      "cell_type": "code",
      "metadata": {
        "id": "hxRjpF4ndmYY"
      },
      "source": [
        "# def get_metrics(prediction, truth):\n",
        "#     recall, precision, rouge = rouge_n_sentence_level(\n",
        "#             truth.split(),\n",
        "#             prediction.split(),\n",
        "#             2)\n",
        "#     bleu = nltk.translate.bleu_score.sentence_bleu(\n",
        "#         [clean_sentence(truth)], clean_sentence(prediction))\n",
        "#     meteor = nltk.translate.meteor_score.meteor_score(\n",
        "#         truth, prediction)\n",
        "#     return rouge, bleu, meteor"
      ],
      "execution_count": 11,
      "outputs": []
    },
    {
      "cell_type": "markdown",
      "metadata": {
        "id": "tiwmQvRefEx4"
      },
      "source": [
        "# Results"
      ]
    },
    {
      "cell_type": "code",
      "metadata": {
        "colab": {
          "base_uri": "https://localhost:8080/"
        },
        "id": "1LjW8idGfDy7",
        "outputId": "fa5859a3-5d70-486a-958d-7f9707283e6a"
      },
      "source": [
        "import pickle\n",
        "for k, v in pickle.load(open('/content/temp.pkl', 'rb')).items():\n",
        "    print('{}: {}'.format(k, v))"
      ],
      "execution_count": 12,
      "outputs": [
        {
          "output_type": "stream",
          "text": [
            "text: The Balfour Declaration was a public statement issued by the British government in 1917 during the First World War announcing support for the establishment of a \"national home for the Jewish people\" in Palestine, then an Ottoman region with a small minority Jewish population. The declaration was contained in a letter dated 2 November 1917 from the United Kingdom's Foreign Secretary Arthur Balfour to Lord Rothschild, a leader of the British Jewish community, for transmission to the Zionist Federation of Great Britain and Ireland. The text of the declaration was published in the press on 9 November 1917\n",
            "bert_output: in 1930,,,, the the the to to to to to to to to to to to\n",
            "t5_output: When was the Balfour Declaration issued?\n"
          ],
          "name": "stdout"
        }
      ]
    },
    {
      "cell_type": "code",
      "metadata": {
        "id": "J4j8rMW4mDim"
      },
      "source": [
        ""
      ],
      "execution_count": null,
      "outputs": []
    }
  ]
}