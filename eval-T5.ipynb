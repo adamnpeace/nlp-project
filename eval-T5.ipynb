{
 "cells": [
  {
   "cell_type": "code",
   "execution_count": null,
   "id": "fef1a054-bef9-40c9-96d8-4369558c5991",
   "metadata": {},
   "outputs": [],
   "source": [
    "# !pip install git+git://github.com/adamnpeace/nlpt5.git\n",
    "# !pip install --user nltk pandas numpy gdown tqdm\n",
    "# !python -m nltk.downloader punkt"
   ]
  },
  {
   "cell_type": "code",
   "execution_count": 1,
   "id": "d5e27707-6d75-4339-aad9-4960ba2e63eb",
   "metadata": {
    "colab": {
     "base_uri": "https://localhost:8080/"
    },
    "id": "6RALl112YtkW",
    "outputId": "49898565-1d30-4873-d9ee-d78ac995412c"
   },
   "outputs": [
    {
     "name": "stderr",
     "output_type": "stream",
     "text": [
      "[nltk_data] Downloading package punkt to /home/dojo/nltk_data...\n",
      "[nltk_data]   Package punkt is already up-to-date!\n"
     ]
    },
    {
     "data": {
      "text/plain": [
       "True"
      ]
     },
     "execution_count": 1,
     "metadata": {},
     "output_type": "execute_result"
    }
   ],
   "source": [
    "import os, pickle, time, random, logging, json, gc\n",
    "from datetime import datetime\n",
    "from tqdm import tqdm\n",
    "import gdown\n",
    "import numpy as np\n",
    "import pandas as pd\n",
    "from nlpt5 import pipeline\n",
    "import nltk\n",
    "nltk.download('punkt')"
   ]
  },
  {
   "cell_type": "code",
   "execution_count": 26,
   "id": "0ef576b8-fd2b-41b4-96ba-9bef1c0943a4",
   "metadata": {},
   "outputs": [],
   "source": [
    "# Download T5 model from GDrive\n",
    "gdown.download('https://drive.google.com/uc?id=1-1YIOyMdCvdhO9Z_DRHRBk20DhLB9XSp',\n",
    "               quiet=True,\n",
    "               output='models/final_T5_model.zip')\n",
    "!unzip models/final_T5_model.zip -d models\n",
    "!mv models/t5-small-e2e-qg-7k models/final_T5_model\n",
    "!rm models/final_T5_model.zip"
   ]
  },
  {
   "cell_type": "code",
   "execution_count": 2,
   "id": "9ebc48de-de30-4370-839b-f3007cc121c8",
   "metadata": {
    "id": "xAjmhd8cbdOP"
   },
   "outputs": [],
   "source": [
    "T5_PATH = 'models/final_T5_model'"
   ]
  },
  {
   "cell_type": "code",
   "execution_count": 3,
   "id": "7236ad50-f0f7-4a30-85f4-5a3c84ff659d",
   "metadata": {
    "id": "iWstKCGqbUb2"
   },
   "outputs": [],
   "source": [
    "def get_t5_model(path):\n",
    "    return pipeline('e2e-qg', model=path)"
   ]
  },
  {
   "cell_type": "code",
   "execution_count": 4,
   "id": "5b2c01b8-b044-4335-a7f4-160f32ea3f34",
   "metadata": {
    "id": "MtzERBd9aj8H"
   },
   "outputs": [],
   "source": [
    "def t5_inference(t5_model, text):\n",
    "    prediction = t5_model(text)\n",
    "    prediction = prediction[0] if len(prediction) > 0 else ''\n",
    "    return prediction"
   ]
  },
  {
   "cell_type": "markdown",
   "id": "e0aebb24-8e83-490f-b824-a4d1fdbb9f86",
   "metadata": {
    "id": "rw0w-UBMa_st"
   },
   "source": [
    "## T5 Model Inference"
   ]
  },
  {
   "cell_type": "code",
   "execution_count": 6,
   "id": "4237d774-3579-40e5-b610-847ff5a4bde2",
   "metadata": {
    "id": "XhnOljrWbPCM"
   },
   "outputs": [],
   "source": [
    "t5_model = get_t5_model(T5_PATH)"
   ]
  },
  {
   "cell_type": "code",
   "execution_count": 7,
   "id": "a3f4eb02-ce45-43ab-bd4d-267bcf302f32",
   "metadata": {},
   "outputs": [],
   "source": [
    "data_test = json.load(open('data/data_test.json', 'r'))"
   ]
  },
  {
   "cell_type": "code",
   "execution_count": 8,
   "id": "888c3a02-f124-4503-bb40-41f6ba20d9c3",
   "metadata": {},
   "outputs": [],
   "source": [
    "outputs = []\n",
    "for r in data_test:\n",
    "    outputs.append(t5_inference(t5_model, r['passages']))"
   ]
  },
  {
   "cell_type": "code",
   "execution_count": 9,
   "id": "55fef061-afa2-4ebc-82f3-29f87c56fec2",
   "metadata": {},
   "outputs": [
    {
     "data": {
      "text/plain": [
       "['Who wrote the book \"The Crown\"?',\n",
       " 'When did Lopez release her second studio album, \"The Wedding Planner\"?',\n",
       " 'In what year did Nicholas Alexei die?',\n",
       " 'Who wrote \"Up Where We Belong\" for the 1982 film An Officer and a Gentleman\"?',\n",
       " 'When was the Balfour Declaration issued?',\n",
       " 'In what year was the Historia ecclesiastica gentis Anglorum completed?',\n",
       " 'Tony Blair is a funded adviser to the Mubadala Development Company in what city?',\n",
       " 'Who played the fictional character on the television show Seinfeld?',\n",
       " 'In 1997, Sharif authorised nuclear testings in which country?',\n",
       " 'When did Thurgood Marshall serve as a Justice of the Supreme Court of the United States?',\n",
       " '',\n",
       " \"Who was the spokesman for the State Department's ambitious plans to rebuild Europe?\",\n",
       " '\"I\\'m Walkin\" and \"A Teenager\\'s Romance\" were both released in what month of 1957?',\n",
       " \"What is the name of the international women's tennis tournament in this country?\",\n",
       " 'In 1988 she penned The Witching Hour as an expression of her joy at coming home to New Orleans?',\n",
       " 'When did Hafez al-Assad die?',\n",
       " 'In the first part of the novel, Lucy Honeychurch is touring Italy with her cousin and chaperone, who?',\n",
       " 'In 1770 Joseph Priestley observed that a piece of the material was very good for rubbing off what marks on paper?']"
      ]
     },
     "execution_count": 9,
     "metadata": {},
     "output_type": "execute_result"
    }
   ],
   "source": [
    "outputs"
   ]
  },
  {
   "cell_type": "code",
   "execution_count": 10,
   "id": "628204be-7c2c-4c85-992a-1a8939f0caf7",
   "metadata": {},
   "outputs": [],
   "source": [
    "pd.DataFrame({'Truths (T5)': [r['clues'] for r in data_test], 'Predicted (T5)': outputs}).to_csv('data/results_T5.csv', index=False)"
   ]
  },
  {
   "cell_type": "code",
   "execution_count": null,
   "id": "68b8bf3f-74de-4d26-84be-c8d6f7c1348f",
   "metadata": {},
   "outputs": [],
   "source": []
  }
 ],
 "metadata": {
  "kernelspec": {
   "display_name": "NLP (HFTF3)",
   "language": "python",
   "name": "venv-qa-three"
  },
  "language_info": {
   "codemirror_mode": {
    "name": "ipython",
    "version": 3
   },
   "file_extension": ".py",
   "mimetype": "text/x-python",
   "name": "python",
   "nbconvert_exporter": "python",
   "pygments_lexer": "ipython3",
   "version": "3.7.10"
  }
 },
 "nbformat": 4,
 "nbformat_minor": 5
}
