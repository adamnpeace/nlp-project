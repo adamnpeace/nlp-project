{
 "cells": [
  {
   "cell_type": "code",
   "execution_count": 1,
   "id": "3831c4e5-342f-43fa-a770-891ffd3dd993",
   "metadata": {},
   "outputs": [
    {
     "name": "stderr",
     "output_type": "stream",
     "text": [
      "[nltk_data] Downloading package punkt to /home/dojo/nltk_data...\n",
      "[nltk_data]   Package punkt is already up-to-date!\n",
      "[nltk_data] Downloading package wordnet to /home/dojo/nltk_data...\n",
      "[nltk_data]   Package wordnet is already up-to-date!\n"
     ]
    }
   ],
   "source": [
    "from copy import deepcopy\n",
    "from collections import Counter\n",
    "import pickle, re, math, string, glob, time, uuid, json, os\n",
    "\n",
    "from tqdm import tqdm\n",
    "import pandas as pd\n",
    "import numpy as np\n",
    "\n",
    "import matplotlib.pyplot as plt\n",
    "from matplotlib_styles import *\n",
    "\n",
    "from bs4 import BeautifulSoup as BS\n",
    "from rank_bm25 import BM25Okapi\n",
    "import nltk\n",
    "from nltk.tokenize import word_tokenize\n",
    "from nltk.stem import PorterStemmer\n",
    "from nltk.stem import WordNetLemmatizer\n",
    "nltk.download('punkt')\n",
    "nltk.download('wordnet')\n",
    "from spacy.lang.en.stop_words import STOP_WORDS\n",
    "\n",
    "def show_sample(d):\n",
    "    for k, v in d.items():\n",
    "        print('{}: {}'.format(k, v))"
   ]
  },
  {
   "cell_type": "markdown",
   "id": "0116dbfc-989f-4680-bfde-25c555a58373",
   "metadata": {},
   "source": [
    "# Import Combined Dataset from `get-wiki-data.ipynb`"
   ]
  },
  {
   "cell_type": "code",
   "execution_count": 2,
   "id": "75a94508-9a0d-4fda-9a21-1f5a71214215",
   "metadata": {},
   "outputs": [],
   "source": [
    "PATH = 'data'\n",
    "if not os.path.exists(PATH):\n",
    "    os.makedirs(PATH)\n",
    "    os.makedirs(PATH + '/raw_data')\n",
    "    os.makedirs(PATH + '/preprocessed')"
   ]
  },
  {
   "cell_type": "code",
   "execution_count": 3,
   "id": "604cbe13-4732-4ad9-874e-d6931115f07b",
   "metadata": {},
   "outputs": [],
   "source": [
    "# The below needs to be downloaded - instructions in README.md\n",
    "raw_df = pd.read_pickle(PATH + '/raw_data/combined-dataset.pkl')"
   ]
  },
  {
   "cell_type": "code",
   "execution_count": 4,
   "id": "8c06449b-80f4-4b40-b325-d415c9be87bf",
   "metadata": {},
   "outputs": [
    {
     "data": {
      "text/html": [
       "<div>\n",
       "<style scoped>\n",
       "    .dataframe tbody tr th:only-of-type {\n",
       "        vertical-align: middle;\n",
       "    }\n",
       "\n",
       "    .dataframe tbody tr th {\n",
       "        vertical-align: top;\n",
       "    }\n",
       "\n",
       "    .dataframe thead th {\n",
       "        text-align: right;\n",
       "    }\n",
       "</style>\n",
       "<table border=\"1\" class=\"dataframe\">\n",
       "  <thead>\n",
       "    <tr style=\"text-align: right;\">\n",
       "      <th></th>\n",
       "      <th>Show Number</th>\n",
       "      <th>Air Date</th>\n",
       "      <th>Round</th>\n",
       "      <th>Category</th>\n",
       "      <th>Value</th>\n",
       "      <th>Question</th>\n",
       "      <th>Answer</th>\n",
       "      <th>clean ans</th>\n",
       "      <th>wiki</th>\n",
       "      <th>q_cleaned</th>\n",
       "    </tr>\n",
       "  </thead>\n",
       "  <tbody>\n",
       "    <tr>\n",
       "      <th>0</th>\n",
       "      <td>4680</td>\n",
       "      <td>2004-12-31</td>\n",
       "      <td>Jeopardy!</td>\n",
       "      <td>HISTORY</td>\n",
       "      <td>$200</td>\n",
       "      <td>For the last 8 years of his life, Galileo was ...</td>\n",
       "      <td>Copernicus</td>\n",
       "      <td>Copernicus</td>\n",
       "      <td>Nicolaus Copernicus (; Polish: Mikołaj Koperni...</td>\n",
       "      <td>0</td>\n",
       "    </tr>\n",
       "    <tr>\n",
       "      <th>1</th>\n",
       "      <td>4680</td>\n",
       "      <td>2004-12-31</td>\n",
       "      <td>Jeopardy!</td>\n",
       "      <td>ESPN's TOP 10 ALL-TIME ATHLETES</td>\n",
       "      <td>$200</td>\n",
       "      <td>No. 2: 1912 Olympian; football star at Carlisl...</td>\n",
       "      <td>Jim Thorpe</td>\n",
       "      <td>Jim Thorpe</td>\n",
       "      <td>James Francis Thorpe (Sac and Fox (Sauk): Wa-T...</td>\n",
       "      <td>0</td>\n",
       "    </tr>\n",
       "    <tr>\n",
       "      <th>2</th>\n",
       "      <td>4680</td>\n",
       "      <td>2004-12-31</td>\n",
       "      <td>Jeopardy!</td>\n",
       "      <td>EVERYBODY TALKS ABOUT IT...</td>\n",
       "      <td>$200</td>\n",
       "      <td>The city of Yuma in this state has a record av...</td>\n",
       "      <td>Arizona</td>\n",
       "      <td>Arizona</td>\n",
       "      <td>Arizona ( (listen) ARR-iz-OH-nə; Navajo: Hoozd...</td>\n",
       "      <td>0</td>\n",
       "    </tr>\n",
       "    <tr>\n",
       "      <th>3</th>\n",
       "      <td>4680</td>\n",
       "      <td>2004-12-31</td>\n",
       "      <td>Jeopardy!</td>\n",
       "      <td>THE COMPANY LINE</td>\n",
       "      <td>$200</td>\n",
       "      <td>In 1963, live on \"The Art Linkletter Show\", th...</td>\n",
       "      <td>McDonald's</td>\n",
       "      <td>McDonald's</td>\n",
       "      <td>McDonald's Corporation is an American fast foo...</td>\n",
       "      <td>0</td>\n",
       "    </tr>\n",
       "    <tr>\n",
       "      <th>4</th>\n",
       "      <td>4680</td>\n",
       "      <td>2004-12-31</td>\n",
       "      <td>Jeopardy!</td>\n",
       "      <td>EPITAPHS &amp; TRIBUTES</td>\n",
       "      <td>$200</td>\n",
       "      <td>Signer of the Dec. of Indep., framer of the Co...</td>\n",
       "      <td>John Adams</td>\n",
       "      <td>John Adams</td>\n",
       "      <td>John Adams Jr. (October 30, 1735 – July 4, 182...</td>\n",
       "      <td>0</td>\n",
       "    </tr>\n",
       "  </tbody>\n",
       "</table>\n",
       "</div>"
      ],
      "text/plain": [
       "   Show Number    Air Date      Round                         Category  Value  \\\n",
       "0         4680  2004-12-31  Jeopardy!                          HISTORY   $200   \n",
       "1         4680  2004-12-31  Jeopardy!  ESPN's TOP 10 ALL-TIME ATHLETES   $200   \n",
       "2         4680  2004-12-31  Jeopardy!      EVERYBODY TALKS ABOUT IT...   $200   \n",
       "3         4680  2004-12-31  Jeopardy!                 THE COMPANY LINE   $200   \n",
       "4         4680  2004-12-31  Jeopardy!              EPITAPHS & TRIBUTES   $200   \n",
       "\n",
       "                                            Question      Answer   clean ans  \\\n",
       "0  For the last 8 years of his life, Galileo was ...  Copernicus  Copernicus   \n",
       "1  No. 2: 1912 Olympian; football star at Carlisl...  Jim Thorpe  Jim Thorpe   \n",
       "2  The city of Yuma in this state has a record av...     Arizona     Arizona   \n",
       "3  In 1963, live on \"The Art Linkletter Show\", th...  McDonald's  McDonald's   \n",
       "4  Signer of the Dec. of Indep., framer of the Co...  John Adams  John Adams   \n",
       "\n",
       "                                                wiki  q_cleaned  \n",
       "0  Nicolaus Copernicus (; Polish: Mikołaj Koperni...          0  \n",
       "1  James Francis Thorpe (Sac and Fox (Sauk): Wa-T...          0  \n",
       "2  Arizona ( (listen) ARR-iz-OH-nə; Navajo: Hoozd...          0  \n",
       "3  McDonald's Corporation is an American fast foo...          0  \n",
       "4  John Adams Jr. (October 30, 1735 – July 4, 182...          0  "
      ]
     },
     "execution_count": 4,
     "metadata": {},
     "output_type": "execute_result"
    }
   ],
   "source": [
    "raw_df.head()"
   ]
  },
  {
   "cell_type": "markdown",
   "id": "aca56d11-5bc6-4948-845d-0c2a4a852993",
   "metadata": {},
   "source": [
    "# Extract relevant passages from wiki"
   ]
  },
  {
   "cell_type": "code",
   "execution_count": 5,
   "id": "7dc9080f-d19c-4aae-908a-07f7380ab663",
   "metadata": {
    "id": "invalid-joseph"
   },
   "outputs": [],
   "source": [
    "def sent_tokenize(text):\n",
    "    sentences = re.split(r\"[.!?]\", text)\n",
    "    sentences = [sent.strip(\" \") for sent in sentences]\n",
    "    return sentences\n",
    "\n",
    "def pre_processing(collection):\n",
    "    collection = collection.lower()\n",
    "    collection = collection.translate(str.maketrans('','',string.punctuation))\n",
    "    collection = re.sub(r'\\d+', '', collection)\n",
    "    collection = collection.strip()\n",
    "\n",
    "    lemmatizer=WordNetLemmatizer()\n",
    "    collection=word_tokenize(collection)\n",
    "    \n",
    "    collection_clean = []\n",
    "    for word in collection:\n",
    "        collection_clean.append(lemmatizer.lemmatize(word))\n",
    "        \n",
    "    stop_words = set(STOP_WORDS)\n",
    "    collection_clean = [i for i in collection_clean if not i in stop_words]\n",
    "    \n",
    "    return collection_clean"
   ]
  },
  {
   "cell_type": "code",
   "execution_count": 6,
   "id": "8beff438-b500-4847-843f-b898beade293",
   "metadata": {
    "id": "shared-vertex"
   },
   "outputs": [
    {
     "name": "stderr",
     "output_type": "stream",
     "text": [
      " 49%|████▊     | 72398/149006 [1:26:32<1:29:54, 14.20it/s]IOPub data rate exceeded.\n",
      "The Jupyter server will temporarily stop sending output\n",
      "to the client in order to avoid crashing it.\n",
      "To change this limit, set the config variable\n",
      "`--ServerApp.iopub_data_rate_limit`.\n",
      "\n",
      "Current values:\n",
      "ServerApp.iopub_data_rate_limit=1000000.0 (bytes/sec)\n",
      "ServerApp.rate_limit_window=3.0 (secs)\n",
      "\n",
      "100%|██████████| 149006/149006 [2:58:25<00:00, 13.92it/s]  \n"
     ]
    }
   ],
   "source": [
    "clues = []\n",
    "responses = []\n",
    "categories = []\n",
    "scores_bm25 =[]\n",
    "passages = []\n",
    "\n",
    "for index, row in tqdm(raw_df.iterrows(), total=raw_df.shape[0]):\n",
    "    query = row[' Question'] + ' ' + row[' Answer']\n",
    "    passage_ss = sent_tokenize(row['wiki'])\n",
    "    \n",
    "    tokenized_corpus = [pre_processing(doc) for doc in passage_ss]\n",
    "    bm25 = BM25Okapi(tokenized_corpus)\n",
    "    tokenized_query = pre_processing(query)\n",
    "    doc_scores = bm25.get_scores(tokenized_query)\n",
    "    \n",
    "    score_argmax = np.argmax(doc_scores)\n",
    "    if score_argmax == 0:\n",
    "        best_sentences = passage_ss[:score_argmax + 3]\n",
    "    elif score_argmax == len(passage_ss) - 1:\n",
    "        best_sentences = passage_ss[score_argmax - 3:]\n",
    "    else:\n",
    "        best_sentences = passage_ss[score_argmax - 1:score_argmax + 2]\n",
    "    \n",
    "    responses.append(row[' Answer'])\n",
    "    clues.append(row[' Question'])\n",
    "    categories.append(row[' Category'])\n",
    "    passages.append('. '.join(best_sentences).replace('\\n', ' ').replace('\\'\"', '\"'))\n",
    "    scores_bm25.append(doc_scores[score_argmax])\n",
    "\n",
    "data_raw = {\n",
    "    'clues': clues,\n",
    "    'responses': responses,\n",
    "    'categories': categories,\n",
    "    'scores_bm25': scores_bm25,\n",
    "    'passages': passages \n",
    "}"
   ]
  },
  {
   "cell_type": "code",
   "execution_count": 7,
   "id": "f1d68a26-1630-4e35-85ac-9d989d628abe",
   "metadata": {},
   "outputs": [],
   "source": [
    "pickle.dump(data_raw, open(PATH + '/raw_data/data-w-scores.pkl', 'wb'))"
   ]
  },
  {
   "cell_type": "code",
   "execution_count": 8,
   "id": "5c7d70ac-a33a-4269-bc9f-85e6ad5ab6df",
   "metadata": {},
   "outputs": [],
   "source": [
    "data_raw = pickle.load(open(PATH + '/raw_data/data-w-scores.pkl', 'rb'))"
   ]
  },
  {
   "cell_type": "markdown",
   "id": "ad3b8636-8666-40d6-8aec-260f11ad041e",
   "metadata": {},
   "source": [
    "## See Example Datapoint"
   ]
  },
  {
   "cell_type": "code",
   "execution_count": 9,
   "id": "46565d53-de4a-41a3-9fef-b623ca675d7b",
   "metadata": {},
   "outputs": [
    {
     "data": {
      "text/plain": [
       "'<a href=\"http://www.j-archive.com/media/2004-12-31_DJ_26.mp3\">Ripped from today\\'s headlines, he was a turtle king gone mad; Mack was the one good turtle who\\'d bring him down</a>'"
      ]
     },
     "execution_count": 9,
     "metadata": {},
     "output_type": "execute_result"
    }
   ],
   "source": [
    "data_raw['clues'][28]"
   ]
  },
  {
   "cell_type": "markdown",
   "id": "ee901c07-a33f-448e-a7d4-42e177d04156",
   "metadata": {},
   "source": [
    "## Preprocess `<a>` tags"
   ]
  },
  {
   "cell_type": "code",
   "execution_count": 10,
   "id": "5afc2e2f-e5d2-456c-9bdd-ead6b195dc78",
   "metadata": {},
   "outputs": [
    {
     "name": "stderr",
     "output_type": "stream",
     "text": [
      "100%|██████████| 149006/149006 [00:01<00:00, 145345.36it/s]\n"
     ]
    },
    {
     "data": {
      "text/plain": [
       "7305"
      ]
     },
     "execution_count": 10,
     "metadata": {},
     "output_type": "execute_result"
    }
   ],
   "source": [
    "data_notags = deepcopy(data_raw)\n",
    "count = 0\n",
    "idxs = []\n",
    "for i in tqdm(range(len(data_notags['passages']))):\n",
    "    if '://' in data_notags['passages'][i]:\n",
    "        count += 1\n",
    "        data_notags['passages'][i] = BS(data_notags['passages'][i], 'html.parser').get_text()\n",
    "    if '://' in data_notags['clues'][i]:\n",
    "        count += 1\n",
    "        data_notags['clues'][i] = BS(data_notags['clues'][i], 'html.parser').get_text()\n",
    "count"
   ]
  },
  {
   "cell_type": "code",
   "execution_count": 11,
   "id": "06977f3d-f841-45e5-8de0-993e60ef8365",
   "metadata": {},
   "outputs": [
    {
     "data": {
      "text/plain": [
       "\"Ripped from today's headlines, he was a turtle king gone mad; Mack was the one good turtle who'd bring him down\""
      ]
     },
     "execution_count": 11,
     "metadata": {},
     "output_type": "execute_result"
    }
   ],
   "source": [
    "data_notags['clues'][28]"
   ]
  },
  {
   "cell_type": "markdown",
   "id": "763d36af-1318-4695-bac5-24370750ec61",
   "metadata": {},
   "source": [
    "## Remove Oddly formatted links"
   ]
  },
  {
   "cell_type": "code",
   "execution_count": 12,
   "id": "d5c5d3f6-39af-4bc6-8e2b-ac29025e8231",
   "metadata": {},
   "outputs": [
    {
     "data": {
      "text/plain": [
       "'is/20131116140756/https://sites. google. com/site/levistraussfamily/ Biography of Levi Strauss from the Official Levi Strauss Site.  Levi Strauss at Find a Grave Levi Strauss Museum in Buttenheim, Germany (in German) Levi Strauss at FMD'"
      ]
     },
     "execution_count": 12,
     "metadata": {},
     "output_type": "execute_result"
    }
   ],
   "source": [
    "data_notags['passages'][13090]"
   ]
  },
  {
   "cell_type": "code",
   "execution_count": 13,
   "id": "b8222574-2a77-4a56-b89c-9531f84f2091",
   "metadata": {},
   "outputs": [
    {
     "name": "stderr",
     "output_type": "stream",
     "text": [
      "100%|██████████| 149006/149006 [00:00<00:00, 1151357.57it/s]\n"
     ]
    }
   ],
   "source": [
    "count = 0\n",
    "naughty_idxs = []\n",
    "for i in tqdm(range(len(data_notags['passages']))):\n",
    "    if '://' in data_notags['passages'][i] or '://' in data_notags['clues'][i]:\n",
    "        count += 1\n",
    "        naughty_idxs.append(i)"
   ]
  },
  {
   "cell_type": "code",
   "execution_count": 14,
   "id": "b856864e-7872-43bf-ae69-7fbc095da199",
   "metadata": {},
   "outputs": [
    {
     "name": "stdout",
     "output_type": "stream",
     "text": [
      "found 27 bad samples\n"
     ]
    }
   ],
   "source": [
    "print('found {} bad samples'.format(count))"
   ]
  },
  {
   "cell_type": "code",
   "execution_count": 15,
   "id": "c3ddbb8a-6489-41d1-b1ee-fead64291e80",
   "metadata": {},
   "outputs": [
    {
     "name": "stdout",
     "output_type": "stream",
     "text": [
      "currently have 149006 samples\n"
     ]
    }
   ],
   "source": [
    "# form dataframe\n",
    "df_notags = pd.DataFrame(data_notags)\n",
    "old_length = len(df_notags)\n",
    "print('currently have {} samples'.format(old_length))"
   ]
  },
  {
   "cell_type": "markdown",
   "id": "42586ce6-bfd9-4d7c-9a1b-73ed8b437be2",
   "metadata": {},
   "source": [
    "Show bad examples"
   ]
  },
  {
   "cell_type": "code",
   "execution_count": 16,
   "id": "ae63be3b-4368-4973-87cc-30720ce4283b",
   "metadata": {},
   "outputs": [
    {
     "data": {
      "text/html": [
       "<div>\n",
       "<style scoped>\n",
       "    .dataframe tbody tr th:only-of-type {\n",
       "        vertical-align: middle;\n",
       "    }\n",
       "\n",
       "    .dataframe tbody tr th {\n",
       "        vertical-align: top;\n",
       "    }\n",
       "\n",
       "    .dataframe thead th {\n",
       "        text-align: right;\n",
       "    }\n",
       "</style>\n",
       "<table border=\"1\" class=\"dataframe\">\n",
       "  <thead>\n",
       "    <tr style=\"text-align: right;\">\n",
       "      <th></th>\n",
       "      <th>clues</th>\n",
       "      <th>passages</th>\n",
       "    </tr>\n",
       "  </thead>\n",
       "  <tbody>\n",
       "    <tr>\n",
       "      <th>348</th>\n",
       "      <td>Movie in which Axel Foley asks, \"where ...you ...</td>\n",
       "      <td>On November 14, 2019, Deadline Hollywood annou...</td>\n",
       "    </tr>\n",
       "    <tr>\n",
       "      <th>5075</th>\n",
       "      <td>Formed by plate tectonics, these mid-ocean upl...</td>\n",
       "      <td>An Ice pressure ridge develops in an ice cover...</td>\n",
       "    </tr>\n",
       "    <tr>\n",
       "      <th>9227</th>\n",
       "      <td>http://www.j-archive.com/Read all about me at ...</td>\n",
       "      <td>The slash is an oblique slanting line punctuat...</td>\n",
       "    </tr>\n",
       "    <tr>\n",
       "      <th>13090</th>\n",
       "      <td>The logo seen here has identified this brand s...</td>\n",
       "      <td>is/20131116140756/https://sites. google. com/s...</td>\n",
       "    </tr>\n",
       "    <tr>\n",
       "      <th>16359</th>\n",
       "      <td>The seat of Montana State University is named ...</td>\n",
       "      <td>Archives John M. Bozeman's papers are now he...</td>\n",
       "    </tr>\n",
       "    <tr>\n",
       "      <th>31351</th>\n",
       "      <td>Plate armor first covered, then replaced this ...</td>\n",
       "      <td>com/patterns/european/index. html http://www. ...</td>\n",
       "    </tr>\n",
       "    <tr>\n",
       "      <th>33489</th>\n",
       "      <td>Joely Richardson starred as Marie Antoinette i...</td>\n",
       "      <td>in both instances.   References External links...</td>\n",
       "    </tr>\n",
       "    <tr>\n",
       "      <th>38619</th>\n",
       "      <td>Popular during Christmas, he's the holy man et...</td>\n",
       "      <td>Saint Nicholas Center: Who is Saint Nicholas....</td>\n",
       "    </tr>\n",
       "    <tr>\n",
       "      <th>49539</th>\n",
       "      <td>Forever, or a fragrance by Calvin Klein</td>\n",
       "      <td>The circle, band or ring is also commonly used...</td>\n",
       "    </tr>\n",
       "    <tr>\n",
       "      <th>57957</th>\n",
       "      <td>This fictional rural girl charms a businessman...</td>\n",
       "      <td>Shirley Temple played Rebecca in the more free...</td>\n",
       "    </tr>\n",
       "    <tr>\n",
       "      <th>67160</th>\n",
       "      <td>On a computer keyboard this symbol is usually ...</td>\n",
       "      <td>, is used to indicate the start of a query str...</td>\n",
       "    </tr>\n",
       "    <tr>\n",
       "      <th>76495</th>\n",
       "      <td>Archaeological digs showed that Pompeii, Stabi...</td>\n",
       "      <td>It also portrays the facts of the eruption.  P...</td>\n",
       "    </tr>\n",
       "    <tr>\n",
       "      <th>77568</th>\n",
       "      <td>Dictionaries commonly describe \"the\" as this t...</td>\n",
       "      <td>London:Croom Helm.  Definite article from Glot...</td>\n",
       "    </tr>\n",
       "    <tr>\n",
       "      <th>87301</th>\n",
       "      <td>This Olympian is seen here getting ready to do...</td>\n",
       "      <td>(2013) as himself Back on Board: Greg Louganis...</td>\n",
       "    </tr>\n",
       "    <tr>\n",
       "      <th>88012</th>\n",
       "      <td>The Basilique Notre-Dame has one of the larges...</td>\n",
       "      <td>cat/ Deutsche Glockenspiel Vereinigung (German...</td>\n",
       "    </tr>\n",
       "    <tr>\n",
       "      <th>100145</th>\n",
       "      <td>In 1873 he got a patent for using metal rivets...</td>\n",
       "      <td>is/20131116140756/https://sites. google. com/s...</td>\n",
       "    </tr>\n",
       "    <tr>\n",
       "      <th>102497</th>\n",
       "      <td>To be rowdy or make trouble is to do this, ref...</td>\n",
       "      <td>Pasadena, California.   External links Raising...</td>\n",
       "    </tr>\n",
       "    <tr>\n",
       "      <th>104729</th>\n",
       "      <td>4 museums in England that house national colle...</td>\n",
       "      <td>Park Hill became a nunnery after his death unt...</td>\n",
       "    </tr>\n",
       "    <tr>\n",
       "      <th>106417</th>\n",
       "      <td>Last name of unrelated tennis players Gigi &amp; M...</td>\n",
       "      <td>The name is  popular in Spanish speaking count...</td>\n",
       "    </tr>\n",
       "    <tr>\n",
       "      <th>107391</th>\n",
       "      <td>If I were Rebecca, I'd have stayed on this far...</td>\n",
       "      <td>Shirley Temple played Rebecca in the more free...</td>\n",
       "    </tr>\n",
       "    <tr>\n",
       "      <th>110572</th>\n",
       "      <td>It's the distance \"within\" which a sound can b...</td>\n",
       "      <td>Records) The Silver Lining (2008, Indegoot / F...</td>\n",
       "    </tr>\n",
       "    <tr>\n",
       "      <th>110665</th>\n",
       "      <td>The ones for sweetness are up front, while the...</td>\n",
       "      <td>Salt, sweet, sour and umami tastes causes dep...</td>\n",
       "    </tr>\n",
       "    <tr>\n",
       "      <th>112660</th>\n",
       "      <td>CCC</td>\n",
       "      <td>The Navajos and the New Deal (1969) Parman, Do...</td>\n",
       "    </tr>\n",
       "    <tr>\n",
       "      <th>119611</th>\n",
       "      <td>L. Frank Baum had this birthstone, the same as...</td>\n",
       "      <td>(2006). The Emerald City: Emerald mining in Br...</td>\n",
       "    </tr>\n",
       "    <tr>\n",
       "      <th>125490</th>\n",
       "      <td>In days past, a young punk often put \"a chip o...</td>\n",
       "      <td>They are the counterparts of the ilium and isc...</td>\n",
       "    </tr>\n",
       "    <tr>\n",
       "      <th>126140</th>\n",
       "      <td>(Alex: We'll wrap it up with Tori.) On \"90210\"...</td>\n",
       "      <td>Ankōru) (2010) Kugiko-San (クギ子ちゃん, Kugiko-San)...</td>\n",
       "    </tr>\n",
       "    <tr>\n",
       "      <th>137965</th>\n",
       "      <td>In a bad mood today?  I could tell by that \"ch...</td>\n",
       "      <td>They are the counterparts of the ilium and isc...</td>\n",
       "    </tr>\n",
       "  </tbody>\n",
       "</table>\n",
       "</div>"
      ],
      "text/plain": [
       "                                                    clues  \\\n",
       "348     Movie in which Axel Foley asks, \"where ...you ...   \n",
       "5075    Formed by plate tectonics, these mid-ocean upl...   \n",
       "9227    http://www.j-archive.com/Read all about me at ...   \n",
       "13090   The logo seen here has identified this brand s...   \n",
       "16359   The seat of Montana State University is named ...   \n",
       "31351   Plate armor first covered, then replaced this ...   \n",
       "33489   Joely Richardson starred as Marie Antoinette i...   \n",
       "38619   Popular during Christmas, he's the holy man et...   \n",
       "49539             Forever, or a fragrance by Calvin Klein   \n",
       "57957   This fictional rural girl charms a businessman...   \n",
       "67160   On a computer keyboard this symbol is usually ...   \n",
       "76495   Archaeological digs showed that Pompeii, Stabi...   \n",
       "77568   Dictionaries commonly describe \"the\" as this t...   \n",
       "87301   This Olympian is seen here getting ready to do...   \n",
       "88012   The Basilique Notre-Dame has one of the larges...   \n",
       "100145  In 1873 he got a patent for using metal rivets...   \n",
       "102497  To be rowdy or make trouble is to do this, ref...   \n",
       "104729  4 museums in England that house national colle...   \n",
       "106417  Last name of unrelated tennis players Gigi & M...   \n",
       "107391  If I were Rebecca, I'd have stayed on this far...   \n",
       "110572  It's the distance \"within\" which a sound can b...   \n",
       "110665  The ones for sweetness are up front, while the...   \n",
       "112660                                                CCC   \n",
       "119611  L. Frank Baum had this birthstone, the same as...   \n",
       "125490  In days past, a young punk often put \"a chip o...   \n",
       "126140  (Alex: We'll wrap it up with Tori.) On \"90210\"...   \n",
       "137965  In a bad mood today?  I could tell by that \"ch...   \n",
       "\n",
       "                                                 passages  \n",
       "348     On November 14, 2019, Deadline Hollywood annou...  \n",
       "5075    An Ice pressure ridge develops in an ice cover...  \n",
       "9227    The slash is an oblique slanting line punctuat...  \n",
       "13090   is/20131116140756/https://sites. google. com/s...  \n",
       "16359     Archives John M. Bozeman's papers are now he...  \n",
       "31351   com/patterns/european/index. html http://www. ...  \n",
       "33489   in both instances.   References External links...  \n",
       "38619    Saint Nicholas Center: Who is Saint Nicholas....  \n",
       "49539   The circle, band or ring is also commonly used...  \n",
       "57957   Shirley Temple played Rebecca in the more free...  \n",
       "67160   , is used to indicate the start of a query str...  \n",
       "76495   It also portrays the facts of the eruption.  P...  \n",
       "77568   London:Croom Helm.  Definite article from Glot...  \n",
       "87301   (2013) as himself Back on Board: Greg Louganis...  \n",
       "88012   cat/ Deutsche Glockenspiel Vereinigung (German...  \n",
       "100145  is/20131116140756/https://sites. google. com/s...  \n",
       "102497  Pasadena, California.   External links Raising...  \n",
       "104729  Park Hill became a nunnery after his death unt...  \n",
       "106417  The name is  popular in Spanish speaking count...  \n",
       "107391  Shirley Temple played Rebecca in the more free...  \n",
       "110572  Records) The Silver Lining (2008, Indegoot / F...  \n",
       "110665   Salt, sweet, sour and umami tastes causes dep...  \n",
       "112660  The Navajos and the New Deal (1969) Parman, Do...  \n",
       "119611  (2006). The Emerald City: Emerald mining in Br...  \n",
       "125490  They are the counterparts of the ilium and isc...  \n",
       "126140  Ankōru) (2010) Kugiko-San (クギ子ちゃん, Kugiko-San)...  \n",
       "137965  They are the counterparts of the ilium and isc...  "
      ]
     },
     "execution_count": 16,
     "metadata": {},
     "output_type": "execute_result"
    }
   ],
   "source": [
    "df_notags.iloc[naughty_idxs][['clues', 'passages']]"
   ]
  },
  {
   "cell_type": "code",
   "execution_count": 17,
   "id": "c64ff13f-41ee-47ef-9b6d-b822e1717764",
   "metadata": {},
   "outputs": [
    {
     "data": {
      "image/png": "[encoded data removed]",
      "text/plain": [
       "<Figure size 864x576 with 1 Axes>"
      ]
     },
     "metadata": {},
     "output_type": "display_data"
    }
   ],
   "source": [
    "scores_naughty = np.array(data_notags['scores_bm25'])[naughty_idxs]\n",
    "scores_naughty.sort()\n",
    "plt.title('BM25 Scores of Bad Samples')\n",
    "plt.plot(scores_naughty);"
   ]
  },
  {
   "cell_type": "markdown",
   "id": "0c18a3a9-8fe8-402a-81b5-a65bbbb7950c",
   "metadata": {},
   "source": [
    "Nothing above bm25 score of 10, hence we can drop them."
   ]
  },
  {
   "cell_type": "code",
   "execution_count": 18,
   "id": "d5f1a991-b85e-44e8-83e6-c3d1a063e1c2",
   "metadata": {},
   "outputs": [
    {
     "data": {
      "text/html": [
       "<div>\n",
       "<style scoped>\n",
       "    .dataframe tbody tr th:only-of-type {\n",
       "        vertical-align: middle;\n",
       "    }\n",
       "\n",
       "    .dataframe tbody tr th {\n",
       "        vertical-align: top;\n",
       "    }\n",
       "\n",
       "    .dataframe thead th {\n",
       "        text-align: right;\n",
       "    }\n",
       "</style>\n",
       "<table border=\"1\" class=\"dataframe\">\n",
       "  <thead>\n",
       "    <tr style=\"text-align: right;\">\n",
       "      <th></th>\n",
       "      <th>clues</th>\n",
       "      <th>responses</th>\n",
       "      <th>categories</th>\n",
       "      <th>scores_bm25</th>\n",
       "      <th>passages</th>\n",
       "    </tr>\n",
       "  </thead>\n",
       "  <tbody>\n",
       "    <tr>\n",
       "      <th>0</th>\n",
       "      <td>For the last 8 years of his life, Galileo was ...</td>\n",
       "      <td>Copernicus</td>\n",
       "      <td>HISTORY</td>\n",
       "      <td>15.476244</td>\n",
       "      <td>The corrections to De revolutionibus, which om...</td>\n",
       "    </tr>\n",
       "    <tr>\n",
       "      <th>1</th>\n",
       "      <td>No. 2: 1912 Olympian; football star at Carlisl...</td>\n",
       "      <td>Jim Thorpe</td>\n",
       "      <td>ESPN's TOP 10 ALL-TIME ATHLETES</td>\n",
       "      <td>10.516087</td>\n",
       "      <td>Baseball, football, and other sports Thorpe ...</td>\n",
       "    </tr>\n",
       "    <tr>\n",
       "      <th>2</th>\n",
       "      <td>The city of Yuma in this state has a record av...</td>\n",
       "      <td>Arizona</td>\n",
       "      <td>EVERYBODY TALKS ABOUT IT...</td>\n",
       "      <td>10.246053</td>\n",
       "      <td>In the state's urban centers, the effects of l...</td>\n",
       "    </tr>\n",
       "    <tr>\n",
       "      <th>3</th>\n",
       "      <td>In 1963, live on \"The Art Linkletter Show\", th...</td>\n",
       "      <td>McDonald's</td>\n",
       "      <td>THE COMPANY LINE</td>\n",
       "      <td>5.412499</td>\n",
       "      <td>McDonald's has taken to partnering up with Sin...</td>\n",
       "    </tr>\n",
       "    <tr>\n",
       "      <th>4</th>\n",
       "      <td>Signer of the Dec. of Indep., framer of the Co...</td>\n",
       "      <td>John Adams</td>\n",
       "      <td>EPITAPHS &amp; TRIBUTES</td>\n",
       "      <td>12.932640</td>\n",
       "      <td>Adams was the primary author of the Massachuse...</td>\n",
       "    </tr>\n",
       "    <tr>\n",
       "      <th>...</th>\n",
       "      <td>...</td>\n",
       "      <td>...</td>\n",
       "      <td>...</td>\n",
       "      <td>...</td>\n",
       "      <td>...</td>\n",
       "    </tr>\n",
       "    <tr>\n",
       "      <th>149001</th>\n",
       "      <td>Shivers walking through 718 Fifth Ave., the je...</td>\n",
       "      <td>Harry Winston</td>\n",
       "      <td>SYMPTOMS OF AFFLUENZA</td>\n",
       "      <td>7.199821</td>\n",
       "      <td>in New York City in 1932. He had been called b...</td>\n",
       "    </tr>\n",
       "    <tr>\n",
       "      <th>149002</th>\n",
       "      <td>He came to America in 1847 to join his brother...</td>\n",
       "      <td>Levi Strauss</td>\n",
       "      <td>COMING TO AMERICA</td>\n",
       "      <td>7.131343</td>\n",
       "      <td>He was the son of Hirsch Strauss and his secon...</td>\n",
       "    </tr>\n",
       "    <tr>\n",
       "      <th>149003</th>\n",
       "      <td>This popular 1920s dance style was named for a...</td>\n",
       "      <td>the Charleston</td>\n",
       "      <td>SWEET CAROLINA</td>\n",
       "      <td>24.781041</td>\n",
       "      <td>The Charleston is a dance named after the harb...</td>\n",
       "    </tr>\n",
       "    <tr>\n",
       "      <th>149004</th>\n",
       "      <td>In the fir tree, not flowers but these hold th...</td>\n",
       "      <td>cones</td>\n",
       "      <td>YOU DON'T BRING ME FLOWERS</td>\n",
       "      <td>1.667977</td>\n",
       "      <td>A cone with a polygonal base is called a pyram...</td>\n",
       "    </tr>\n",
       "    <tr>\n",
       "      <th>149005</th>\n",
       "      <td>In \"Goodbye to Berlin\", Isherwood wrote, \"I am...</td>\n",
       "      <td>a camera</td>\n",
       "      <td>I AM I SAID</td>\n",
       "      <td>7.642148</td>\n",
       "      <td>Electronic shutters either record data from th...</td>\n",
       "    </tr>\n",
       "  </tbody>\n",
       "</table>\n",
       "<p>149006 rows × 5 columns</p>\n",
       "</div>"
      ],
      "text/plain": [
       "                                                    clues       responses  \\\n",
       "0       For the last 8 years of his life, Galileo was ...      Copernicus   \n",
       "1       No. 2: 1912 Olympian; football star at Carlisl...      Jim Thorpe   \n",
       "2       The city of Yuma in this state has a record av...         Arizona   \n",
       "3       In 1963, live on \"The Art Linkletter Show\", th...      McDonald's   \n",
       "4       Signer of the Dec. of Indep., framer of the Co...      John Adams   \n",
       "...                                                   ...             ...   \n",
       "149001  Shivers walking through 718 Fifth Ave., the je...   Harry Winston   \n",
       "149002  He came to America in 1847 to join his brother...    Levi Strauss   \n",
       "149003  This popular 1920s dance style was named for a...  the Charleston   \n",
       "149004  In the fir tree, not flowers but these hold th...           cones   \n",
       "149005  In \"Goodbye to Berlin\", Isherwood wrote, \"I am...        a camera   \n",
       "\n",
       "                             categories  scores_bm25  \\\n",
       "0                               HISTORY    15.476244   \n",
       "1       ESPN's TOP 10 ALL-TIME ATHLETES    10.516087   \n",
       "2           EVERYBODY TALKS ABOUT IT...    10.246053   \n",
       "3                      THE COMPANY LINE     5.412499   \n",
       "4                   EPITAPHS & TRIBUTES    12.932640   \n",
       "...                                 ...          ...   \n",
       "149001            SYMPTOMS OF AFFLUENZA     7.199821   \n",
       "149002                COMING TO AMERICA     7.131343   \n",
       "149003                   SWEET CAROLINA    24.781041   \n",
       "149004       YOU DON'T BRING ME FLOWERS     1.667977   \n",
       "149005                      I AM I SAID     7.642148   \n",
       "\n",
       "                                                 passages  \n",
       "0       The corrections to De revolutionibus, which om...  \n",
       "1         Baseball, football, and other sports Thorpe ...  \n",
       "2       In the state's urban centers, the effects of l...  \n",
       "3       McDonald's has taken to partnering up with Sin...  \n",
       "4       Adams was the primary author of the Massachuse...  \n",
       "...                                                   ...  \n",
       "149001  in New York City in 1932. He had been called b...  \n",
       "149002  He was the son of Hirsch Strauss and his secon...  \n",
       "149003  The Charleston is a dance named after the harb...  \n",
       "149004  A cone with a polygonal base is called a pyram...  \n",
       "149005  Electronic shutters either record data from th...  \n",
       "\n",
       "[149006 rows x 5 columns]"
      ]
     },
     "execution_count": 18,
     "metadata": {},
     "output_type": "execute_result"
    }
   ],
   "source": [
    "df_nourls = df_notags.drop(idxs).reset_index(drop=True)\n",
    "df_nourls"
   ]
  },
  {
   "cell_type": "code",
   "execution_count": 19,
   "id": "1c66c75b-5ede-4b82-be26-2f30d1b3671b",
   "metadata": {},
   "outputs": [],
   "source": [
    "df_sorted = df_nourls.sort_values('scores_bm25', ascending=False).reset_index(drop=True)"
   ]
  },
  {
   "cell_type": "markdown",
   "id": "b2b68cb9-c7c2-4d50-8cfe-3b6814e5e790",
   "metadata": {},
   "source": [
    "# Perform Thresholding According to Article Relevance"
   ]
  },
  {
   "cell_type": "code",
   "execution_count": 20,
   "id": "45273430-00a4-4804-a44e-d669ff7d9856",
   "metadata": {},
   "outputs": [],
   "source": [
    "THRESHOLD = 15"
   ]
  },
  {
   "cell_type": "code",
   "execution_count": 21,
   "id": "01581b3d-f2db-4eed-82e3-33e47e122460",
   "metadata": {},
   "outputs": [
    {
     "data": {
      "image/png": "[encoded data removed]",
      "text/plain": [
       "<Figure size 864x576 with 1 Axes>"
      ]
     },
     "metadata": {},
     "output_type": "display_data"
    }
   ],
   "source": [
    "plt.title('All BM25 Scores after Preprocessing')\n",
    "plt.plot(df_sorted['scores_bm25']);"
   ]
  },
  {
   "cell_type": "code",
   "execution_count": 22,
   "id": "b633ede0-bb7b-48ff-901a-fcafcf54e449",
   "metadata": {},
   "outputs": [],
   "source": [
    "df_sorted.to_pickle(PATH + '/preprocessed/all_data.pkl')"
   ]
  },
  {
   "cell_type": "code",
   "execution_count": 23,
   "id": "fcd93d3e-123b-42ef-a1d6-cbbbf7bf9188",
   "metadata": {},
   "outputs": [
    {
     "name": "stdout",
     "output_type": "stream",
     "text": [
      "There are 15255 samples above 15\n"
     ]
    },
    {
     "data": {
      "image/png": "[encoded data removed]",
      "text/plain": [
       "<Figure size 864x576 with 1 Axes>"
      ]
     },
     "metadata": {},
     "output_type": "display_data"
    }
   ],
   "source": [
    "thres_idx = np.where(df_sorted['scores_bm25'] < THRESHOLD)[0][0]\n",
    "plt.title('Top {} Scores after Preprocessing'.format(4*thres_idx))\n",
    "plt.ylim([0, 65])\n",
    "plt.fill_between(range(0, thres_idx), df_sorted['scores_bm25'][:thres_idx])\n",
    "plt.plot(df_sorted['scores_bm25'][:4*thres_idx]);\n",
    "print('There are {} samples above {}'.format(thres_idx+1, THRESHOLD))"
   ]
  },
  {
   "cell_type": "markdown",
   "id": "22301cd5-d524-4ed8-98db-a0fdab129a6b",
   "metadata": {},
   "source": [
    "The worst one within our threshold"
   ]
  },
  {
   "cell_type": "code",
   "execution_count": 24,
   "id": "27dc4a70-7b31-417b-b93a-b764b4c62009",
   "metadata": {},
   "outputs": [
    {
     "name": "stdout",
     "output_type": "stream",
     "text": [
      "clues: He was born in New York, & his howling early success was helped by his state-of-the-art Internet campaign\n",
      "responses: Howard Dean\n",
      "categories: DEMOCRATIC PRESIDENTIAL CONTENDERS 2004\n",
      "scores_bm25: 15.0002695912265\n",
      "passages: Dean endorsed Clinton over her competitor Senator Bernie Sanders in spite of the fact that Sanders represented the state of Vermont, where Dean had been governor.   Early life and education East Hampton and New York City childhood Dean was born in East Hampton, New York, to Andrée Belden (née Maitland), an art appraiser, and Howard Brush Dean, Jr. , an executive in the financial industry\n"
     ]
    }
   ],
   "source": [
    "show_sample(df_sorted.loc[thres_idx-1].to_dict())"
   ]
  },
  {
   "cell_type": "markdown",
   "id": "0aaca1c5-4a52-4c83-bed6-ba37379d25d8",
   "metadata": {},
   "source": [
    "## Cut off below the threshold above"
   ]
  },
  {
   "cell_type": "code",
   "execution_count": 25,
   "id": "2c8af03c-297a-4af5-9db6-91f6b2f5f1a2",
   "metadata": {},
   "outputs": [],
   "source": [
    "df = df_sorted[df_sorted['scores_bm25'] > THRESHOLD]"
   ]
  },
  {
   "cell_type": "code",
   "execution_count": 26,
   "id": "d10107d6-2280-451a-a00b-1fda70e3f8f5",
   "metadata": {},
   "outputs": [
    {
     "data": {
      "text/html": [
       "<div>\n",
       "<style scoped>\n",
       "    .dataframe tbody tr th:only-of-type {\n",
       "        vertical-align: middle;\n",
       "    }\n",
       "\n",
       "    .dataframe tbody tr th {\n",
       "        vertical-align: top;\n",
       "    }\n",
       "\n",
       "    .dataframe thead th {\n",
       "        text-align: right;\n",
       "    }\n",
       "</style>\n",
       "<table border=\"1\" class=\"dataframe\">\n",
       "  <thead>\n",
       "    <tr style=\"text-align: right;\">\n",
       "      <th></th>\n",
       "      <th>clues</th>\n",
       "      <th>responses</th>\n",
       "      <th>categories</th>\n",
       "      <th>scores_bm25</th>\n",
       "      <th>passages</th>\n",
       "    </tr>\n",
       "  </thead>\n",
       "  <tbody>\n",
       "    <tr>\n",
       "      <th>0</th>\n",
       "      <td>This leader said \"I have nothing to offer but ...</td>\n",
       "      <td>Winston Churchill</td>\n",
       "      <td>MISQUOTED</td>\n",
       "      <td>60.825823</td>\n",
       "      <td>. that I have nothing to offer but blood, toil...</td>\n",
       "    </tr>\n",
       "    <tr>\n",
       "      <th>1</th>\n",
       "      <td>Alexander Pope wrote the epitaph \"Nature and n...</td>\n",
       "      <td>Isaac Newton</td>\n",
       "      <td>FAMOUS SCIENTISTS</td>\n",
       "      <td>54.462345</td>\n",
       "      <td>After death Fame The mathematician Joseph-Lo...</td>\n",
       "    </tr>\n",
       "    <tr>\n",
       "      <th>2</th>\n",
       "      <td>\"In the jungle, welcome to the jungle, watch i...</td>\n",
       "      <td>Guns N' Roses</td>\n",
       "      <td>JOHNNY GILBERT, ROCK GOD</td>\n",
       "      <td>51.487372</td>\n",
       "      <td>Trying to put a scare into the young runaways,...</td>\n",
       "    </tr>\n",
       "    <tr>\n",
       "      <th>3</th>\n",
       "      <td>\"In the souls of the people\" these \"are fillin...</td>\n",
       "      <td>The Grapes of Wrath</td>\n",
       "      <td>NOVEL TITLES</td>\n",
       "      <td>49.935663</td>\n",
       "      <td>The phrase also appears at the end of Chapter...</td>\n",
       "    </tr>\n",
       "    <tr>\n",
       "      <th>4</th>\n",
       "      <td>Kurt Cobain's suicide note quoted from this ma...</td>\n",
       "      <td>Neil Young</td>\n",
       "      <td>ROCK 'N' ROLL HISTORY</td>\n",
       "      <td>49.213770</td>\n",
       "      <td>In 1994, Young again collaborated with Crazy...</td>\n",
       "    </tr>\n",
       "    <tr>\n",
       "      <th>...</th>\n",
       "      <td>...</td>\n",
       "      <td>...</td>\n",
       "      <td>...</td>\n",
       "      <td>...</td>\n",
       "      <td>...</td>\n",
       "    </tr>\n",
       "    <tr>\n",
       "      <th>15249</th>\n",
       "      <td>During this decades-long war, Sweden's King Gu...</td>\n",
       "      <td>the 30-Year War</td>\n",
       "      <td>HISTORIC NICKNAMES</td>\n",
       "      <td>15.001081</td>\n",
       "      <td>A. Henty, The Lion of the North: The Adventure...</td>\n",
       "    </tr>\n",
       "    <tr>\n",
       "      <th>15250</th>\n",
       "      <td>On meeting this man, Paul asked to join his ba...</td>\n",
       "      <td>John Lennon</td>\n",
       "      <td>PAUL McCARTNEY</td>\n",
       "      <td>15.000332</td>\n",
       "      <td>Lennon first met Paul McCartney at the Quarrym...</td>\n",
       "    </tr>\n",
       "    <tr>\n",
       "      <th>15251</th>\n",
       "      <td>In 1791 John Rutledge left the U.S. Supreme Co...</td>\n",
       "      <td>South Carolina</td>\n",
       "      <td>PEOPLE IN HISTORY</td>\n",
       "      <td>15.000311</td>\n",
       "      <td>In Texas vs. White (1869), the Supreme Court r...</td>\n",
       "    </tr>\n",
       "    <tr>\n",
       "      <th>15252</th>\n",
       "      <td>This man, already pronounced a heretic, was fo...</td>\n",
       "      <td>Martin Luther</td>\n",
       "      <td>WORMS</td>\n",
       "      <td>15.000286</td>\n",
       "      <td>\"Over the next five days, private conferences ...</td>\n",
       "    </tr>\n",
       "    <tr>\n",
       "      <th>15253</th>\n",
       "      <td>He was born in New York, &amp; his howling early s...</td>\n",
       "      <td>Howard Dean</td>\n",
       "      <td>DEMOCRATIC PRESIDENTIAL CONTENDERS 2004</td>\n",
       "      <td>15.000270</td>\n",
       "      <td>Dean endorsed Clinton over her competitor Sena...</td>\n",
       "    </tr>\n",
       "  </tbody>\n",
       "</table>\n",
       "<p>15254 rows × 5 columns</p>\n",
       "</div>"
      ],
      "text/plain": [
       "                                                   clues            responses  \\\n",
       "0      This leader said \"I have nothing to offer but ...    Winston Churchill   \n",
       "1      Alexander Pope wrote the epitaph \"Nature and n...         Isaac Newton   \n",
       "2      \"In the jungle, welcome to the jungle, watch i...        Guns N' Roses   \n",
       "3      \"In the souls of the people\" these \"are fillin...  The Grapes of Wrath   \n",
       "4      Kurt Cobain's suicide note quoted from this ma...           Neil Young   \n",
       "...                                                  ...                  ...   \n",
       "15249  During this decades-long war, Sweden's King Gu...      the 30-Year War   \n",
       "15250  On meeting this man, Paul asked to join his ba...          John Lennon   \n",
       "15251  In 1791 John Rutledge left the U.S. Supreme Co...       South Carolina   \n",
       "15252  This man, already pronounced a heretic, was fo...        Martin Luther   \n",
       "15253  He was born in New York, & his howling early s...          Howard Dean   \n",
       "\n",
       "                                    categories  scores_bm25  \\\n",
       "0                                    MISQUOTED    60.825823   \n",
       "1                            FAMOUS SCIENTISTS    54.462345   \n",
       "2                     JOHNNY GILBERT, ROCK GOD    51.487372   \n",
       "3                                 NOVEL TITLES    49.935663   \n",
       "4                        ROCK 'N' ROLL HISTORY    49.213770   \n",
       "...                                        ...          ...   \n",
       "15249                       HISTORIC NICKNAMES    15.001081   \n",
       "15250                           PAUL McCARTNEY    15.000332   \n",
       "15251                        PEOPLE IN HISTORY    15.000311   \n",
       "15252                                    WORMS    15.000286   \n",
       "15253  DEMOCRATIC PRESIDENTIAL CONTENDERS 2004    15.000270   \n",
       "\n",
       "                                                passages  \n",
       "0      . that I have nothing to offer but blood, toil...  \n",
       "1        After death Fame The mathematician Joseph-Lo...  \n",
       "2      Trying to put a scare into the young runaways,...  \n",
       "3       The phrase also appears at the end of Chapter...  \n",
       "4        In 1994, Young again collaborated with Crazy...  \n",
       "...                                                  ...  \n",
       "15249  A. Henty, The Lion of the North: The Adventure...  \n",
       "15250  Lennon first met Paul McCartney at the Quarrym...  \n",
       "15251  In Texas vs. White (1869), the Supreme Court r...  \n",
       "15252  \"Over the next five days, private conferences ...  \n",
       "15253  Dean endorsed Clinton over her competitor Sena...  \n",
       "\n",
       "[15254 rows x 5 columns]"
      ]
     },
     "execution_count": 26,
     "metadata": {},
     "output_type": "execute_result"
    }
   ],
   "source": [
    "df"
   ]
  },
  {
   "cell_type": "code",
   "execution_count": 27,
   "id": "f94a414b-89eb-418e-a696-e18c5cbbec89",
   "metadata": {},
   "outputs": [],
   "source": [
    "data_rows = [v for v in df.to_dict(orient='index').values()]"
   ]
  },
  {
   "cell_type": "code",
   "execution_count": 28,
   "id": "a6bbd35e-5c44-4079-923a-95313b191929",
   "metadata": {},
   "outputs": [
    {
     "data": {
      "text/plain": [
       "[{'clues': 'This leader said \"I have nothing to offer but blood, toil, tears & sweat\", not \"blood, sweat & tears\"',\n",
       "  'responses': 'Winston Churchill',\n",
       "  'categories': 'MISQUOTED',\n",
       "  'scores_bm25': 60.825823336033515,\n",
       "  'passages': '. that I have nothing to offer but blood, toil, tears and sweat. We have before us an ordeal of the most grievous kind'},\n",
       " {'clues': 'Alexander Pope wrote the epitaph \"Nature and nature\\'s laws lay hid in night, God said, let\" him \"be and all was light\"',\n",
       "  'responses': 'Isaac Newton',\n",
       "  'categories': 'FAMOUS SCIENTISTS',\n",
       "  'scores_bm25': 54.46234466877474,\n",
       "  'passages': '  After death Fame The mathematician Joseph-Louis Lagrange said that Newton was the greatest genius who ever lived, and once added that Newton was also \"the most fortunate, for we cannot find more than once a system of the world to establish. \" English poet Alexander Pope wrote the famous epitaph:  Nature and nature\\'s laws lay hid in night; God said \"Let Newton be\" and all was light.  Newton was relatively modest about his achievements, writing in a letter to Robert Hooke in February 1676, stating \"If I have seen further it is by standing on the shoulders of giants'}]"
      ]
     },
     "execution_count": 28,
     "metadata": {},
     "output_type": "execute_result"
    }
   ],
   "source": [
    "data_rows[:2]"
   ]
  },
  {
   "cell_type": "code",
   "execution_count": 29,
   "id": "9bd514a6-a71e-4975-97ba-90ad9cc04771",
   "metadata": {},
   "outputs": [],
   "source": [
    "data_cols = df.to_dict(orient='list')"
   ]
  },
  {
   "cell_type": "code",
   "execution_count": 30,
   "id": "345d59dd-fc68-4c3c-b716-490790b3b8f0",
   "metadata": {},
   "outputs": [
    {
     "name": "stdout",
     "output_type": "stream",
     "text": [
      "clues ['This leader said \"I have nothing to offer but blood, toil, tears & sweat\", not \"blood, sweat & tears\"', 'Alexander Pope wrote the epitaph \"Nature and nature\\'s laws lay hid in night, God said, let\" him \"be and all was light\"']\n",
      "responses ['Winston Churchill', 'Isaac Newton']\n",
      "categories ['MISQUOTED', 'FAMOUS SCIENTISTS']\n",
      "scores_bm25 [60.825823336033515, 54.46234466877474]\n",
      "passages ['. that I have nothing to offer but blood, toil, tears and sweat. We have before us an ordeal of the most grievous kind', '  After death Fame The mathematician Joseph-Louis Lagrange said that Newton was the greatest genius who ever lived, and once added that Newton was also \"the most fortunate, for we cannot find more than once a system of the world to establish. \" English poet Alexander Pope wrote the famous epitaph:  Nature and nature\\'s laws lay hid in night; God said \"Let Newton be\" and all was light.  Newton was relatively modest about his achievements, writing in a letter to Robert Hooke in February 1676, stating \"If I have seen further it is by standing on the shoulders of giants']\n"
     ]
    }
   ],
   "source": [
    "for k, v in data_cols.items(): print(k, v[:2])"
   ]
  },
  {
   "cell_type": "code",
   "execution_count": 31,
   "id": "9b66a62b-b8dc-4cb8-859b-f7c4b403103d",
   "metadata": {},
   "outputs": [],
   "source": [
    "pickle.dump(data_cols, open(PATH + '/preprocessed/data_cols.pkl', 'wb'))\n",
    "json.dump(data_rows, open(PATH + '/preprocessed/data_rows.json', 'w', encoding='utf-8'))"
   ]
  },
  {
   "cell_type": "code",
   "execution_count": 32,
   "id": "97969736-7649-4965-9e6f-214bb673b4a4",
   "metadata": {
    "tags": []
   },
   "outputs": [],
   "source": [
    "# data_list = []\n",
    "# unique_cats = list(set(data['categories']))\n",
    "\n",
    "# for cat in tqdm(unique_cats):\n",
    "#     indices = [i for i, x in enumerate(data['categories']) if x == cat]\n",
    "\n",
    "#     data_list.append({\n",
    "#         \"title\": cat,\n",
    "#         \"paragraphs\": [\n",
    "#             {\n",
    "#                 \"context\": data['passages'][i],\n",
    "#                 \"qas\": [{\n",
    "#                     \"answers\": [{\n",
    "#                         \"answer_start\": 0,\n",
    "#                         \"text\": data['responses'][i]\n",
    "#                     }],\n",
    "#                     \"question\": data['clues'][i],\n",
    "#                     \"id\": uuid.uuid4().hex\n",
    "#                 }]\n",
    "#             } for i in indices\n",
    "#         ]\n",
    "#     })\n",
    "\n",
    "# # main_json = {\n",
    "# #     \"root\": {\n",
    "# #         \"data\": data_list\n",
    "# #     }\n",
    "# # }\n",
    "# # main_json"
   ]
  },
  {
   "cell_type": "code",
   "execution_count": 33,
   "id": "2cfd9fa7-e443-437e-b4b0-816b6e50a43b",
   "metadata": {},
   "outputs": [],
   "source": [
    "N = len(data_rows)\n",
    "train_dev_idx = int(0.8 * N)\n",
    "all_idxs = np.arange(N)\n",
    "np.random.shuffle(all_idxs)\n",
    "idxs_train = all_idxs[:train_dev_idx]\n",
    "idxs_dev = all_idxs[train_dev_idx:]\n",
    "\n",
    "data_arr = np.array(data_rows)\n",
    "data_train = data_arr[idxs_train].tolist()\n",
    "data_dev = data_arr[idxs_dev].tolist()"
   ]
  },
  {
   "cell_type": "code",
   "execution_count": 34,
   "id": "f562ff5e-64f8-47d8-ad08-3be3579d2184",
   "metadata": {},
   "outputs": [],
   "source": [
    "assert len(data_train) + len(data_dev) == len(data_rows), 'Data sizes do not match'"
   ]
  },
  {
   "cell_type": "code",
   "execution_count": 35,
   "id": "15665506-e05f-47f7-a382-cf559f520529",
   "metadata": {},
   "outputs": [],
   "source": [
    "json.dump(data_train, open(PATH + '/preprocessed/data_train.json', 'w', encoding='utf-8'))\n",
    "json.dump(data_dev, open(PATH + '/preprocessed/data_dev.json', 'w', encoding='utf-8'))"
   ]
  },
  {
   "cell_type": "code",
   "execution_count": null,
   "id": "9e5b8679-7d07-44f4-a686-a2eda59d8361",
   "metadata": {},
   "outputs": [],
   "source": []
  }
 ],
 "metadata": {
  "kernelspec": {
   "display_name": "QA--nlp (TrFs 2)",
   "language": "python",
   "name": "qa-old"
  },
  "language_info": {
   "codemirror_mode": {
    "name": "ipython",
    "version": 3
   },
   "file_extension": ".py",
   "mimetype": "text/x-python",
   "name": "python",
   "nbconvert_exporter": "python",
   "pygments_lexer": "ipython3",
   "version": "3.7.10"
  }
 },
 "nbformat": 4,
 "nbformat_minor": 5
}
