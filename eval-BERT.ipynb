{
 "cells": [
  {
   "cell_type": "code",
   "execution_count": null,
   "id": "43a5d3a5-92bf-4620-9f8f-e585f4bec0bc",
   "metadata": {},
   "outputs": [],
   "source": [
    "# !pip install torch transformers==2.11.0 nltk tqdm numpy pandas"
   ]
  },
  {
   "cell_type": "code",
   "execution_count": 2,
   "id": "a751b268-df47-4dcc-a7eb-6ec140cc3147",
   "metadata": {},
   "outputs": [],
   "source": [
    "import os, pickle, time, random, json, gc\n",
    "from datetime import datetime\n",
    "from tqdm import tqdm\n",
    "import gdown\n",
    "import numpy as np\n",
    "import pandas as pd\n",
    "import torch\n",
    "import transformers\n",
    "assert transformers.__version__ == '2.11.0', 'Wrong Transformer Version (must be 2.11.0). Please Factory Reset Runtime'\n",
    "from transformers import BertTokenizer"
   ]
  },
  {
   "cell_type": "code",
   "execution_count": 18,
   "id": "4e5c442e-32d3-4015-bbbf-306e9b5f3526",
   "metadata": {},
   "outputs": [
    {
     "data": {
      "text/plain": [
       "'models/final_BERT_model.pt'"
      ]
     },
     "execution_count": 18,
     "metadata": {},
     "output_type": "execute_result"
    }
   ],
   "source": [
    "# Download BERT model from GDrive\n",
    "gdown.download('https://drive.google.com/uc?id=1y267OwUrFRTCHxqet3l7dEEnCMmGZJGK',\n",
    "               quiet=True,\n",
    "               output='models/final_BERT_model.pt')"
   ]
  },
  {
   "cell_type": "code",
   "execution_count": 29,
   "id": "a49eac0b-2b3c-495d-97ba-7c5a3d6febe4",
   "metadata": {},
   "outputs": [],
   "source": [
    "MAX_SEQ_LEN = 128\n",
    "BERT_MODEL_PATH = 'models/final_BERT_model.pt'"
   ]
  },
  {
   "cell_type": "code",
   "execution_count": 30,
   "id": "515a42a6-a5aa-4ff0-ac94-58c462bae6ce",
   "metadata": {},
   "outputs": [],
   "source": [
    "def get_mask_ids(tokens):\n",
    "    return [1]*len(tokens) + [0] * (MAX_SEQ_LEN - len(tokens))\n",
    "\n",
    "def get_segment_ids(tokens):\n",
    "    segments = []\n",
    "    first_sep = True\n",
    "    current_segment_id = 0\n",
    "    for token in tokens:\n",
    "        segments.append(current_segment_id)\n",
    "        if token == \"[SEP]\":\n",
    "            if first_sep:\n",
    "                first_sep = False \n",
    "                current_segment_id = 1\n",
    "    assert current_segment_id == 1\n",
    "    return segments + [0] * (MAX_SEQ_LEN - len(tokens))\n",
    "\n",
    "def convert_to_input(tokenizer, text, ans=None):\n",
    "    text_token = tokenizer.tokenize(text)[:MAX_SEQ_LEN]\n",
    "    if ans:\n",
    "        ans_token= tokenizer.tokenize(ans)\n",
    "        text_token = text_token[:MAX_SEQ_LEN - (3-len(ans_token))]\n",
    "        all_tokens = [\"[CLS]\"] + text_token + [\"[SEP]\"] + ans_token + [\"[SEP]\"]\n",
    "    else:\n",
    "        text_token = text_token[:MAX_SEQ_LEN - 2]\n",
    "        all_tokens = [\"[CLS]\"] + text_token + [\"[SEP]\"]\n",
    "\n",
    "    token_ids = tokenizer.convert_tokens_to_ids(all_tokens)\n",
    "    input_ids = token_ids + [0] * (MAX_SEQ_LEN-len(token_ids))\n",
    "    \n",
    "    attention_mask = get_mask_ids(all_tokens)\n",
    "    token_type_ids = get_segment_ids(all_tokens)\n",
    "    return (\n",
    "        torch.tensor(input_ids, dtype=torch.long), \n",
    "        torch.tensor(attention_mask, dtype=torch.long), \n",
    "        torch.tensor(token_type_ids, dtype=torch.long), \n",
    "    )"
   ]
  },
  {
   "cell_type": "code",
   "execution_count": 31,
   "id": "c048a00b-4083-4e03-a353-68e5d6edfb85",
   "metadata": {},
   "outputs": [],
   "source": [
    "def bert_inference(bert_model, text, ans=None):\n",
    "    tokenizer = BertTokenizer.from_pretrained('bert-base-uncased', \n",
    "                                              do_lower_case=True)\n",
    "    vocab_size = tokenizer.vocab_size\n",
    "    input_ids, attention_mask, token_type_ids = (i.unsqueeze(0).to(device) for i in \n",
    "                            convert_to_input(tokenizer, text, ans))\n",
    "    logits = bert_model(\n",
    "        input_ids=input_ids,\n",
    "        attention_mask=attention_mask,\n",
    "        decoder_input_ids=input_ids,\n",
    "        token_type_ids=token_type_ids,\n",
    "        masked_lm_labels=None\n",
    "    )[0]\n",
    "    logits = logits.view(-1, vocab_size)\n",
    "    logits = logits.detach().cpu().numpy()\n",
    "\n",
    "    prediction_raw = logits.argmax(axis=1).flatten().squeeze()\n",
    "    predicted = list(prediction_raw)\n",
    "    try:\n",
    "        length = predicted.index(102) # find first sep token\n",
    "    except ValueError:\n",
    "        length = len(predicted)-1\n",
    "    \n",
    "    predicted = predicted[:length+1]\n",
    "    predicted = tokenizer.decode(predicted, skip_special_tokens=True)\n",
    "    return predicted"
   ]
  },
  {
   "cell_type": "code",
   "execution_count": null,
   "id": "e3181476-5a51-49f0-a1a8-47b238f8bb04",
   "metadata": {},
   "outputs": [],
   "source": [
    "assert torch.cuda.is_available(), 'CUDA device is required'"
   ]
  },
  {
   "cell_type": "code",
   "execution_count": 34,
   "id": "bd8bc8ba-1eee-4613-b370-e55609f1d42c",
   "metadata": {},
   "outputs": [],
   "source": [
    "device = torch.device('cuda' if torch.cuda.is_available() else 'cpu')"
   ]
  },
  {
   "cell_type": "code",
   "execution_count": 32,
   "id": "165f9839-af19-44cb-be3a-5581621c0f75",
   "metadata": {},
   "outputs": [],
   "source": [
    "bert_model = torch.load('models/final_BERT_model.pt')"
   ]
  },
  {
   "cell_type": "code",
   "execution_count": 38,
   "id": "ed211455-206f-4b29-8c3c-d856703fb290",
   "metadata": {},
   "outputs": [],
   "source": [
    "data_test = json.load(open('data/data_test.json', 'r'))"
   ]
  },
  {
   "cell_type": "code",
   "execution_count": 35,
   "id": "ccdedb5c-f674-4004-9ffa-9f01f6f2f537",
   "metadata": {},
   "outputs": [],
   "source": [
    "outputs = []\n",
    "for r in data_test:\n",
    "    outputs.append(bert_inference(bert_model, r['passages']))"
   ]
  },
  {
   "cell_type": "code",
   "execution_count": 36,
   "id": "012888d7-46b1-4a8c-a295-b3677993bfa1",
   "metadata": {},
   "outputs": [
    {
     "data": {
      "text/plain": [
       "['sir knight sir sir sir sir knight knight knight knight knight knight knight knight robin robin robin robin robin robin robin',\n",
       " 'she 1997 her her her her her her her \" \" \" \" \" \" \" \" \" \" \" \" \" \" \" \"',\n",
       " 'in 5 this heads this this thisev alexei alexei alexei alexei alexei alexei alexei',\n",
       " 'in \" \" \" \" \" \" \" \" \" \" \" \" \" \" \" \" \" \" \" \" \" \" \" \" \"',\n",
       " 'in 1930,,,, the the the to to to to to to to to to to to',\n",
       " 'kemp kemp kemp s s s s s s \" \" \" the the the the the the \" \"',\n",
       " 'uganda world,,,,,,,,',\n",
       " 'in \",,,,,,,,,,,,,,,,,,\\'street \"',\n",
       " 'in 2002 prime prime prime prime prime prime prime prime prime prime prime prime prime prime prime prime prime prime',\n",
       " 'he nov was was was was was justice justice justice justice justice justice justice justice justice justice justice',\n",
       " 'he the the the the the the the',\n",
       " 'benjamin \",,,,,, \" \" \" \" \" \" \" \" \" \" \"',\n",
       " '\" \" \" \" \" \" \" \" \" \" \" \" \" \" \" \" \" \" \" \" \" \" \" \" \" \" \" \" \" \"',\n",
       " 'a a tennis tennis tennis tennis tennis tennis tennis tennis tennis this -',\n",
       " 'in\\'\\'\\'\\' the the the in in in in in in in in in in in \" \" \"',\n",
       " 'in the,,,,,, as as as as president president president president president president president president president president president president',\n",
       " 'in title \" \" \" \" the \" \" the the the the the the the the the the the',\n",
       " 'in sir sir sir he he he he he he he a a a a a a a a a a']"
      ]
     },
     "execution_count": 36,
     "metadata": {},
     "output_type": "execute_result"
    }
   ],
   "source": [
    "outputs"
   ]
  },
  {
   "cell_type": "code",
   "execution_count": 41,
   "id": "0edee6ca-3f03-47d4-b1ba-2e58bd6b682e",
   "metadata": {},
   "outputs": [],
   "source": [
    "pd.DataFrame({'Truths (Bert)': [r['clues'] for r in data_test], 'Predicted (Bert)': outputs}).to_csv('data/results_BERT.csv', index=False)"
   ]
  },
  {
   "cell_type": "code",
   "execution_count": null,
   "id": "48ffdfc3-97eb-448c-bfe2-a8c2efe28cc8",
   "metadata": {},
   "outputs": [],
   "source": []
  }
 ],
 "metadata": {
  "kernelspec": {
   "display_name": "QA--nlp (TrFs 2)",
   "language": "python",
   "name": "qa-old"
  },
  "language_info": {
   "codemirror_mode": {
    "name": "ipython",
    "version": 3
   },
   "file_extension": ".py",
   "mimetype": "text/x-python",
   "name": "python",
   "nbconvert_exporter": "python",
   "pygments_lexer": "ipython3",
   "version": "3.7.10"
  }
 },
 "nbformat": 4,
 "nbformat_minor": 5
}
