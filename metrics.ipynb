{
 "cells": [
  {
   "cell_type": "code",
   "execution_count": 1,
   "metadata": {
    "colab": {
     "base_uri": "https://localhost:8080/"
    },
    "id": "D8PLiy1dj7L2",
    "outputId": "01081870-d96b-42ae-cd98-ca74971e7161"
   },
   "outputs": [],
   "source": [
    "# !pip install -U nltk\n",
    "# !pip install easy-rouge"
   ]
  },
  {
   "cell_type": "code",
   "execution_count": 2,
   "metadata": {
    "colab": {
     "base_uri": "https://localhost:8080/"
    },
    "id": "FAB2ZC_lJmXF",
    "outputId": "b2a0a1ab-b0f0-49cd-aaf8-b0ecd32bd221"
   },
   "outputs": [
    {
     "name": "stderr",
     "output_type": "stream",
     "text": [
      "[nltk_data] Downloading package wordnet to /home/dojo/nltk_data...\n",
      "[nltk_data]   Package wordnet is already up-to-date!\n"
     ]
    },
    {
     "data": {
      "text/plain": [
       "True"
      ]
     },
     "execution_count": 2,
     "metadata": {},
     "output_type": "execute_result"
    }
   ],
   "source": [
    "import pandas as pd\n",
    "import string, re\n",
    "import numpy as np\n",
    "from tqdm import tqdm\n",
    "from rouge.rouge import rouge_n_sentence_level\n",
    "import nltk\n",
    "nltk.download('wordnet')"
   ]
  },
  {
   "cell_type": "code",
   "execution_count": 3,
   "metadata": {},
   "outputs": [],
   "source": [
    "df_bert = pd.read_csv('data/results_BERT.csv')"
   ]
  },
  {
   "cell_type": "code",
   "execution_count": 4,
   "metadata": {},
   "outputs": [],
   "source": [
    "df_t5 = pd.read_csv('data/results_T5.csv')"
   ]
  },
  {
   "cell_type": "code",
   "execution_count": 5,
   "metadata": {},
   "outputs": [],
   "source": [
    "df = pd.concat([df_bert, df_t5], axis=1).dropna().reset_index(drop=True)"
   ]
  },
  {
   "cell_type": "code",
   "execution_count": 6,
   "metadata": {
    "colab": {
     "base_uri": "https://localhost:8080/",
     "height": 391
    },
    "id": "KBS9R-ILilrY",
    "outputId": "228b0e34-2029-4b70-ed25-b7b39d990f37"
   },
   "outputs": [
    {
     "data": {
      "text/html": [
       "<div>\n",
       "<style scoped>\n",
       "    .dataframe tbody tr th:only-of-type {\n",
       "        vertical-align: middle;\n",
       "    }\n",
       "\n",
       "    .dataframe tbody tr th {\n",
       "        vertical-align: top;\n",
       "    }\n",
       "\n",
       "    .dataframe thead th {\n",
       "        text-align: right;\n",
       "    }\n",
       "</style>\n",
       "<table border=\"1\" class=\"dataframe\">\n",
       "  <thead>\n",
       "    <tr style=\"text-align: right;\">\n",
       "      <th></th>\n",
       "      <th>Truths (Bert)</th>\n",
       "      <th>Predicted (Bert)</th>\n",
       "      <th>Truths (T5)</th>\n",
       "      <th>Predicted (T5)</th>\n",
       "    </tr>\n",
       "  </thead>\n",
       "  <tbody>\n",
       "    <tr>\n",
       "      <th>0</th>\n",
       "      <td>This Arthurian hero stars in an alliterative M...</td>\n",
       "      <td>sir knight sir sir sir sir knight knight knigh...</td>\n",
       "      <td>This Arthurian hero stars in an alliterative M...</td>\n",
       "      <td>Who wrote the book \"The Crown\"?</td>\n",
       "    </tr>\n",
       "    <tr>\n",
       "      <th>1</th>\n",
       "      <td>In 2001 she made history: her album \"J. Lo\" &amp; ...</td>\n",
       "      <td>she 1997 her her her her her her her \" \" \" \" \"...</td>\n",
       "      <td>In 2001 she made history: her album \"J. Lo\" &amp; ...</td>\n",
       "      <td>When did Lopez release her second studio album...</td>\n",
       "    </tr>\n",
       "    <tr>\n",
       "      <th>2</th>\n",
       "      <td>Among the 854 people the Russian Orthodox Chur...</td>\n",
       "      <td>in 5 this heads this this thisev alexei alexei...</td>\n",
       "      <td>Among the 854 people the Russian Orthodox Chur...</td>\n",
       "      <td>In what year did Nicholas Alexei die?</td>\n",
       "    </tr>\n",
       "    <tr>\n",
       "      <th>3</th>\n",
       "      <td>Joe Cocker sang \"Up Where We Belong\", the love...</td>\n",
       "      <td>in \" \" \" \" \" \" \" \" \" \" \" \" \" \" \" \" \" \" \" \" \" \"...</td>\n",
       "      <td>Joe Cocker sang \"Up Where We Belong\", the love...</td>\n",
       "      <td>Who wrote \"Up Where We Belong\" for the 1982 fi...</td>\n",
       "    </tr>\n",
       "    <tr>\n",
       "      <th>4</th>\n",
       "      <td>This 1917 British declaration favored \"the est...</td>\n",
       "      <td>in 1930,,,, the the the to to to to to to to t...</td>\n",
       "      <td>This 1917 British declaration favored \"the est...</td>\n",
       "      <td>When was the Balfour Declaration issued?</td>\n",
       "    </tr>\n",
       "  </tbody>\n",
       "</table>\n",
       "</div>"
      ],
      "text/plain": [
       "                                       Truths (Bert)  \\\n",
       "0  This Arthurian hero stars in an alliterative M...   \n",
       "1  In 2001 she made history: her album \"J. Lo\" & ...   \n",
       "2  Among the 854 people the Russian Orthodox Chur...   \n",
       "3  Joe Cocker sang \"Up Where We Belong\", the love...   \n",
       "4  This 1917 British declaration favored \"the est...   \n",
       "\n",
       "                                    Predicted (Bert)  \\\n",
       "0  sir knight sir sir sir sir knight knight knigh...   \n",
       "1  she 1997 her her her her her her her \" \" \" \" \"...   \n",
       "2  in 5 this heads this this thisev alexei alexei...   \n",
       "3  in \" \" \" \" \" \" \" \" \" \" \" \" \" \" \" \" \" \" \" \" \" \"...   \n",
       "4  in 1930,,,, the the the to to to to to to to t...   \n",
       "\n",
       "                                         Truths (T5)  \\\n",
       "0  This Arthurian hero stars in an alliterative M...   \n",
       "1  In 2001 she made history: her album \"J. Lo\" & ...   \n",
       "2  Among the 854 people the Russian Orthodox Chur...   \n",
       "3  Joe Cocker sang \"Up Where We Belong\", the love...   \n",
       "4  This 1917 British declaration favored \"the est...   \n",
       "\n",
       "                                      Predicted (T5)  \n",
       "0                    Who wrote the book \"The Crown\"?  \n",
       "1  When did Lopez release her second studio album...  \n",
       "2              In what year did Nicholas Alexei die?  \n",
       "3  Who wrote \"Up Where We Belong\" for the 1982 fi...  \n",
       "4           When was the Balfour Declaration issued?  "
      ]
     },
     "execution_count": 6,
     "metadata": {},
     "output_type": "execute_result"
    }
   ],
   "source": [
    "df.head()"
   ]
  },
  {
   "cell_type": "code",
   "execution_count": 7,
   "metadata": {
    "id": "102Zyl9YmqKF"
   },
   "outputs": [],
   "source": [
    "df_out = pd.DataFrame({\n",
    "    'Rouge (T5)': np.zeros(len(df)),\n",
    "    'Rouge (Bert)': np.zeros(len(df)),\n",
    "    'BLEU (T5)': np.zeros(len(df)),\n",
    "    'BLEU (Bert)': np.zeros(len(df)),\n",
    "    'METEOR (T5)': np.zeros(len(df)),\n",
    "    'METEOR (Bert)': np.zeros(len(df)),\n",
    "})"
   ]
  },
  {
   "cell_type": "code",
   "execution_count": 8,
   "metadata": {
    "id": "P2U-1T9P36QR"
   },
   "outputs": [],
   "source": [
    "def clean_sentence(collection):\n",
    "    collection = collection.translate(str.maketrans('','',string.punctuation))\n",
    "    collection = re.sub(r'\\d+', '', collection)\n",
    "    collection = collection.strip()\n",
    "    return collection.split()"
   ]
  },
  {
   "cell_type": "code",
   "execution_count": 9,
   "metadata": {
    "colab": {
     "base_uri": "https://localhost:8080/"
    },
    "id": "kPBnBsiJnw2t",
    "outputId": "d75f4e80-7387-4bc9-cc4f-a52e1e4dcaba"
   },
   "outputs": [
    {
     "name": "stderr",
     "output_type": "stream",
     "text": [
      " 12%|█▏        | 2/17 [00:01<00:11,  1.32it/s]/home/dojo/dev/.pyvenvs/qa-old/lib/python3.7/site-packages/nltk/translate/bleu_score.py:516: UserWarning: \n",
      "The hypothesis contains 0 counts of 4-gram overlaps.\n",
      "Therefore the BLEU score evaluates to 0, independently of\n",
      "how many N-gram overlaps of lower order it contains.\n",
      "Consider using lower n-gram order or use SmoothingFunction()\n",
      "  warnings.warn(_msg)\n",
      " 18%|█▊        | 3/17 [00:01<00:06,  2.17it/s]/home/dojo/dev/.pyvenvs/qa-old/lib/python3.7/site-packages/nltk/translate/bleu_score.py:516: UserWarning: \n",
      "The hypothesis contains 0 counts of 3-gram overlaps.\n",
      "Therefore the BLEU score evaluates to 0, independently of\n",
      "how many N-gram overlaps of lower order it contains.\n",
      "Consider using lower n-gram order or use SmoothingFunction()\n",
      "  warnings.warn(_msg)\n",
      "100%|██████████| 17/17 [00:03<00:00,  5.22it/s]\n"
     ]
    }
   ],
   "source": [
    "for i in tqdm(range(len(df))):\n",
    "    row = df.iloc[i]\n",
    "    truth = row['Truths (T5)'].lower()\n",
    "    t5 = row['Predicted (T5)'].lower()\n",
    "    bert = row['Predicted (Bert)'].lower()\n",
    "\n",
    "    recall, precision, rouge = rouge_n_sentence_level(\n",
    "        truth.split(),\n",
    "        t5.split(),\n",
    "        2)\n",
    "    df_out.iloc[i]['Rouge (T5)'] = rouge\n",
    "    \n",
    "    recall, precision, rouge = rouge_n_sentence_level(\n",
    "        truth.split(),\n",
    "        bert.split(),\n",
    "        2)\n",
    "    df_out.iloc[i]['Rouge (Bert)'] = rouge\n",
    "\n",
    "    df_out.iloc[i]['BLEU (Bert)'] = nltk.translate.bleu_score.sentence_bleu(\n",
    "        [truth], bert)\n",
    "    df_out.iloc[i]['BLEU (T5)'] = nltk.translate.bleu_score.sentence_bleu(\n",
    "        [truth], t5)\n",
    "\n",
    "    df_out.iloc[i]['METEOR (Bert)'] = nltk.translate.meteor_score.meteor_score(truth, bert)\n",
    "    df_out.iloc[i]['METEOR (T5)'] = nltk.translate.meteor_score.meteor_score(truth, t5)"
   ]
  },
  {
   "cell_type": "code",
   "execution_count": 11,
   "metadata": {
    "id": "7CZNnJrQjs97"
   },
   "outputs": [],
   "source": [
    "final_results = pd.concat([df, df_out], axis=1)#.to_csv('data/results_with_metrics.csv')"
   ]
  },
  {
   "cell_type": "code",
   "execution_count": 13,
   "metadata": {
    "id": "8VJbLC1Cs6Cc"
   },
   "outputs": [
    {
     "data": {
      "text/html": [
       "<div>\n",
       "<style scoped>\n",
       "    .dataframe tbody tr th:only-of-type {\n",
       "        vertical-align: middle;\n",
       "    }\n",
       "\n",
       "    .dataframe tbody tr th {\n",
       "        vertical-align: top;\n",
       "    }\n",
       "\n",
       "    .dataframe thead th {\n",
       "        text-align: right;\n",
       "    }\n",
       "</style>\n",
       "<table border=\"1\" class=\"dataframe\">\n",
       "  <thead>\n",
       "    <tr style=\"text-align: right;\">\n",
       "      <th></th>\n",
       "      <th>Truths (Bert)</th>\n",
       "      <th>Predicted (Bert)</th>\n",
       "      <th>Truths (T5)</th>\n",
       "      <th>Predicted (T5)</th>\n",
       "      <th>Rouge (T5)</th>\n",
       "      <th>Rouge (Bert)</th>\n",
       "      <th>BLEU (T5)</th>\n",
       "      <th>BLEU (Bert)</th>\n",
       "      <th>METEOR (T5)</th>\n",
       "      <th>METEOR (Bert)</th>\n",
       "    </tr>\n",
       "  </thead>\n",
       "  <tbody>\n",
       "    <tr>\n",
       "      <th>0</th>\n",
       "      <td>This Arthurian hero stars in an alliterative M...</td>\n",
       "      <td>sir knight sir sir sir sir knight knight knigh...</td>\n",
       "      <td>This Arthurian hero stars in an alliterative M...</td>\n",
       "      <td>Who wrote the book \"The Crown\"?</td>\n",
       "      <td>0.0000</td>\n",
       "      <td>0.0</td>\n",
       "      <td>2.956733e-02</td>\n",
       "      <td>1.065140e-01</td>\n",
       "      <td>0.000000</td>\n",
       "      <td>0.000000</td>\n",
       "    </tr>\n",
       "    <tr>\n",
       "      <th>1</th>\n",
       "      <td>In 2001 she made history: her album \"J. Lo\" &amp; ...</td>\n",
       "      <td>she 1997 her her her her her her her \" \" \" \" \"...</td>\n",
       "      <td>In 2001 she made history: her album \"J. Lo\" &amp; ...</td>\n",
       "      <td>When did Lopez release her second studio album...</td>\n",
       "      <td>0.0625</td>\n",
       "      <td>0.0</td>\n",
       "      <td>2.945475e-01</td>\n",
       "      <td>1.149156e-01</td>\n",
       "      <td>0.250000</td>\n",
       "      <td>0.147059</td>\n",
       "    </tr>\n",
       "    <tr>\n",
       "      <th>2</th>\n",
       "      <td>Among the 854 people the Russian Orthodox Chur...</td>\n",
       "      <td>in 5 this heads this this thisev alexei alexei...</td>\n",
       "      <td>Among the 854 people the Russian Orthodox Chur...</td>\n",
       "      <td>In what year did Nicholas Alexei die?</td>\n",
       "      <td>0.0000</td>\n",
       "      <td>0.0</td>\n",
       "      <td>5.670795e-79</td>\n",
       "      <td>9.853621e-02</td>\n",
       "      <td>0.000000</td>\n",
       "      <td>0.217391</td>\n",
       "    </tr>\n",
       "    <tr>\n",
       "      <th>3</th>\n",
       "      <td>Joe Cocker sang \"Up Where We Belong\", the love...</td>\n",
       "      <td>in \" \" \" \" \" \" \" \" \" \" \" \" \" \" \" \" \" \" \" \" \" \"...</td>\n",
       "      <td>Joe Cocker sang \"Up Where We Belong\", the love...</td>\n",
       "      <td>Who wrote \"Up Where We Belong\" for the 1982 fi...</td>\n",
       "      <td>0.2500</td>\n",
       "      <td>0.0</td>\n",
       "      <td>5.060635e-01</td>\n",
       "      <td>2.270750e-155</td>\n",
       "      <td>0.208333</td>\n",
       "      <td>0.142857</td>\n",
       "    </tr>\n",
       "    <tr>\n",
       "      <th>4</th>\n",
       "      <td>This 1917 British declaration favored \"the est...</td>\n",
       "      <td>in 1930,,,, the the the to to to to to to to t...</td>\n",
       "      <td>This 1917 British declaration favored \"the est...</td>\n",
       "      <td>When was the Balfour Declaration issued?</td>\n",
       "      <td>0.0000</td>\n",
       "      <td>0.0</td>\n",
       "      <td>9.077182e-02</td>\n",
       "      <td>7.196935e-02</td>\n",
       "      <td>0.000000</td>\n",
       "      <td>0.000000</td>\n",
       "    </tr>\n",
       "  </tbody>\n",
       "</table>\n",
       "</div>"
      ],
      "text/plain": [
       "                                       Truths (Bert)  \\\n",
       "0  This Arthurian hero stars in an alliterative M...   \n",
       "1  In 2001 she made history: her album \"J. Lo\" & ...   \n",
       "2  Among the 854 people the Russian Orthodox Chur...   \n",
       "3  Joe Cocker sang \"Up Where We Belong\", the love...   \n",
       "4  This 1917 British declaration favored \"the est...   \n",
       "\n",
       "                                    Predicted (Bert)  \\\n",
       "0  sir knight sir sir sir sir knight knight knigh...   \n",
       "1  she 1997 her her her her her her her \" \" \" \" \"...   \n",
       "2  in 5 this heads this this thisev alexei alexei...   \n",
       "3  in \" \" \" \" \" \" \" \" \" \" \" \" \" \" \" \" \" \" \" \" \" \"...   \n",
       "4  in 1930,,,, the the the to to to to to to to t...   \n",
       "\n",
       "                                         Truths (T5)  \\\n",
       "0  This Arthurian hero stars in an alliterative M...   \n",
       "1  In 2001 she made history: her album \"J. Lo\" & ...   \n",
       "2  Among the 854 people the Russian Orthodox Chur...   \n",
       "3  Joe Cocker sang \"Up Where We Belong\", the love...   \n",
       "4  This 1917 British declaration favored \"the est...   \n",
       "\n",
       "                                      Predicted (T5)  Rouge (T5)  \\\n",
       "0                    Who wrote the book \"The Crown\"?      0.0000   \n",
       "1  When did Lopez release her second studio album...      0.0625   \n",
       "2              In what year did Nicholas Alexei die?      0.0000   \n",
       "3  Who wrote \"Up Where We Belong\" for the 1982 fi...      0.2500   \n",
       "4           When was the Balfour Declaration issued?      0.0000   \n",
       "\n",
       "   Rouge (Bert)     BLEU (T5)    BLEU (Bert)  METEOR (T5)  METEOR (Bert)  \n",
       "0           0.0  2.956733e-02   1.065140e-01     0.000000       0.000000  \n",
       "1           0.0  2.945475e-01   1.149156e-01     0.250000       0.147059  \n",
       "2           0.0  5.670795e-79   9.853621e-02     0.000000       0.217391  \n",
       "3           0.0  5.060635e-01  2.270750e-155     0.208333       0.142857  \n",
       "4           0.0  9.077182e-02   7.196935e-02     0.000000       0.000000  "
      ]
     },
     "execution_count": 13,
     "metadata": {},
     "output_type": "execute_result"
    }
   ],
   "source": [
    "final_results.head()"
   ]
  },
  {
   "cell_type": "code",
   "execution_count": null,
   "metadata": {},
   "outputs": [],
   "source": []
  }
 ],
 "metadata": {
  "colab": {
   "collapsed_sections": [],
   "name": "nlp_metrics.ipynb",
   "provenance": []
  },
  "kernelspec": {
   "display_name": "QA--nlp (TrFs 2)",
   "language": "python",
   "name": "qa-old"
  },
  "language_info": {
   "codemirror_mode": {
    "name": "ipython",
    "version": 3
   },
   "file_extension": ".py",
   "mimetype": "text/x-python",
   "name": "python",
   "nbconvert_exporter": "python",
   "pygments_lexer": "ipython3",
   "version": "3.7.10"
  }
 },
 "nbformat": 4,
 "nbformat_minor": 4
}
